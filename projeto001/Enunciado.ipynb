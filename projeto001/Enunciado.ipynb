{
 "cells": [
  {
   "cell_type": "markdown",
   "metadata": {},
   "source": [
    "#  Projeto 01 - Análise de Viagens de Bicicleta\n",
    "\n",
    "Como o mais novo cientista de dados da Cycle Sharing CO. seu objetivo nesse projeto é gerar dados e insights para as equipes de marketing e de operações. \n",
    "\n",
    "A equipe de marketing precisa entender qual é o perfil do nosso cliente em termos de sexo, idade, duração e localização das viagens para criarem um plano de propaganda que possa ser efetivo para grupos diferentes (é o seu papel definir quais serão os grupos e os que diferencia -- dica: gerações diferentes devem ser engajadas de formas diferentes). \n",
    "\n",
    "O time de operações gostaria de entender em termos geográficos, quais são as estações que mais são utilizadas, as que tem mais bicicletas retiradas, as que tem bicicletas mais entregues e se é necessário criar mais estações, se sim, onde ou se é melhor aumentar a quantidade de bicicletas na estação (dica: crie uma timeline diária de cada estação e veja quanto tempo cada estação passa sem nenhuma bicicleta, esse pode ser um indicador de que há bicicletas insuficientes). A equipe de operações também precisa saber, para fins de manutenção, quais as estações mais utilizadas em dias de chuva e neve."
   ]
  },
  {
   "cell_type": "markdown",
   "metadata": {},
   "source": [
    "# Método de Entrega\n",
    "\n",
    "> O aluno deverá entregar a apresentação de slides em pdf + notebook com as análises e códigos em HTML pelo blackboard até o dia 30/10."
   ]
  }
 ],
 "metadata": {
  "kernelspec": {
   "display_name": "Python 3.7.6 64-bit ('base': conda)",
   "language": "python",
   "name": "python37664bitbaseconda774df39cacc84caf9286edd8f47a70cc"
  },
  "language_info": {
   "codemirror_mode": {
    "name": "ipython",
    "version": 3
   },
   "file_extension": ".py",
   "mimetype": "text/x-python",
   "name": "python",
   "nbconvert_exporter": "python",
   "pygments_lexer": "ipython3",
   "version": "3.7.6"
  }
 },
 "nbformat": 4,
 "nbformat_minor": 4
}
