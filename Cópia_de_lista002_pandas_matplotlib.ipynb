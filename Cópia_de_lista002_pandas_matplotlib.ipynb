{
  "nbformat": 4,
  "nbformat_minor": 0,
  "metadata": {
    "kernelspec": {
      "display_name": "Python 3.7.6 64-bit ('base': conda)",
      "language": "python",
      "name": "python37664bitbaseconda774df39cacc84caf9286edd8f47a70cc"
    },
    "language_info": {
      "codemirror_mode": {
        "name": "ipython",
        "version": 3
      },
      "file_extension": ".py",
      "mimetype": "text/x-python",
      "name": "python",
      "nbconvert_exporter": "python",
      "pygments_lexer": "ipython3",
      "version": "3.7.6"
    },
    "colab": {
      "name": "Cópia de lista002_pandas_matplotlib.ipynb",
      "provenance": [],
      "include_colab_link": true
    }
  },
  "cells": [
    {
      "cell_type": "markdown",
      "metadata": {
        "id": "view-in-github",
        "colab_type": "text"
      },
      "source": [
        "<a href=\"https://colab.research.google.com/github/raquelcreis/CastoresIndomaveis/blob/master/C%C3%B3pia_de_lista002_pandas_matplotlib.ipynb\" target=\"_parent\"><img src=\"https://colab.research.google.com/assets/colab-badge.svg\" alt=\"Open In Colab\"/></a>"
      ]
    },
    {
      "cell_type": "markdown",
      "metadata": {
        "id": "cOsev0q6mTnO",
        "colab_type": "text"
      },
      "source": [
        "# Lista 002 - Pandas, Matplotlib, GeoPandas e Folium.\n",
        "\n",
        "\n",
        "1. Monte um dataframe contendo todas as informações dos arquivos csv em 'data/transito'."
      ]
    },
    {
      "cell_type": "code",
      "metadata": {
        "id": "5NcKKmUwn2ey",
        "colab_type": "code",
        "colab": {
          "base_uri": "https://localhost:8080/",
          "height": 649
        },
        "outputId": "443fe8e2-0fbb-4d8d-b52f-f6f6d8003995"
      },
      "source": [
        "import pandas as pd\n",
        "\n",
        "# arquivos csv separados em meses (de jan a jul)\n",
        "\n",
        "meses = [\"janeiro\",\"fevereiro\",\"marco\",\"abril\",\"maio\",\"junho\",\"julho\"]\n",
        "path = \"https://raw.githubusercontent.com/raquelcreis/CastoresIndomaveis/master/data/transito/\"\n",
        "csv_str = \".csv\"\n",
        "lista_dfs = []\n",
        "\n",
        "for mes in meses:\n",
        "  df_mes = pd.read_csv(path+mes+csv_str,sep=';',low_memory=False)\n",
        "  lista_dfs.append(df_mes) \n",
        "\n",
        "df = pd.concat(lista_dfs,ignore_index=True)\n",
        "\n",
        "df.head()"
      ],
      "execution_count": 1,
      "outputs": [
        {
          "output_type": "execute_result",
          "data": {
            "text/html": [
              "<div>\n",
              "<style scoped>\n",
              "    .dataframe tbody tr th:only-of-type {\n",
              "        vertical-align: middle;\n",
              "    }\n",
              "\n",
              "    .dataframe tbody tr th {\n",
              "        vertical-align: top;\n",
              "    }\n",
              "\n",
              "    .dataframe thead th {\n",
              "        text-align: right;\n",
              "    }\n",
              "</style>\n",
              "<table border=\"1\" class=\"dataframe\">\n",
              "  <thead>\n",
              "    <tr style=\"text-align: right;\">\n",
              "      <th></th>\n",
              "      <th>tipo_infracao</th>\n",
              "      <th>descricao</th>\n",
              "      <th>tipo_infrator</th>\n",
              "      <th>tipo_veiculo</th>\n",
              "      <th>cometimento</th>\n",
              "      <th>hora_cometimento</th>\n",
              "      <th>auinf_local_rodovia</th>\n",
              "      <th>auinf_local_km</th>\n",
              "      <th>auinf_local_referencia</th>\n",
              "      <th>auinf_local_complemento</th>\n",
              "      <th>auinf_local_latitude</th>\n",
              "      <th>auinf_local_longitude</th>\n",
              "      <th>grav_tipo</th>\n",
              "    </tr>\n",
              "  </thead>\n",
              "  <tbody>\n",
              "    <tr>\n",
              "      <th>0</th>\n",
              "      <td>7234-0</td>\n",
              "      <td>Em movimento, deixar de manter acesa a luz bai...</td>\n",
              "      <td>Condutor</td>\n",
              "      <td>Automóvel</td>\n",
              "      <td>01/01/2020</td>\n",
              "      <td>00:00</td>\n",
              "      <td>DF004</td>\n",
              "      <td>14</td>\n",
              "      <td>Sentido Decrescente</td>\n",
              "      <td>NaN</td>\n",
              "      <td>-1.582.128.023</td>\n",
              "      <td>-4.788.254.337</td>\n",
              "      <td>Média</td>\n",
              "    </tr>\n",
              "    <tr>\n",
              "      <th>1</th>\n",
              "      <td>7455-0</td>\n",
              "      <td>Transitar em velocidade superior à máxima perm...</td>\n",
              "      <td>Condutor</td>\n",
              "      <td>UTILITARIO</td>\n",
              "      <td>01/01/2020</td>\n",
              "      <td>00:00</td>\n",
              "      <td>DF-025 (EPDB) KM 1,3 (ALT. FLORICULTURAS) SENT...</td>\n",
              "      <td>NaN</td>\n",
              "      <td>NaN</td>\n",
              "      <td>NaN</td>\n",
              "      <td>NaN</td>\n",
              "      <td>NaN</td>\n",
              "      <td>Média</td>\n",
              "    </tr>\n",
              "    <tr>\n",
              "      <th>2</th>\n",
              "      <td>7455-0</td>\n",
              "      <td>Transitar em velocidade superior à máxima perm...</td>\n",
              "      <td>Condutor</td>\n",
              "      <td>AUTOMOVEL</td>\n",
              "      <td>01/01/2020</td>\n",
              "      <td>00:01</td>\n",
              "      <td>DF-001(EPCT)Km 57,6 Sent. Rec. das Emas/Viadut...</td>\n",
              "      <td>NaN</td>\n",
              "      <td>NaN</td>\n",
              "      <td>NaN</td>\n",
              "      <td>NaN</td>\n",
              "      <td>NaN</td>\n",
              "      <td>Média</td>\n",
              "    </tr>\n",
              "    <tr>\n",
              "      <th>3</th>\n",
              "      <td>7455-0</td>\n",
              "      <td>Transitar em velocidade superior à máxima perm...</td>\n",
              "      <td>Condutor</td>\n",
              "      <td>AUTOMOVEL</td>\n",
              "      <td>01/01/2020</td>\n",
              "      <td>00:01</td>\n",
              "      <td>DF-001(EPCT)Km 65,5 Sent. Samambaia/Viaduto do...</td>\n",
              "      <td>NaN</td>\n",
              "      <td>NaN</td>\n",
              "      <td>NaN</td>\n",
              "      <td>NaN</td>\n",
              "      <td>NaN</td>\n",
              "      <td>Média</td>\n",
              "    </tr>\n",
              "    <tr>\n",
              "      <th>4</th>\n",
              "      <td>7455-0</td>\n",
              "      <td>Transitar em velocidade superior à máxima perm...</td>\n",
              "      <td>Condutor</td>\n",
              "      <td>AUTOMOVEL</td>\n",
              "      <td>01/01/2020</td>\n",
              "      <td>00:03</td>\n",
              "      <td>DF-075 (EPNB) KM 2,4 SENT. N. BAND / EPIA (DF-...</td>\n",
              "      <td>NaN</td>\n",
              "      <td>NaN</td>\n",
              "      <td>NaN</td>\n",
              "      <td>NaN</td>\n",
              "      <td>NaN</td>\n",
              "      <td>Média</td>\n",
              "    </tr>\n",
              "  </tbody>\n",
              "</table>\n",
              "</div>"
            ],
            "text/plain": [
              "  tipo_infracao  ... grav_tipo\n",
              "0        7234-0  ...     Média\n",
              "1        7455-0  ...     Média\n",
              "2        7455-0  ...     Média\n",
              "3        7455-0  ...     Média\n",
              "4        7455-0  ...     Média\n",
              "\n",
              "[5 rows x 13 columns]"
            ]
          },
          "metadata": {
            "tags": []
          },
          "execution_count": 1
        }
      ]
    },
    {
      "cell_type": "code",
      "metadata": {
        "id": "2fyhH01CuoAy",
        "colab_type": "code",
        "colab": {
          "base_uri": "https://localhost:8080/",
          "height": 34
        },
        "outputId": "fda876af-4d54-4c07-bca9-deb5be15c976"
      },
      "source": [
        "df.shape"
      ],
      "execution_count": 2,
      "outputs": [
        {
          "output_type": "execute_result",
          "data": {
            "text/plain": [
              "(500495, 13)"
            ]
          },
          "metadata": {
            "tags": []
          },
          "execution_count": 2
        }
      ]
    },
    {
      "cell_type": "code",
      "metadata": {
        "id": "Ot0eBYRAtHOL",
        "colab_type": "code",
        "colab": {
          "base_uri": "https://localhost:8080/",
          "height": 34
        },
        "outputId": "9849ef85-0a56-49ce-fc6b-38a925c82d42"
      },
      "source": [
        "type(df)"
      ],
      "execution_count": 3,
      "outputs": [
        {
          "output_type": "execute_result",
          "data": {
            "text/plain": [
              "pandas.core.frame.DataFrame"
            ]
          },
          "metadata": {
            "tags": []
          },
          "execution_count": 3
        }
      ]
    },
    {
      "cell_type": "code",
      "metadata": {
        "id": "teu1JIP_sV4G",
        "colab_type": "code",
        "colab": {
          "base_uri": "https://localhost:8080/",
          "height": 357
        },
        "outputId": "8395c520-2832-41dd-bbae-40dbfe30607d"
      },
      "source": [
        "df.info()"
      ],
      "execution_count": 4,
      "outputs": [
        {
          "output_type": "stream",
          "text": [
            "<class 'pandas.core.frame.DataFrame'>\n",
            "RangeIndex: 500495 entries, 0 to 500494\n",
            "Data columns (total 13 columns):\n",
            " #   Column                   Non-Null Count   Dtype \n",
            "---  ------                   --------------   ----- \n",
            " 0   tipo_infracao            500495 non-null  object\n",
            " 1   descricao                500495 non-null  object\n",
            " 2   tipo_infrator            500495 non-null  object\n",
            " 3   tipo_veiculo             500328 non-null  object\n",
            " 4   cometimento              500495 non-null  object\n",
            " 5   hora_cometimento         500495 non-null  object\n",
            " 6   auinf_local_rodovia      500448 non-null  object\n",
            " 7   auinf_local_km           83575 non-null   object\n",
            " 8   auinf_local_referencia   82404 non-null   object\n",
            " 9   auinf_local_complemento  17867 non-null   object\n",
            " 10  auinf_local_latitude     76044 non-null   object\n",
            " 11  auinf_local_longitude    76044 non-null   object\n",
            " 12  grav_tipo                500495 non-null  object\n",
            "dtypes: object(13)\n",
            "memory usage: 49.6+ MB\n"
          ],
          "name": "stdout"
        }
      ]
    },
    {
      "cell_type": "code",
      "metadata": {
        "id": "hzyysbr5sy2F",
        "colab_type": "code",
        "colab": {
          "base_uri": "https://localhost:8080/",
          "height": 102
        },
        "outputId": "6f789969-71fd-4566-c23a-6d8106b77aa6"
      },
      "source": [
        "df.columns"
      ],
      "execution_count": 5,
      "outputs": [
        {
          "output_type": "execute_result",
          "data": {
            "text/plain": [
              "Index(['tipo_infracao', 'descricao', 'tipo_infrator', 'tipo_veiculo',\n",
              "       'cometimento', 'hora_cometimento', 'auinf_local_rodovia',\n",
              "       'auinf_local_km', 'auinf_local_referencia', 'auinf_local_complemento',\n",
              "       'auinf_local_latitude', 'auinf_local_longitude', 'grav_tipo'],\n",
              "      dtype='object')"
            ]
          },
          "metadata": {
            "tags": []
          },
          "execution_count": 5
        }
      ]
    },
    {
      "cell_type": "markdown",
      "metadata": {
        "id": "G2TnAoROzotw",
        "colab_type": "text"
      },
      "source": [
        "2. Quantos tipos diferentes de gravidade de infração exitem no dataset? Quais são?"
      ]
    },
    {
      "cell_type": "code",
      "metadata": {
        "id": "ZaKHAaaTzrOO",
        "colab_type": "code",
        "colab": {
          "base_uri": "https://localhost:8080/",
          "height": 34
        },
        "outputId": "7ce0636f-937c-4730-b2f1-487714b7b887"
      },
      "source": [
        "df.grav_tipo.nunique()"
      ],
      "execution_count": 7,
      "outputs": [
        {
          "output_type": "execute_result",
          "data": {
            "text/plain": [
              "4"
            ]
          },
          "metadata": {
            "tags": []
          },
          "execution_count": 7
        }
      ]
    },
    {
      "cell_type": "code",
      "metadata": {
        "id": "Ujq440jQ0XiM",
        "colab_type": "code",
        "colab": {
          "base_uri": "https://localhost:8080/",
          "height": 34
        },
        "outputId": "c20f9773-06d4-4dbf-997a-d5615d6c1137"
      },
      "source": [
        "df.grav_tipo.unique()"
      ],
      "execution_count": 8,
      "outputs": [
        {
          "output_type": "execute_result",
          "data": {
            "text/plain": [
              "array(['Média', 'Gravíssima', 'Grave', 'Leve'], dtype=object)"
            ]
          },
          "metadata": {
            "tags": []
          },
          "execution_count": 8
        }
      ]
    },
    {
      "cell_type": "markdown",
      "metadata": {
        "id": "8lad7PZZ0xrT",
        "colab_type": "text"
      },
      "source": [
        "3. Qual a hora do dia que mais se cometem infrações graves? Demonstre utilizando um gráfico de linhas."
      ]
    },
    {
      "cell_type": "code",
      "metadata": {
        "id": "G7ol2Pbi2YVR",
        "colab_type": "code",
        "colab": {}
      },
      "source": [
        "# criada uma coluna que vai armazenar apenas a hora "
      ],
      "execution_count": 47,
      "outputs": []
    },
    {
      "cell_type": "code",
      "metadata": {
        "id": "XNkXWIdeuBu3",
        "colab_type": "code",
        "colab": {}
      },
      "source": [
        "df['hora_cometimento_2'] = pd.to_datetime(df['hora_cometimento'],format='%H:%M').dt.hour"
      ],
      "execution_count": 9,
      "outputs": []
    },
    {
      "cell_type": "code",
      "metadata": {
        "id": "AKOSwQli3wXL",
        "colab_type": "code",
        "colab": {
          "base_uri": "https://localhost:8080/",
          "height": 265
        },
        "outputId": "8615a125-94c8-4804-95ea-358264a371f6"
      },
      "source": [
        "import matplotlib.pyplot as plt\n",
        "\n",
        "mask = df.grav_tipo == 'Grave'\n",
        "\n",
        "data_plot = df[mask].hora_cometimento_2.value_counts().sort_index()\n",
        "x1 = range(24) #eixo x mostrando todas as horas\n",
        "\n",
        "plt.plot(data_plot.index,data_plot.values)\n",
        "plt.xticks(x1)\n",
        "plt.show()"
      ],
      "execution_count": 10,
      "outputs": [
        {
          "output_type": "display_data",
          "data": {
            "image/png": "[encoded data removed]",
            "text/plain": [
              "<Figure size 432x288 with 1 Axes>"
            ]
          },
          "metadata": {
            "tags": [],
            "needs_background": "light"
          }
        }
      ]
    },
    {
      "cell_type": "code",
      "metadata": {
        "id": "tj0zQCg2CGc9",
        "colab_type": "code",
        "colab": {}
      },
      "source": [
        "#a hora que mais acontece infrações graves"
      ],
      "execution_count": null,
      "outputs": []
    },
    {
      "cell_type": "code",
      "metadata": {
        "id": "Lpoh-tJh3b7d",
        "colab_type": "code",
        "colab": {
          "base_uri": "https://localhost:8080/",
          "height": 34
        },
        "outputId": "806feedb-5b24-4743-9385-4e32cabd8720"
      },
      "source": [
        "horas = df[mask].hora_cometimento_2.value_counts()\n",
        "horas.index[0]\n"
      ],
      "execution_count": 11,
      "outputs": [
        {
          "output_type": "execute_result",
          "data": {
            "text/plain": [
              "8"
            ]
          },
          "metadata": {
            "tags": []
          },
          "execution_count": 11
        }
      ]
    },
    {
      "cell_type": "markdown",
      "metadata": {
        "id": "uBvjRCLdPK8T",
        "colab_type": "text"
      },
      "source": [
        "4. Qual dia da semana que mais se cometem infrações leves? Demonstre utilizando um gráfico de linhas e colocando um texto no ponto máximo."
      ]
    },
    {
      "cell_type": "code",
      "metadata": {
        "id": "Npsfe0dnTnIa",
        "colab_type": "code",
        "colab": {}
      },
      "source": [
        "# criando coluna de dia da semana"
      ],
      "execution_count": null,
      "outputs": []
    },
    {
      "cell_type": "code",
      "metadata": {
        "id": "hjGfCVdwPOG8",
        "colab_type": "code",
        "colab": {}
      },
      "source": [
        "df['dia_semana'] = pd.to_datetime(df['cometimento'],format='%d/%m/%Y',yearfirst=True).dt.dayofweek\n",
        "dias_semana = {0:'Segunda-Feira',1:'Terça-Feira',2:'Quarta-Feira',3:'Quinta-Feira',4:'Sexta-Feira',5:'Sábado',6:'Domingo'}"
      ],
      "execution_count": 12,
      "outputs": []
    },
    {
      "cell_type": "code",
      "metadata": {
        "id": "dLigtYFGmGo2",
        "colab_type": "code",
        "colab": {
          "base_uri": "https://localhost:8080/",
          "height": 303
        },
        "outputId": "6393b2af-94e2-42a9-a2fe-1ff126bcbf18"
      },
      "source": [
        "mask2 = df.grav_tipo == 'Leve'\n",
        "\n",
        "data_plot2 = df[mask2].dia_semana.value_counts().sort_index()\n",
        "data_plot2.index = data_plot2.index.map(dias_semana)\n",
        "plot2_max = max(data_plot2.values)\n",
        "\n",
        "\n",
        "plt.plot(data_plot2.index,data_plot2.values)\n",
        "plt.annotate('ponto máx', xy=(4, 19201), xytext=(5, 19201),arrowprops=dict(facecolor='black', shrink=0.05),)\n",
        "plt.xticks(rotation=30)\n",
        "plt.show()"
      ],
      "execution_count": 13,
      "outputs": [
        {
          "output_type": "display_data",
          "data": {
            "image/png": "[encoded data removed]",
            "text/plain": [
              "<Figure size 432x288 with 1 Axes>"
            ]
          },
          "metadata": {
            "tags": [],
            "needs_background": "light"
          }
        }
      ]
    },
    {
      "cell_type": "markdown",
      "metadata": {
        "id": "It417weR7Yb6",
        "colab_type": "text"
      },
      "source": [
        "5. Filtre o dataset pelo tipo de condutor 'pessoa jurídica', qual o tipo de infração mais comum? Em que horário ele mais acontece? Monte um subplot para demonstrar as duas informações utilizando gráficos."
      ]
    },
    {
      "cell_type": "code",
      "metadata": {
        "id": "LFecUqtu7bFk",
        "colab_type": "code",
        "colab": {}
      },
      "source": [
        "df.groupby('tipo_infrator')['tipo_infracao'].count()"
      ],
      "execution_count": null,
      "outputs": []
    },
    {
      "cell_type": "code",
      "metadata": {
        "id": "0MSM7re3-MEq",
        "colab_type": "code",
        "colab": {}
      },
      "source": [
        "mask3 = df.tipo_infrator == 'Pessoa Jurídica'\n",
        "df[mask3].tipo_infracao"
      ],
      "execution_count": null,
      "outputs": []
    },
    {
      "cell_type": "code",
      "metadata": {
        "id": "v3HWgW8N_Ykh",
        "colab_type": "code",
        "colab": {}
      },
      "source": [
        "df[mask3].hora_cometimento_2"
      ],
      "execution_count": null,
      "outputs": []
    },
    {
      "cell_type": "code",
      "metadata": {
        "id": "8bgEUBNu-qo1",
        "colab_type": "code",
        "colab": {}
      },
      "source": [
        "#no dataset com 500495 observações, apenas 1 é de pessoa jurídica"
      ],
      "execution_count": null,
      "outputs": []
    },
    {
      "cell_type": "markdown",
      "metadata": {
        "id": "IbmLsTuRACBL",
        "colab_type": "text"
      },
      "source": [
        "6. Monte um subplot com 7 heatmaps (1 para cada mês) demonstrando a concentração da quantidade infrações por dia do mês e hora do dia (desconsidere os minutos)."
      ]
    },
    {
      "cell_type": "code",
      "metadata": {
        "id": "u1V_gJFyA0Rc",
        "colab_type": "code",
        "colab": {}
      },
      "source": [
        "#criar coluna do dia"
      ],
      "execution_count": null,
      "outputs": []
    },
    {
      "cell_type": "code",
      "metadata": {
        "id": "DhOiN7NgA82o",
        "colab_type": "code",
        "colab": {}
      },
      "source": [
        "df['dia_cometimento'] = pd.to_datetime(df['cometimento'],format='%d/%m/%Y',yearfirst=True).dt.day"
      ],
      "execution_count": 35,
      "outputs": []
    },
    {
      "cell_type": "code",
      "metadata": {
        "id": "0DIieruqCYva",
        "colab_type": "code",
        "colab": {}
      },
      "source": [
        "#criar coluna do mes"
      ],
      "execution_count": null,
      "outputs": []
    },
    {
      "cell_type": "code",
      "metadata": {
        "id": "5rYdEnSwC1SZ",
        "colab_type": "code",
        "colab": {}
      },
      "source": [
        "df['mes_cometimento'] = pd.to_datetime(df['cometimento'],format='%d/%m/%Y',yearfirst=True).dt.month"
      ],
      "execution_count": 36,
      "outputs": []
    },
    {
      "cell_type": "markdown",
      "metadata": {
        "id": "DX2YVzGPGyGH",
        "colab_type": "text"
      },
      "source": [
        "\n",
        "7. Alguma bicicleta já tomou multa? Se sim, qual foi a gravidade?"
      ]
    },
    {
      "cell_type": "code",
      "metadata": {
        "id": "xM3K4EMoG1I7",
        "colab_type": "code",
        "colab": {
          "base_uri": "https://localhost:8080/",
          "height": 51
        },
        "outputId": "56f20e80-dc31-4af0-f99b-71a96b3ccca5"
      },
      "source": [
        "df[df.tipo_veiculo == 'Bicicleta'].grav_tipo"
      ],
      "execution_count": 14,
      "outputs": [
        {
          "output_type": "execute_result",
          "data": {
            "text/plain": [
              "235753    Grave\n",
              "Name: grav_tipo, dtype: object"
            ]
          },
          "metadata": {
            "tags": []
          },
          "execution_count": 14
        }
      ]
    },
    {
      "cell_type": "markdown",
      "metadata": {
        "id": "i0TaMT8yJZIG",
        "colab_type": "text"
      },
      "source": [
        "8. Utilizando regular expressions (biblioteca re) extraia a rodovia (DF-128, DF 459 etc) onde a infração foi cometida."
      ]
    },
    {
      "cell_type": "code",
      "metadata": {
        "id": "pTO0zAORJb_N",
        "colab_type": "code",
        "colab": {}
      },
      "source": [
        "import re\n",
        "\n",
        "df['auinf_local_rodovia'].fillna(\"NA\",inplace = True)\n"
      ],
      "execution_count": 15,
      "outputs": []
    },
    {
      "cell_type": "code",
      "metadata": {
        "id": "LZpzGgA3bOvg",
        "colab_type": "code",
        "colab": {}
      },
      "source": [
        "p = r'DF.\\d\\d\\d|DF\\d\\d\\d'\n",
        "df['rodovia'] = df['auinf_local_rodovia'].apply(lambda x: re.findall(p,x,re.I))"
      ],
      "execution_count": 73,
      "outputs": []
    },
    {
      "cell_type": "code",
      "metadata": {
        "id": "LPIkBwdqxopd",
        "colab_type": "code",
        "colab": {}
      },
      "source": [
        "def rodovias(pattern,string)\n",
        "  match = re.search(pattern, string) \n",
        "    if match:\n",
        "    return(match.group())\n",
        "    else:\n",
        "    return None\n",
        "\n"
      ],
      "execution_count": null,
      "outputs": []
    },
    {
      "cell_type": "code",
      "metadata": {
        "id": "7fErN2B8we22",
        "colab_type": "code",
        "colab": {
          "base_uri": "https://localhost:8080/",
          "height": 221
        },
        "outputId": "037878d1-cce2-443e-cd33-da69da1bdee0"
      },
      "source": [
        "df.rodovia"
      ],
      "execution_count": 74,
      "outputs": [
        {
          "output_type": "execute_result",
          "data": {
            "text/plain": [
              "0                  [DF004]\n",
              "1         [DF-025, DF-003]\n",
              "2                 [DF-001]\n",
              "3                 [DF-001]\n",
              "4         [DF-075, DF-003]\n",
              "                ...       \n",
              "500490            [DF-003]\n",
              "500491    [DF-001, DF-075]\n",
              "500492    [DF-085, DF-001]\n",
              "500493    [DF-075, DF-003]\n",
              "500494            [DF-003]\n",
              "Name: rodovia, Length: 500495, dtype: object"
            ]
          },
          "metadata": {
            "tags": []
          },
          "execution_count": 74
        }
      ]
    },
    {
      "cell_type": "code",
      "metadata": {
        "id": "cSravzPZEACD",
        "colab_type": "code",
        "colab": {
          "base_uri": "https://localhost:8080/",
          "height": 374
        },
        "outputId": "e57344e1-5ad3-4fa4-a466-ea752c6f799e"
      },
      "source": [
        "df.rodovia.tail(20)"
      ],
      "execution_count": 18,
      "outputs": [
        {
          "output_type": "execute_result",
          "data": {
            "text/plain": [
              "500475            [DF-095]\n",
              "500476            [DF-075]\n",
              "500477            [DF-075]\n",
              "500478            [DF-003]\n",
              "500479            [DF-095]\n",
              "500480    [DF-085, DF-001]\n",
              "500481            [DF-095]\n",
              "500482            [DF-095]\n",
              "500483    [DF-079, DF-085]\n",
              "500484    [DF-035, DF-025]\n",
              "500485            [DF-075]\n",
              "500486    [DF-085, DF-003]\n",
              "500487            [DF-075]\n",
              "500488            [DF-075]\n",
              "500489            [DF-075]\n",
              "500490            [DF-003]\n",
              "500491    [DF-001, DF-075]\n",
              "500492    [DF-085, DF-001]\n",
              "500493    [DF-075, DF-003]\n",
              "500494            [DF-003]\n",
              "Name: rodovia, dtype: object"
            ]
          },
          "metadata": {
            "tags": []
          },
          "execution_count": 18
        }
      ]
    },
    {
      "cell_type": "code",
      "metadata": {
        "id": "ifD8GBAO7MVL",
        "colab_type": "code",
        "colab": {
          "base_uri": "https://localhost:8080/",
          "height": 374
        },
        "outputId": "278d77b7-bd28-443a-a5a2-e892a05ab1a6"
      },
      "source": [
        "df.auinf_local_rodovia.tail(20)"
      ],
      "execution_count": 20,
      "outputs": [
        {
          "output_type": "execute_result",
          "data": {
            "text/plain": [
              "500475    DF-095 (EPCL) ESTRUTURAL KM 0,8 SENTIDO BIDIRE...\n",
              "500476    DF-075 (EPNB) KM 2,5 SENT. N. BAND / RIACHO FU...\n",
              "500477    DF-075(EPNB)KM 02 SENTIDO N. BANDEIRANTE      ...\n",
              "500478    DF-003 (EPIA) KM 21,0 SENTIDO SUL             ...\n",
              "500479    DF-095  (EPCL) ESTRUTURAL  KM 4,5  SENTIDO BI...\n",
              "500480    DF-085(EPTG) KM 7,9 SENTIDO DF-001(TAGUATINGA)...\n",
              "500481    DF-095 (EPCL) ESTRUTURAL KM 6,8 SENTIDO BIDIRE...\n",
              "500482    DF-095 (EPCL) ESTRUTURAL KM 6,8 SENTIDO BIDIRE...\n",
              "500483    DF-079 (EPVP) KM 4  SENTIDO DF-085 (EPTG)    ...\n",
              "500484    DF-035(EPCV) KM 0,4 SENTIDO DF-025(EPDB) - LAG...\n",
              "500485    DF-075(EPNB)KM 02 SENTIDO N. BANDEIRANTE      ...\n",
              "500486    DF-085 (EPTG) KM 9,0 SENTIDO DF-003(PLANO PILO...\n",
              "500487    DF-075 (EPNB) KM 3,5 SENT. N. BAND. / RIACHO F...\n",
              "500488    DF-075(EPNB) KM 02 SENTIDO SAMAMBAIA          ...\n",
              "500489    DF-075 (EPNB) KM 4,4 SENT. N. BAND. / RIACHO F...\n",
              "500490    DF-003(EPIA) KM 25,8 SENTIDO SUL              ...\n",
              "500491    DF-001 (EPCT) KM 78,9 (PISTAO NORTE) SENTIDO D...\n",
              "500492    DF-085(EPTG) KM 7,9 SENTIDO DF-001(TAGUATINGA)...\n",
              "500493    DF-075 (EPNB) KM 2,4 SENT. N. BAND / EPIA (DF-...\n",
              "500494    DF-003 (EPIA) KM 29 SENTIDO SUL               ...\n",
              "Name: auinf_local_rodovia, dtype: object"
            ]
          },
          "metadata": {
            "tags": []
          },
          "execution_count": 20
        }
      ]
    },
    {
      "cell_type": "markdown",
      "metadata": {
        "id": "Wth5DNFsXFGK",
        "colab_type": "text"
      },
      "source": [
        "8. Leia as informações de cada rodovia utilizando o link abaixo e guarde em um dataframe.\n",
        "\n",
        "'http://dados.df.gov.br/dataset/3cb44f4a-576c-45b8-8f13-ae94a6623277/resource/2bd0f48e-d3a1-47c6-bd12-83aed24e9461/download/2020-05-19-scr.csv'"
      ]
    },
    {
      "cell_type": "code",
      "metadata": {
        "id": "16-dcx35YkLE",
        "colab_type": "code",
        "colab": {
          "base_uri": "https://localhost:8080/",
          "height": 983
        },
        "outputId": "9cf72775-aa6e-4699-ece6-0d0cc9c61eba"
      },
      "source": [
        "df2 = pd.read_csv('http://dados.df.gov.br/dataset/3cb44f4a-576c-45b8-8f13-ae94a6623277/resource/2bd0f48e-d3a1-47c6-bd12-83aed24e9461/download/2020-05-19-scr.csv',sep=';',encoding='latin-1',low_memory=False)\n",
        "df2"
      ],
      "execution_count": 29,
      "outputs": [
        {
          "output_type": "execute_result",
          "data": {
            "text/html": [
              "<div>\n",
              "<style scoped>\n",
              "    .dataframe tbody tr th:only-of-type {\n",
              "        vertical-align: middle;\n",
              "    }\n",
              "\n",
              "    .dataframe tbody tr th {\n",
              "        vertical-align: top;\n",
              "    }\n",
              "\n",
              "    .dataframe thead th {\n",
              "        text-align: right;\n",
              "    }\n",
              "</style>\n",
              "<table border=\"1\" class=\"dataframe\">\n",
              "  <thead>\n",
              "    <tr style=\"text-align: right;\">\n",
              "      <th></th>\n",
              "      <th>RODOVIA</th>\n",
              "      <th>COD. TRECHO</th>\n",
              "      <th>INÍCIO</th>\n",
              "      <th>FIM</th>\n",
              "      <th>Km INÍCIO</th>\n",
              "      <th>Km FIM</th>\n",
              "      <th>EXTENSÃO</th>\n",
              "      <th>TP. RODOVIA</th>\n",
              "      <th>SITUAÇÃO</th>\n",
              "      <th>DESC. SITUAÇÃO</th>\n",
              "      <th>RESPONSÁVEL</th>\n",
              "      <th>DESC. RESPONSÁVEL</th>\n",
              "      <th>D.R</th>\n",
              "      <th>DESC. D.R</th>\n",
              "      <th>TMDA</th>\n",
              "      <th>LARG. PISTA</th>\n",
              "      <th>LARG. ACOSTAMENTO</th>\n",
              "      <th>MAT. REVESTIMENTO</th>\n",
              "    </tr>\n",
              "  </thead>\n",
              "  <tbody>\n",
              "    <tr>\n",
              "      <th>0</th>\n",
              "      <td>BR010</td>\n",
              "      <td>010BDF0010</td>\n",
              "      <td>ENTR. BR-020 (A)/BR-030 (A)/DF-003(EPIA)DF-001...</td>\n",
              "      <td>ENTR. DF-440</td>\n",
              "      <td>0.0</td>\n",
              "      <td>2.5</td>\n",
              "      <td>2.5</td>\n",
              "      <td>Federal</td>\n",
              "      <td>DUP</td>\n",
              "      <td>Duplicado</td>\n",
              "      <td>DNIT</td>\n",
              "      <td>Departamento Nacional de Infra-Estrutura de Tr...</td>\n",
              "      <td>NaN</td>\n",
              "      <td>NaN</td>\n",
              "      <td>NaN</td>\n",
              "      <td>NaN</td>\n",
              "      <td>NaN</td>\n",
              "      <td>NaN</td>\n",
              "    </tr>\n",
              "    <tr>\n",
              "      <th>1</th>\n",
              "      <td>BR010</td>\n",
              "      <td>010BDF0015</td>\n",
              "      <td>ENTR. DF-440</td>\n",
              "      <td>ACESSO I A SOBRADINHO</td>\n",
              "      <td>2.5</td>\n",
              "      <td>6.0</td>\n",
              "      <td>3.5</td>\n",
              "      <td>Federal</td>\n",
              "      <td>DUP</td>\n",
              "      <td>Duplicado</td>\n",
              "      <td>DNIT</td>\n",
              "      <td>Departamento Nacional de Infra-Estrutura de Tr...</td>\n",
              "      <td>NaN</td>\n",
              "      <td>NaN</td>\n",
              "      <td>NaN</td>\n",
              "      <td>NaN</td>\n",
              "      <td>NaN</td>\n",
              "      <td>NaN</td>\n",
              "    </tr>\n",
              "    <tr>\n",
              "      <th>2</th>\n",
              "      <td>BR010</td>\n",
              "      <td>010BDF0016</td>\n",
              "      <td>ACESSO I A SOBRADINHO</td>\n",
              "      <td>ACESSO II A SOBRADINHO</td>\n",
              "      <td>6.0</td>\n",
              "      <td>8.4</td>\n",
              "      <td>2.4</td>\n",
              "      <td>Federal</td>\n",
              "      <td>DUP</td>\n",
              "      <td>Duplicado</td>\n",
              "      <td>DNIT</td>\n",
              "      <td>Departamento Nacional de Infra-Estrutura de Tr...</td>\n",
              "      <td>NaN</td>\n",
              "      <td>NaN</td>\n",
              "      <td>NaN</td>\n",
              "      <td>NaN</td>\n",
              "      <td>NaN</td>\n",
              "      <td>NaN</td>\n",
              "    </tr>\n",
              "    <tr>\n",
              "      <th>3</th>\n",
              "      <td>BR010</td>\n",
              "      <td>010BDF0018</td>\n",
              "      <td>ACESSO II A SOBRADINHO</td>\n",
              "      <td>ENTR. DF-230</td>\n",
              "      <td>8.4</td>\n",
              "      <td>18.8</td>\n",
              "      <td>10.4</td>\n",
              "      <td>Federal</td>\n",
              "      <td>DUP</td>\n",
              "      <td>Duplicado</td>\n",
              "      <td>DNIT</td>\n",
              "      <td>Departamento Nacional de Infra-Estrutura de Tr...</td>\n",
              "      <td>2º DR</td>\n",
              "      <td>SEGUNDO DISTRITO RODOVIÁRIO</td>\n",
              "      <td>NaN</td>\n",
              "      <td>NaN</td>\n",
              "      <td>NaN</td>\n",
              "      <td>NaN</td>\n",
              "    </tr>\n",
              "    <tr>\n",
              "      <th>4</th>\n",
              "      <td>BR010</td>\n",
              "      <td>010BDF0020</td>\n",
              "      <td>ENTR. DF-230</td>\n",
              "      <td>ENTR. DF-128</td>\n",
              "      <td>18.8</td>\n",
              "      <td>22.6</td>\n",
              "      <td>3.8</td>\n",
              "      <td>Federal</td>\n",
              "      <td>DUP</td>\n",
              "      <td>Duplicado</td>\n",
              "      <td>DNIT</td>\n",
              "      <td>Departamento Nacional de Infra-Estrutura de Tr...</td>\n",
              "      <td>1º DR</td>\n",
              "      <td>PRIMEIRO DISTRITO RODOVIÁRIO</td>\n",
              "      <td>NaN</td>\n",
              "      <td>NaN</td>\n",
              "      <td>NaN</td>\n",
              "      <td>NaN</td>\n",
              "    </tr>\n",
              "    <tr>\n",
              "      <th>...</th>\n",
              "      <td>...</td>\n",
              "      <td>...</td>\n",
              "      <td>...</td>\n",
              "      <td>...</td>\n",
              "      <td>...</td>\n",
              "      <td>...</td>\n",
              "      <td>...</td>\n",
              "      <td>...</td>\n",
              "      <td>...</td>\n",
              "      <td>...</td>\n",
              "      <td>...</td>\n",
              "      <td>...</td>\n",
              "      <td>...</td>\n",
              "      <td>...</td>\n",
              "      <td>...</td>\n",
              "      <td>...</td>\n",
              "      <td>...</td>\n",
              "      <td>...</td>\n",
              "    </tr>\n",
              "    <tr>\n",
              "      <th>628</th>\n",
              "      <td>VC527</td>\n",
              "      <td>527EVC0010</td>\n",
              "      <td>ENTR. DF-445</td>\n",
              "      <td>ENTR. DF-430</td>\n",
              "      <td>0.0</td>\n",
              "      <td>6.9</td>\n",
              "      <td>6.9</td>\n",
              "      <td>Vicinal</td>\n",
              "      <td>IMP</td>\n",
              "      <td>Implantado</td>\n",
              "      <td>DERDF</td>\n",
              "      <td>Departamento de Estradas de Rodagem do DF</td>\n",
              "      <td>5º DR</td>\n",
              "      <td>QUINTO DISTRITO RODOVIÁRIO</td>\n",
              "      <td>NaN</td>\n",
              "      <td>NaN</td>\n",
              "      <td>NaN</td>\n",
              "      <td>NaN</td>\n",
              "    </tr>\n",
              "    <tr>\n",
              "      <th>629</th>\n",
              "      <td>VC533</td>\n",
              "      <td>533EVC0010</td>\n",
              "      <td>ENTR. BR-080/BR-251</td>\n",
              "      <td>DIVISA DF/GO</td>\n",
              "      <td>0.0</td>\n",
              "      <td>3.7</td>\n",
              "      <td>3.7</td>\n",
              "      <td>Vicinal</td>\n",
              "      <td>PAV</td>\n",
              "      <td>Pavimentada</td>\n",
              "      <td>DERDF</td>\n",
              "      <td>Departamento de Estradas de Rodagem do DF</td>\n",
              "      <td>5º DR</td>\n",
              "      <td>QUINTO DISTRITO RODOVIÁRIO</td>\n",
              "      <td>NaN</td>\n",
              "      <td>NaN</td>\n",
              "      <td>NaN</td>\n",
              "      <td>NaN</td>\n",
              "    </tr>\n",
              "    <tr>\n",
              "      <th>630</th>\n",
              "      <td>VC541</td>\n",
              "      <td>541EVC0010</td>\n",
              "      <td>ENTR. BR-080/BR-251</td>\n",
              "      <td>DIVISA DF/GO</td>\n",
              "      <td>0.0</td>\n",
              "      <td>3.4</td>\n",
              "      <td>3.4</td>\n",
              "      <td>Vicinal</td>\n",
              "      <td>IMP</td>\n",
              "      <td>Implantado</td>\n",
              "      <td>DERDF</td>\n",
              "      <td>Departamento de Estradas de Rodagem do DF</td>\n",
              "      <td>5º DR</td>\n",
              "      <td>QUINTO DISTRITO RODOVIÁRIO</td>\n",
              "      <td>NaN</td>\n",
              "      <td>NaN</td>\n",
              "      <td>NaN</td>\n",
              "      <td>NaN</td>\n",
              "    </tr>\n",
              "    <tr>\n",
              "      <th>631</th>\n",
              "      <td>VC547</td>\n",
              "      <td>547EVC0010</td>\n",
              "      <td>ENTR. DF-435</td>\n",
              "      <td>ENTR. BR-080/251</td>\n",
              "      <td>0.0</td>\n",
              "      <td>2.4</td>\n",
              "      <td>2.4</td>\n",
              "      <td>Vicinal</td>\n",
              "      <td>IMP</td>\n",
              "      <td>Implantado</td>\n",
              "      <td>DERDF</td>\n",
              "      <td>Departamento de Estradas de Rodagem do DF</td>\n",
              "      <td>5º DR</td>\n",
              "      <td>QUINTO DISTRITO RODOVIÁRIO</td>\n",
              "      <td>NaN</td>\n",
              "      <td>NaN</td>\n",
              "      <td>NaN</td>\n",
              "      <td>NaN</td>\n",
              "    </tr>\n",
              "    <tr>\n",
              "      <th>632</th>\n",
              "      <td>VC555</td>\n",
              "      <td>555EVC0010</td>\n",
              "      <td>ENTR.DF-180</td>\n",
              "      <td>ENTR. BR-080/251</td>\n",
              "      <td>0.0</td>\n",
              "      <td>3.4</td>\n",
              "      <td>3.4</td>\n",
              "      <td>Vicinal</td>\n",
              "      <td>IMP</td>\n",
              "      <td>Implantado</td>\n",
              "      <td>DERDF</td>\n",
              "      <td>Departamento de Estradas de Rodagem do DF</td>\n",
              "      <td>5º DR</td>\n",
              "      <td>QUINTO DISTRITO RODOVIÁRIO</td>\n",
              "      <td>NaN</td>\n",
              "      <td>NaN</td>\n",
              "      <td>NaN</td>\n",
              "      <td>NaN</td>\n",
              "    </tr>\n",
              "  </tbody>\n",
              "</table>\n",
              "<p>633 rows × 18 columns</p>\n",
              "</div>"
            ],
            "text/plain": [
              "    RODOVIA COD. TRECHO  ... LARG. ACOSTAMENTO MAT. REVESTIMENTO\n",
              "0    BR010   010BDF0010  ...               NaN               NaN\n",
              "1    BR010   010BDF0015  ...               NaN               NaN\n",
              "2    BR010   010BDF0016  ...               NaN               NaN\n",
              "3    BR010   010BDF0018  ...               NaN               NaN\n",
              "4    BR010   010BDF0020  ...               NaN               NaN\n",
              "..      ...         ...  ...               ...               ...\n",
              "628  VC527   527EVC0010  ...               NaN               NaN\n",
              "629  VC533   533EVC0010  ...               NaN               NaN\n",
              "630  VC541   541EVC0010  ...               NaN               NaN\n",
              "631  VC547   547EVC0010  ...               NaN               NaN\n",
              "632  VC555   555EVC0010  ...               NaN               NaN\n",
              "\n",
              "[633 rows x 18 columns]"
            ]
          },
          "metadata": {
            "tags": []
          },
          "execution_count": 29
        }
      ]
    },
    {
      "cell_type": "markdown",
      "metadata": {
        "id": "5goXIHcTjbgk",
        "colab_type": "text"
      },
      "source": [
        "9. Cruze as informações dos dois datasets e descubra, em qual distrito rodoviário (coluna 'D.R') ocorreram mais infrações. Demonstre através de um gráfico."
      ]
    },
    {
      "cell_type": "code",
      "metadata": {
        "id": "UB41_khNt27O",
        "colab_type": "code",
        "colab": {
          "base_uri": "https://localhost:8080/",
          "height": 221
        },
        "outputId": "d7d4c6c8-acff-4d05-f5f8-2e4b00b6be8c"
      },
      "source": [
        "df.rodovia"
      ],
      "execution_count": 52,
      "outputs": [
        {
          "output_type": "execute_result",
          "data": {
            "text/plain": [
              "0                  [DF004]\n",
              "1         [DF-025, DF-003]\n",
              "2                 [DF-001]\n",
              "3                 [DF-001]\n",
              "4         [DF-075, DF-003]\n",
              "                ...       \n",
              "500490            [DF-003]\n",
              "500491    [DF-001, DF-075]\n",
              "500492    [DF-085, DF-001]\n",
              "500493    [DF-075, DF-003]\n",
              "500494            [DF-003]\n",
              "Name: rodovia, Length: 500495, dtype: object"
            ]
          },
          "metadata": {
            "tags": []
          },
          "execution_count": 52
        }
      ]
    },
    {
      "cell_type": "markdown",
      "metadata": {
        "id": "hXzSDiSKk1gZ",
        "colab_type": "text"
      },
      "source": [
        "\n",
        "10. Investigando a extensão das rodovias responda (TRUE ou FALSE).\n",
        "\n",
        "> 10.1 Rodovias com extensão menor que 1 km tem uma predominância de infrações leves.\n",
        "\n",
        "> 10.2 Rodovias com extensão maior que 5 km tem uma predominância de infrações graves.\n",
        "\n",
        "> 10.3 A distribuição das extensões das rodovias vicinais segue uma normal. (Demonstre com um gráfico e um teste estatístico)\n",
        "\n",
        "> 10.4 A distribuição das extensões das rodovias federais segue uma normal. (Demonstre com um gráfico e um teste estatístico)\n",
        "\n",
        "> 10.5 Existe uma diferença estatística entre as médias das extensões da rodovias vicinais e federais. (Demonstre com um teste estatístico)\n",
        "\n",
        "11. Leia as informações de Obra de Arte Especial (OAE) utilizando o link abaixo e guarde em um dataframe.\n",
        "\n",
        "'http://dados.df.gov.br/dataset/468f0b08-f5ae-4d61-954c-3062a9d26dad/resource/fac7a26a-baa3-4250-9ae5-b9c7273ae8df/download/2020-05-19-oae.csv'\n",
        "\n",
        "12. Existe alguma correlação entre a quantidade de OAE e a quantidade de infrações leves nas rodovias?\n",
        "13. Existe alguma correlação entre a quantidade de OAE e a quantidade de infrações gravíssimas nas rodovias?\n",
        "14. Existe alguma correlação entre a quantidade de OAE e a quantidade de infrações gravíssimas nas rodovias?\n",
        "15. Investigue a situação da OAE e avalie. Rodovias com uma predominância de OAE em situação BOA possuem uma menor quantidade de infrações do que aquelas com situação RUIM.\n",
        "\n",
        "16. Siga as instruções.\n",
        "\n",
        "> 16.1 Crie um dataframe chamado dist_oae com as informações COD.OAE, LONGITUDE, LATITUDE de cada OAE.\n",
        "\n",
        "> 16.2 Trate as colunas de latitude e longitude, transformando-as de string para float. (ex: '-47.865.095.411.000' de ser transformado em -47.865095411000)\n",
        "\n",
        "> 16.3 Transforme dist_oae em um GeoDataFrame e no parâmetro geometry passe a função do geopandas points_fromn_xy com as informações de longitude e latitude em fortmato de serie.\n",
        "\n",
        "17. Usando os pontos em geometry do GeoDataFrame dist_oae monte um mapa utilizando folium que contenha todas as obras de artes especiais (dica: para extrair a latitude ou longitude de um bosto basta utilizar os métodos .x ou .y). Adicione no tooltip de cada Marker o tipo da OAE.\n",
        "\n",
        "18. Descruba a distância entre a OAE de código 1 e todas as outras OAE (utilize o método .distance de cada point em geometry). Crie um subplot com 2 gráficos, o primeiro deverá conter um histograma de todas as distâncias e o segundo deverá ser um boxplot de todas as distâncias."
      ]
    }
  ]
}