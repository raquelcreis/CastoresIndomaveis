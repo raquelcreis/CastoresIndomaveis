{
 "cells": [
  {
   "cell_type": "markdown",
   "metadata": {},
   "source": [
    "# Projeto 002"
   ]
  },
  {
   "cell_type": "markdown",
   "metadata": {},
   "source": [
    "1. Utilizando o dataset \"Pima Indians Diabetes Database\" crie um modelo para diagnosticar um paciente como diabético ou não. Discuta sobre a tarefa, o dataset, trate valores nulos, execute feature engineering, escolha e avalie modelos, analise a importância de cada feature, meça algumas métricas e discorra o porquê da escolha, ao final faça uma matriz de confusão.\n",
    "\n",
    "> link dataset 1 : https://www.kaggle.com/uciml/pima-indians-diabetes-database\n",
    "\n",
    "2. Utilizando o dataset \"Beer Consumption - São Paulo\" crie um modelo para prever a quantidade de cerveja que será consumida, para esse trabalho, desconsidere a variável independente 'data' (porém, ela pode ser utilizada para extração de features).  Discuta sobre a tarefa, o dataset, trate valores nulos, execute feature engineering, escolha e avalie modelos, analise a importância de cada feature, meça algumas métricas e discorra o porquê da escolha.\n",
    "\n",
    "> link dataset 2 : https://www.kaggle.com/dongeorge/beer-consumption-sao-paulo"
   ]
  }
 ],
 "metadata": {
  "kernelspec": {
   "display_name": "Python 3.7.6 64-bit ('base': conda)",
   "language": "python",
   "name": "python37664bitbaseconda774df39cacc84caf9286edd8f47a70cc"
  },
  "language_info": {
   "codemirror_mode": {
    "name": "ipython",
    "version": 3
   },
   "file_extension": ".py",
   "mimetype": "text/x-python",
   "name": "python",
   "nbconvert_exporter": "python",
   "pygments_lexer": "ipython3",
   "version": "3.7.6"
  }
 },
 "nbformat": 4,
 "nbformat_minor": 4
}
