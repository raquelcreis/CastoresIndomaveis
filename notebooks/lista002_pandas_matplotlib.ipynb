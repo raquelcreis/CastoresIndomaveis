{
 "cells": [
  {
   "cell_type": "markdown",
   "metadata": {},
   "source": [
    "# Lista 002 - Pandas, Matplotlib, GeoPandas e Folium.\n",
    "\n",
    "1. Monte um dataframe contendo todas as informações dos arquivos csv em 'data/transito'.\n",
    "2. Quantos tipos diferentes de gravidade de infração exitem no dataset? Quais são?\n",
    "3. Qual a hora do dia que mais se cometem infrações graves? Demonstre utilizando um gráfico de linhas.\n",
    "4. Qual dia da semana que mais se cometem infrações leves? Demonstre utilizando um gráfico de linhas e coloando um texto no ponto máximo.\n",
    "5. Filtre o dataset pelo tipo de condutor 'condutor', qual o tipo de infração mais comum? Em que horário ele mais acontece? Monte um subplot para demonstrar as duas informações utilizando gráficos.\n",
    "8. Monte um subplot com 7 heatmaps (1 para cada mês) demonstrando a concentração da quantidade infrações por dia do mês e hora do dia (desconsidere os minutos).\n",
    "6. Alguma bicicleta já tomou multa? Se sim, qual foi a gravidade?\n",
    "\n",
    "___\n",
    "\n",
    "8. Leia as informações de cada rodovia utilizando o link abaixo e guarde em um dataframe.\n",
    "\n",
    "'http://dados.df.gov.br/dataset/3cb44f4a-576c-45b8-8f13-ae94a6623277/resource/2bd0f48e-d3a1-47c6-bd12-83aed24e9461/download/2020-05-19-scr.csv'\n",
    "\n",
    "9. Investigando OS TRECHOS responda (TRUE ou FALSE).\n",
    "\n",
    "> 9.1 Trechos em rodovias 'Distrital' possuem a mesma mediana de extensão de trechos em rodovias 'Federal'. Crie um boxplot para demonstrar e não esqueça de colocar legendas e anotação de texto.\n",
    "\n",
    "> 9.2 Em termos de extensão, existem mais kms de pista duplicada ('DUP') do que pista pavimentada ('PAV'). Demonstre através de um gráfico de barra.\n",
    "\n",
    "> 9.3 Existem somente duas rodovias com mais de 30 trechos. \n",
    "\n",
    "> 9.4 A distribuição das extensões dos trechos das rodovias federais segue uma distribuição normal. (Demonstre com um gráfico e um teste estatístico)\n",
    "\n",
    "> 9.5 Existe uma diferença estatística entre as médias das extensões da rodovias vicinais e federais. (Demonstre com um teste estatístico)\n",
    "\n",
    "> 9.6 O 2º DR tem, em média, o maior TMDA (tráfego diário médio anual) se comparado com as médias dos outros distritos. (Demonstre utilizando um gráfico).\n",
    "\n",
    "___\n",
    "\n",
    "11. Leia as informações de Obra de Arte Especial (OAE) utilizando o link abaixo e guarde em um dataframe.\n",
    "\n",
    "'http://dados.df.gov.br/dataset/468f0b08-f5ae-4d61-954c-3062a9d26dad/resource/fac7a26a-baa3-4250-9ae5-b9c7273ae8df/download/2020-05-19-oae.csv'\n",
    "\n",
    "12. Avalie (TRUE OU FALSE):\n",
    "\n",
    "> 12.1 A correlação entre a quantidade de OAE e a extensão total das rodovias (soma da extensão dos trechos) é maior do que 0.8.\n",
    "\n",
    "> 12.2 A correlação entre a largura do passeio e a altura do guarda-corpo das pontes é menor do que 0.2.\n",
    "\n",
    "13. Siga as instruções.\n",
    "\n",
    "> 13.1 Crie um dataframe chamado dist_oae com as informações COD.OAE, LONGITUDE, LATITUDE de cada OAE.\n",
    "\n",
    "> 13.2 Trate as colunas de latitude e longitude, transformando-as de string para float. (ex: '-47.865.095.411.000' de ser transformado em -47.865095411000)\n",
    "\n",
    "> 13.3 Transforme dist_oae em um GeoDataFrame e no parâmetro geometry passe a função do geopandas points_fromn_xy com as informações de longitude e latitude em fortmato de serie.\n",
    "\n",
    "14. Usando os pontos em geometry do GeoDataFrame dist_oae monte um mapa utilizando folium que contenha todas as obras de artes especiais (dica: para extrair a latitude ou longitude de um ponto basta utilizar os métodos .x ou .y). Adicione no tooltip de cada Marker o tipo da OAE.\n",
    "\n",
    "15. Descruba a distância entre a OAE de código 1 e todas as outras OAE (utilize o método .distance de cada point em geometry). Crie um subplot com 2 gráficos, o primeiro deverá conter um histograma de todas as distâncias e o segundo deverá ser um boxplot de todas as distâncias."
   ]
  }
 ],
 "metadata": {
  "kernelspec": {
   "display_name": "Python 3.7.6 64-bit ('base': conda)",
   "language": "python",
   "name": "python37664bitbaseconda774df39cacc84caf9286edd8f47a70cc"
  },
  "language_info": {
   "codemirror_mode": {
    "name": "ipython",
    "version": 3
   },
   "file_extension": ".py",
   "mimetype": "text/x-python",
   "name": "python",
   "nbconvert_exporter": "python",
   "pygments_lexer": "ipython3",
   "version": "3.7.6"
  }
 },
 "nbformat": 4,
 "nbformat_minor": 4
}
