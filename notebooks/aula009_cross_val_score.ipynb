{
 "cells": [
  {
   "cell_type": "code",
   "execution_count": 9,
   "metadata": {},
   "outputs": [],
   "source": [
    "from sklearn.datasets import fetch_california_housing\n",
    "from sklearn.model_selection import cross_val_score, train_test_split\n",
    "\n",
    "from sklearn.linear_model import LinearRegression\n",
    "from sklearn.tree import DecisionTreeRegressor\n",
    "from sklearn.ensemble import RandomForestRegressor"
   ]
  },
  {
   "cell_type": "code",
   "execution_count": 10,
   "metadata": {},
   "outputs": [],
   "source": [
    "## coletando os dados\n",
    "data = fetch_california_housing()\n",
    "\n",
    "## separando x e y\n",
    "x = data['data']\n",
    "y = data['target']"
   ]
  },
  {
   "cell_type": "code",
   "execution_count": 49,
   "metadata": {},
   "outputs": [
    {
     "data": {
      "text/plain": [
       "array([-0.69944301, -0.65829982, -0.94150821, -0.62523308, -0.86485438,\n",
       "       -0.72787552, -0.53664192, -0.87935454, -0.80190746, -0.57228542])"
      ]
     },
     "execution_count": 49,
     "metadata": {},
     "output_type": "execute_result"
    }
   ],
   "source": [
    "## instanciando o modelo\n",
    "modelo = LinearRegression()\n",
    "\n",
    "## executando validação\n",
    "cross_val_score(modelo,x,y,cv=10,scoring='neg_root_mean_squared_error')"
   ]
  },
  {
   "cell_type": "code",
   "execution_count": 47,
   "metadata": {},
   "outputs": [],
   "source": [
    "def find_best(x,y,cv):\n",
    "    \n",
    "    ## instanciando modelos\n",
    "    lr = LinearRegression()\n",
    "    dt = DecisionTreeRegressor()\n",
    "    rf = RandomForestRegressor()\n",
    "    \n",
    "    ## gerando lista de modelos\n",
    "    list_of_models = [lr,dt,rf]\n",
    "    \n",
    "    ## gerando lista de scores\n",
    "    dc_of_scores = {}\n",
    "    \n",
    "    ## iterando sobre modelos e executando a validação\n",
    "    for idx,model in enumerate(list_of_models):\n",
    "        dc_of_scores[idx] = cross_val_score(model,x,y,cv=cv,scoring='neg_root_mean_squared_error').mean()\n",
    "    \n",
    "    best_model = max(a,key=a.get)\n",
    "    \n",
    "    print('xxx Finding best model xxx\\n')\n",
    "    if best_model == 0:\n",
    "        print(f'Best model: LinearRegression\\nRMSE : {dc_of_scores[0]*-1}')\n",
    "    \n",
    "    elif best_model == 1:\n",
    "        print(f'Best model: DecisionTreeRegressor\\nRMSE : {dc_of_scores[1]*-1}')\n",
    "        \n",
    "    elif best_model == 2:\n",
    "        print(f'Best model: RandomForestRegressor\\nRMSE : {dc_of_scores[2]*-1}')"
   ]
  },
  {
   "cell_type": "code",
   "execution_count": 48,
   "metadata": {},
   "outputs": [
    {
     "name": "stdout",
     "output_type": "stream",
     "text": [
      "xxx Finding best model xxx\n",
      "\n",
      "Best model: RandomForestRegressor\n",
      "RMSE : 0.6551715769232977\n"
     ]
    }
   ],
   "source": [
    "find_best(x,y,5)"
   ]
  },
  {
   "cell_type": "code",
   "execution_count": 52,
   "metadata": {},
   "outputs": [],
   "source": [
    "## instanciando o modelo\n",
    "random = RandomForestRegressor()"
   ]
  },
  {
   "cell_type": "code",
   "execution_count": 58,
   "metadata": {},
   "outputs": [
    {
     "name": "stdout",
     "output_type": "stream",
     "text": [
      "0.6148918433787928\n",
      "0.6136364535048973\n",
      "0.6156982362452813\n"
     ]
    }
   ],
   "source": [
    "## procurando o melhor parâmetro\n",
    "\n",
    "print(cross_val_score(random.set_params(n_estimators=150),x,y,cv=10).mean())\n",
    "print(cross_val_score(random.set_params(n_estimators=200),x,y,cv=10).mean())\n",
    "print(cross_val_score(random.set_params(n_estimators=250),x,y,cv=10).mean())"
   ]
  }
 ],
 "metadata": {
  "kernelspec": {
   "display_name": "Python 3.7.6 64-bit ('base': conda)",
   "language": "python",
   "name": "python37664bitbaseconda774df39cacc84caf9286edd8f47a70cc"
  },
  "language_info": {
   "codemirror_mode": {
    "name": "ipython",
    "version": 3
   },
   "file_extension": ".py",
   "mimetype": "text/x-python",
   "name": "python",
   "nbconvert_exporter": "python",
   "pygments_lexer": "ipython3",
   "version": "3.7.6"
  }
 },
 "nbformat": 4,
 "nbformat_minor": 4
}
