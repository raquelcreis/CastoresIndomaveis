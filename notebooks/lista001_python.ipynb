{
 "cells": [
  {
   "cell_type": "markdown",
   "metadata": {},
   "source": [
    "## Lista 01 - Python"
   ]
  },
  {
   "cell_type": "markdown",
   "metadata": {},
   "source": [
    "Nessa lista você deverá desenvolver o código para resolver as questões abaixo. Divida bem suas questões e utilize células markdown para indicar qual questão está respondendo. Documento bem seu código utilizando docstrings, comentários e célular markdown."
   ]
  },
  {
   "cell_type": "markdown",
   "metadata": {},
   "source": [
    "1 - Execute todas as operações aritiméticas básicas (adição, subtração, divisão e multiplicação) com as variáveis 'a' e 'b' abaixo.\n",
    "\n",
    "a = 15\n",
    "b = 12\n",
    "\n",
    "2 - Tente calcular o seu IMC utilizando somente operações matemáticas. Dica: o IMC é calculado da seguinte forma: IMC = peso / (altura em metros * altura em metros)\n",
    "\n",
    "3 - Sua professora de português pediu para você escrever a frase 'português é maravilhoso' 50 vezes. Como resolver esse problema com python? Demonstre sua solução.\n",
    "\n",
    "4 - Um modelo de regressão linear possui a seguinte fórmula: y=0.253*x + 125. Qual será o valor de Y quando X for 125?\n",
    "\n",
    "5 - Qual é raiz cubica de 144? Utilize somente operações python apresentadas neste notebook.\n",
    "\n",
    "6 - Nossa matéria terá dois trabalhos! Os pesos são, respectivamente, 4 e 6. Imagine que você tenha tirado 8.2 no primeiro projeto e 3.3 no segundo projeto. Levando em consideração sua nota final e os pesos, você tirou uma média maior que 5?\n",
    "\n",
    "7 - Crie uma lista 'a_list' com os seguintes valores: 1, hello, [1,2,3] e True.\n",
    "\n",
    "8 - Ache o valor em 'a_list' que esteja no índice -1.\n",
    "\n",
    "9 - Encontre os valores em 'a_list' que estejam nos indices 1,2 e 3.\n",
    "\n",
    "10 - Junte as seguinte listas a=[1,2,3,4,5] e b=[11,12,13,14,15]\n",
    "\n",
    "11 - Crie uma lista de listas 'list_list' que tenha os valores de 'a_list', 'a' e 'b'\n",
    "\n",
    "12 - Qual o tamanho de 'list_list'?\n",
    "\n",
    "13 - Adicione o valor 125 ao final de 'list_list'.\n",
    "\n",
    "14 - Remova a lista [1,2,3] de 'list_list' e guarde esse valor numa variável 'list_a'.\n",
    "\n",
    "15 - Qual é o primeiro valor do segundo valor de [[1,3,5,7],[2,4,6,8,10]]?\n",
    "\n",
    "16 - Crie a tupla 'gnr' com os seguintes valores: rock, metal, sertanejo, pop, lo-fi e chillwave, nessa ordem.\n",
    "\n",
    "17 - Qual o terceiro valor da tupla 'gnr'?\n",
    "\n",
    "18 - Qual o índice de lofi?\n",
    "\n",
    "19 - Crie uma tupla de tuplas com as seguintes tuplas (15,30), (20,40) e (25,50). Como acessar o valor 40?\n",
    "\n",
    "20 - Acesse a tupla 'gnr' a cada dois valores, qual gêneros musicais aparecem?\n",
    "\n",
    "21 - Crie o dicionário 'mcu' com os seguintes dados, 'Homem de Ferro':2008, 'Homem de Ferro 2':2010, 'Homem de ferro 3':2013, 'Avengers: Endgame':2019.\n",
    "\n",
    "    a - No dicionário 'mcu' quais são os valores?\n",
    "\n",
    "    b - No dicińario 'mcu' quais são as chaves?\n",
    "\n",
    "    c - Adicione ao dicionário 'mcu' os seguintes filmes: 'Avengers Infinity War':2018, 'Avengers Age of Ultron':2015.\n",
    "\n",
    "    d - Delete o filme 'Homem de Ferro 3' do dicionário 'mcu'\n",
    "\n",
    "    e - Limpe o dicionário 'mcu'\n",
    "\n",
    "22 - Popule o dicionário vazio 'mcu' com as informações abaixo:\n",
    "\n",
    "'homem de ferro':{'filmes':3,'ator principal':'Robert Downey Jr.'},'Cpt.América':{'filmes':3,'ator principal':'Chris Evans'}\n",
    "\n",
    "23 - Acesse somente a quantidade de filmes de cada uma das chaves do dicionário MCU.\n",
    "\n",
    "24 - Quais são as chaves do dicionário de dicionários 'mcu'?\n",
    "\n",
    "25 - Qual o tamanho do dicionário de dicionários 'mcu'?\n",
    "\n",
    "26 - Escreva uma função python que receba uma lista e separe os múltiplos de 5. Ao final ela retorna a soma de todos os valores da lista de entrada que são múltiplos de 5.\n",
    "\n",
    "27 - Escreva uma função para verificar se uma palavra é um palíndromo e retorne 1 em casos positivos e zero em casos negativos.\n",
    "\n",
    "28 - Escreva uma função que receba uma lista crie um dicionário com a contagem dos valores dessa lista.\n",
    "\n",
    "29 - Escreva uma função que receba uma lista de listas, itere sobre cada lista, some seus valores, gere uma segunda lista e descubra o desvio padrão dela.\n",
    "\n",
    "entrada : [[12,12,5,6,3,6,8,5,5,5],[3,3,3,3,4,4,15,89,20,20],[15,15,15,20,30,35,35,35,15,15],[10,10,10,10,15,15,15,15],[5,5,2,2],[8,8,89,89,898,1000]]\n",
    "\n",
    "30 - Escreva uma função que gere uma sequencia de Fibonnaci. O único parâmetro é a quantidade de números que devem gerados. (Fibonnaci é uma sequencia onde o próximo número é a soma dos dois imediatamente anteriores a ele).\n",
    "\n",
    "31 - Monte uma função que vai calcular e comparar os custos de uma viagem para 3 cidades diferentes e que, ao final, irá recomendar qual é o destino mais barato. Essa função deve receber somente uma parâmetro 'noites'. A partir desse argumento a função deve calcular o custo total de viagem para cada uma das cidades. Utilize os dados abaixo.\n",
    "\n",
    "|   Cidade  | Hotel/noite | Alimentação/noite | Locomoção/noite |\n",
    "|:---------:|:-----------:|:-----------------:|:---------------:|\n",
    "| Abu Dhabi |     1300    |        200        |       150       |\n",
    "|  Genebra  |     1200    |        150        |        80       |\n",
    "|    Oslo   |     1000    |        250        |       100       |\n",
    "\n",
    "32 - Defina uma função que calcule o z-score de todos os valores de uma lista e encontre quem são os outliers (z-score abaixo de -3 e acima de 3). Use a lista abaixo:\n",
    "\n",
    "lista8 = [201, 102, -5558, 232, 213, -9249, -247, 1183, 211, 7598, 130, 61, 192, 207, -46, 170, 116, 106, 225, 75, 138, 107, 108, -33, -9, 170, 147, 175, 137, -5, -9, 16600, 171, 183, 147, 171, 143, 104, 7, 227, 127, 173, 178, 194, 110, 20, 99, 11, 41, 242, 250, 62, 230, -32, 239, 241, 30, -35, 132, 214, 58, 90, -12, -24, 177, 116, 53, -26, 144, 29, 41, 217, 114, 109, -15, 32, 110, 162, 221, -16, 210, 87, 76, 3100, 73, 174, 194, 93, -9, 241, 234, 79, -4800, -22, -41, 224, 249, 114, -29, 79]\n",
    "\n",
    "33 - Defina uma função que recebe uma lista aplica a fórmula abaixo a cada um dos valores e retorna uma lista com o resultado.\n",
    "\n",
    "![minmax](../imgs/minmax.jpg)\n",
    "\n",
    "\n",
    "34 - Escreva um código que dê print em todos os quadrados dos valores de 0 a 10.\n",
    "\n",
    "35 - Escreva um código que encontre a soma de todos os valores pares de 0 a 10.\n",
    "\n",
    "37 - Construa uma função que receba 3 valores (a,b,c) e retorne uma lista com todos os valores entre 'a' e 'b' que são múltiplos de 'c'. Utilize os valores abaixo (10,500,23).\n",
    "\n",
    "38 -Escreva um código para ter o seguinte output:\n",
    "    \n",
    "    1 ---- 99\n",
    "    2 ---- 98\n",
    "    3 ---- 97\n",
    "    4 ---- 96\n",
    "    .\n",
    "    .\n",
    "    .\n",
    "    99 ---- 1\n",
    "    \n",
    "39 - Construa uma função que receba um input e printe um padrão conforme exemplo.\n",
    "\n",
    "input = 5\n",
    "\n",
    "output:\n",
    "\n",
    "+<br>\n",
    "++<br>\n",
    "+++<br>\n",
    "++++<br>\n",
    "+++++\n",
    "\n",
    "\n",
    "40 - Itere sobre a lista abaixo e crie uma nova lista com todos os nomes em letras maisculuas e com underline ao invés de espaços. Dica: utilize compreensão de listas.\n",
    "\n",
    "lista_nomes = ['Geralt de Rívia','Yennefer de Vengerberd','Triss Marigold','Emhyr var Emreis','Jaskier o bardo']\n",
    "\n",
    "41 - Voce é um jogador de tênis. Para decidir se você vai treinar hoje você deve avaliar duas coisas: o tempo e a temperatura. Crie um programa para saber se você deve ou não treinar hoje de acordo com as seguintes especificações: \n",
    "\n",
    "- Tempo: chuvoso -> não jogar\n",
    "- Tempo: ensolarado ou nublado -> jogar\n",
    "- Temperatura maior ou igual a 15 graus e tempo ensolarado ou nublado -> jogar\n",
    "- Temperatura menor que 15 graus e tempo ensolarado ou nublado -> não jogar\n",
    "\n",
    "Se o dia estiver ensolarado e a temperatura for de 16 graus. Você irá ou não jogar?\n",
    "\n",
    "42 - Construa usando um programa que represente a seguinte árvore abaixo:\n",
    "\n",
    "![arvore](../imgs/arvore.png)\n",
    "\n",
    "Quando x = 'bacon', y = [1,2,3,4,5,6,7,8,9,10,'a','b','c','d','e','f','g','h'] e z = 15. Qual valor o programa deverá printar?\n",
    "\n",
    "Quando x = 'bacon', y = [1,2,3,4], e z = 20. Qual valor o programa deverá printar?\n",
    "\n",
    "Quando x='couxeiro', y = [[1,2,3,4,5],[1,2,3,4,5],[1,2,3,4,5]] e z = 21. Qual valor o programa deverá printar?\n",
    "\n",
    "43 - Use a função zip para juntar as duas listas abaixo em uma tupla.\n",
    "\n",
    "nomes = ['nasser','joao','mateus']\n",
    "salarios = [1000,1500,5000]\n",
    "\n",
    "44 - Considera as duas listas abaixo, a primeira demonstra o valor real de venda de uma casa e a segunda demonstra o valor recomendado por um modelo de regressão. Gere uma terceira lista com o resíduo de cada ponto. O resíduo é o resultado da subtração entre o valor real e o valor predito para determinado ponto.\n",
    "\n",
    "real = [150358,368525,532152,144789]\n",
    "predito = [162122,365255,533200,185789]\n",
    "\n",
    "45 - Utilize a função 'filter' do python para filtrar somente os valores positivos do resultado da questão 44.\n",
    "\n",
    "46 - Ainda usando o resultado da questão 44 calcule, sem utilizar bibliotecas, o RMSE do valor predito. Referência: https://tinyurl.com/yd9ljcmj"
   ]
  },
  {
   "cell_type": "code",
   "execution_count": 17,
   "metadata": {},
   "outputs": [
    {
     "name": "stdout",
     "output_type": "stream",
     "text": [
      "25271.0\n"
     ]
    }
   ],
   "source": [
    "real = [150358,368525,532152,144789]\n",
    "predito = [162122,365255,533200,185789]\n",
    "\n",
    "def media(lst):\n",
    "    media = 0.0\n",
    "    for i in range(len(lst)):\n",
    "        media = media + lst[i]\n",
    "    return media / 2\n",
    "\n",
    "def raiz(vlr):\n",
    "    return float(vlr) ** 0.5\n",
    "\n",
    "def calcularRMSE(a,b):\n",
    "    RMSE = raiz(((sum(a) - sum(b)) ** 2 ) / len(a))  \n",
    "    print(RMSE)\n",
    "    \n",
    "def calcularRMSE1(a):\n",
    "    RMSE = raiz((sum(a) ** 2 ) / len(a))  \n",
    "    print(RMSE)\n",
    "      \n",
    "calcularRMSE(real,predito)"
   ]
  },
  {
   "cell_type": "code",
   "execution_count": 19,
   "metadata": {},
   "outputs": [
    {
     "data": {
      "text/plain": [
       "21396.161454803056"
      ]
     },
     "execution_count": 19,
     "metadata": {},
     "output_type": "execute_result"
    }
   ],
   "source": [
    "real = [150358,368525,532152,144789]\n",
    "predito = [162122,365255,533200,185789]\n",
    "residuos = [ x - y for x,y in zip(real,predito) ]\n",
    "residuos\n",
    "n = len(residuos)\n",
    "rmse = sum([ (x**2)/n for x in residuos])**(0.5)\n",
    "rmse"
   ]
  },
  {
   "cell_type": "code",
   "execution_count": 21,
   "metadata": {},
   "outputs": [],
   "source": [
    "from sklearn.metrics import mean_squared_error\n",
    "import numpy as np"
   ]
  },
  {
   "cell_type": "code",
   "execution_count": 24,
   "metadata": {},
   "outputs": [
    {
     "data": {
      "text/plain": [
       "21396.161454803056"
      ]
     },
     "execution_count": 24,
     "metadata": {},
     "output_type": "execute_result"
    }
   ],
   "source": [
    "mean_squared_error(real,predito)**(0.5)"
   ]
  },
  {
   "cell_type": "code",
   "execution_count": 26,
   "metadata": {},
   "outputs": [
    {
     "name": "stdout",
     "output_type": "stream",
     "text": [
      "21396.161454803056\n"
     ]
    }
   ],
   "source": [
    "residuo = []\n",
    "\n",
    "for i in range(len(real)):\n",
    "    residuo.append(predito[i] - real[i])\n",
    "\n",
    "sumQuad = 0\n",
    "for i in range(len(real)):\n",
    "    sumQuad += residuo[i]**2\n",
    "rmse = (sumQuad/len(real)) ** 0.5\n",
    "\n",
    "print(rmse)"
   ]
  },
  {
   "cell_type": "code",
   "execution_count": null,
   "metadata": {},
   "outputs": [],
   "source": []
  }
 ],
 "metadata": {
  "kernelspec": {
   "display_name": "Python [conda env:root] *",
   "language": "python",
   "name": "conda-root-py"
  },
  "language_info": {
   "codemirror_mode": {
    "name": "ipython",
    "version": 3
   },
   "file_extension": ".py",
   "mimetype": "text/x-python",
   "name": "python",
   "nbconvert_exporter": "python",
   "pygments_lexer": "ipython3",
   "version": "3.7.6"
  }
 },
 "nbformat": 4,
 "nbformat_minor": 4
}
