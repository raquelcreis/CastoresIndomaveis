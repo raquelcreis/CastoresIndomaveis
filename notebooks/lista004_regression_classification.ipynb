{
 "cells": [
  {
   "cell_type": "markdown",
   "metadata": {},
   "source": [
    "# Lista 004 - Regression and Classification"
   ]
  },
  {
   "cell_type": "markdown",
   "metadata": {},
   "source": [
    "## Tarefa 001 - Regressão \n",
    "\n",
    "1. Identifique e trate os valores nulos.\n",
    "2. Identifique e trate os outliers.\n",
    "3. Separe em treino e teste, utilize 25% do dataset para teste e random_state 42.\n",
    "4. Utilize cross_val_score para treinar e avaliar pelo menos 3 modelos de regressão que prevejam o valor de um carro. Ao final, demonstre o erro médio de cada um, descreva qual a métrica que você usou e porque.\n",
    "5. Baseando no resultado do cross_val_score acima defina qual é o modelo que você irá usar, treine-o e demonstre suas métricas utilizando dataset de teste.\n",
    "\n",
    "## Tarefa 002 - Classificação\n",
    "Utilizando o mesmo dataset acima execute as tarefas abaixo só que agora pensando em uma tarefa de classificação.\n",
    "\n",
    "1. Identifique e trate os valores nulos.\n",
    "2. Identifique e trate os outliers.\n",
    "3. Separe em treino e teste, utilize 25% do dataset para teste e random_state 42.\n",
    "4. Utilize cross_val_score para treinar e avaliar pelo menos 3 modelos de classificação que classifiquem o 'fuel_type' de um carro. Ao final, descreva qual a métrica que você usou e porque.\n",
    "5. Baseando no resultado do cross_val_score acima defina qual é o modelo que você irá usar, treine-o e demonstre suas métricas utilizando dataset de teste.\n",
    "6. Monte uma matriz de confusão.\n",
    "\n",
    "\n",
    "## Entrega\n",
    "Dia     : 11/11/2020\n",
    "\n",
    "Formato : HTML (jupyter notebook exportado)"
   ]
  },
  {
   "cell_type": "code",
   "execution_count": 22,
   "metadata": {},
   "outputs": [],
   "source": [
    "import pandas as pd"
   ]
  },
  {
   "cell_type": "code",
   "execution_count": 25,
   "metadata": {},
   "outputs": [],
   "source": [
    "dados = pd.read_csv('../data/lista004/used-cars.csv')\n",
    "dados.columns = [x.lower() for x in dados.columns]\n",
    "\n",
    "dados = dados[(dados.fuel_type == 'Petrol')|(dados.fuel_type == 'Diesel')]\n",
    "\n",
    "dados = dados[['name','location','year','kilometers_driven',\n",
    "               'fuel_type','transmission','owner_type','mileage',\n",
    "               'engine','seats','price']]"
   ]
  },
  {
   "cell_type": "markdown",
   "metadata": {},
   "source": [
    "### Tarefa 001 - Regressão"
   ]
  },
  {
   "cell_type": "code",
   "execution_count": null,
   "metadata": {},
   "outputs": [],
   "source": []
  },
  {
   "cell_type": "code",
   "execution_count": null,
   "metadata": {},
   "outputs": [],
   "source": []
  },
  {
   "cell_type": "code",
   "execution_count": null,
   "metadata": {},
   "outputs": [],
   "source": []
  },
  {
   "cell_type": "markdown",
   "metadata": {},
   "source": [
    "### Tarefa 002 - Classificação"
   ]
  },
  {
   "cell_type": "code",
   "execution_count": null,
   "metadata": {},
   "outputs": [],
   "source": []
  },
  {
   "cell_type": "code",
   "execution_count": null,
   "metadata": {},
   "outputs": [],
   "source": []
  },
  {
   "cell_type": "code",
   "execution_count": null,
   "metadata": {},
   "outputs": [],
   "source": []
  }
 ],
 "metadata": {
  "kernelspec": {
   "display_name": "Python 3.7.6 64-bit ('base': conda)",
   "language": "python",
   "name": "python37664bitbaseconda774df39cacc84caf9286edd8f47a70cc"
  },
  "language_info": {
   "codemirror_mode": {
    "name": "ipython",
    "version": 3
   },
   "file_extension": ".py",
   "mimetype": "text/x-python",
   "name": "python",
   "nbconvert_exporter": "python",
   "pygments_lexer": "ipython3",
   "version": "3.7.6"
  }
 },
 "nbformat": 4,
 "nbformat_minor": 4
}
