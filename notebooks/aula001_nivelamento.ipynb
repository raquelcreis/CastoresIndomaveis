{
 "cells": [
  {
   "cell_type": "code",
   "execution_count": 1,
   "metadata": {},
   "outputs": [
    {
     "name": "stdout",
     "output_type": "stream",
     "text": [
      "hello world\n"
     ]
    }
   ],
   "source": [
    "## definindo e printando uma variável\n",
    "\n",
    "abc = 'hello world'\n",
    "print('hello world')"
   ]
  },
  {
   "cell_type": "code",
   "execution_count": 2,
   "metadata": {},
   "outputs": [],
   "source": [
    "## criando a variável X\n",
    "\n",
    "x = 10"
   ]
  },
  {
   "cell_type": "code",
   "execution_count": 3,
   "metadata": {},
   "outputs": [
    {
     "data": {
      "text/plain": [
       "'hello worldstring'"
      ]
     },
     "execution_count": 3,
     "metadata": {},
     "output_type": "execute_result"
    }
   ],
   "source": [
    "## Quando somamos strings diferentes elas coladas uma na outra, chamamos isso de concatenação de string\n",
    "\n",
    "abc + 'string'"
   ]
  },
  {
   "cell_type": "code",
   "execution_count": 29,
   "metadata": {},
   "outputs": [],
   "source": [
    "## Podemos definir mais de uma variável ao mesmo tempo! Chamamos isso de atribuição múltipla\n",
    "\n",
    "x1, x2, x3, x4 = 1,2,3,4"
   ]
  },
  {
   "cell_type": "code",
   "execution_count": 30,
   "metadata": {},
   "outputs": [
    {
     "data": {
      "text/plain": [
       "1"
      ]
     },
     "execution_count": 30,
     "metadata": {},
     "output_type": "execute_result"
    }
   ],
   "source": [
    "## Verificando o valor em x1\n",
    "\n",
    "x1"
   ]
  },
  {
   "cell_type": "code",
   "execution_count": 31,
   "metadata": {},
   "outputs": [],
   "source": [
    "## Podemos incrementar valores de variáveis utilizando a sintaxe abaixo\n",
    "\n",
    "x1 +=1"
   ]
  },
  {
   "cell_type": "markdown",
   "metadata": {},
   "source": [
    "O <mark>+=</mark> é utilizado para adição, mas também temos : <mark>*=</mark> para multiplicação; <mark>-=</mark> para subtração; <mark>%=</mark> para resto da divisão; <mark>/=</mark> para divisão."
   ]
  },
  {
   "cell_type": "code",
   "execution_count": 33,
   "metadata": {},
   "outputs": [
    {
     "data": {
      "text/plain": [
       "2"
      ]
     },
     "execution_count": 33,
     "metadata": {},
     "output_type": "execute_result"
    }
   ],
   "source": [
    "## Verificando o valor de x1 após operação de adição\n",
    "x1"
   ]
  },
  {
   "cell_type": "code",
   "execution_count": 34,
   "metadata": {},
   "outputs": [
    {
     "data": {
      "text/plain": [
       "6.0"
      ]
     },
     "execution_count": 34,
     "metadata": {},
     "output_type": "execute_result"
    }
   ],
   "source": [
    "## Elevar à uma fração é o mesmo que tirar a raiz daquela número.\n",
    "\n",
    "36**(1/2)"
   ]
  },
  {
   "cell_type": "code",
   "execution_count": 48,
   "metadata": {},
   "outputs": [],
   "source": [
    "## Criando uma lista\n",
    "\n",
    "ls1 = [5,6,7,8,[5,8,9,'bacon']]"
   ]
  },
  {
   "cell_type": "code",
   "execution_count": 49,
   "metadata": {},
   "outputs": [
    {
     "data": {
      "text/plain": [
       "[5, 6, 7, 8, [5, 8, 9, 'bacon'], 5]"
      ]
     },
     "execution_count": 49,
     "metadata": {},
     "output_type": "execute_result"
    }
   ],
   "source": [
    "## Adicionando o número 5 ano final da lista\n",
    "\n",
    "ls1.append(5)\n",
    "ls1"
   ]
  },
  {
   "cell_type": "code",
   "execution_count": 50,
   "metadata": {},
   "outputs": [
    {
     "data": {
      "text/plain": [
       "[5, 6, 7, 8, [5, 8, 9, 'bacon']]"
      ]
     },
     "execution_count": 50,
     "metadata": {},
     "output_type": "execute_result"
    }
   ],
   "source": [
    "## Removendo o valor 5 da lista\n",
    "\n",
    "ls1.pop(5)\n",
    "ls1"
   ]
  },
  {
   "cell_type": "code",
   "execution_count": 51,
   "metadata": {},
   "outputs": [
    {
     "data": {
      "text/plain": [
       "[5, 6, 7, 8, [5, 8, 9, 'bacon'], 5, 8, 8, 9]"
      ]
     },
     "execution_count": 51,
     "metadata": {},
     "output_type": "execute_result"
    }
   ],
   "source": [
    "## O .extend aumenta a lista com os valores de outra lista\n",
    "\n",
    "ls1.extend([5,8,8,9])\n",
    "ls1"
   ]
  },
  {
   "cell_type": "code",
   "execution_count": 52,
   "metadata": {},
   "outputs": [],
   "source": [
    "## gerando uma nova lista\n",
    "\n",
    "valores = [5,10,15,20,25,30,36,32,78]"
   ]
  },
  {
   "cell_type": "code",
   "execution_count": 53,
   "metadata": {},
   "outputs": [
    {
     "name": "stdout",
     "output_type": "stream",
     "text": [
      "10\n",
      "20\n",
      "30\n",
      "36\n",
      "32\n",
      "78\n"
     ]
    }
   ],
   "source": [
    "## printar os valores múltiplos de 2\n",
    "\n",
    "for valor in valores:\n",
    "    if valor % 2 == 0:\n",
    "        print(valor)"
   ]
  },
  {
   "cell_type": "code",
   "execution_count": 57,
   "metadata": {},
   "outputs": [
    {
     "name": "stdout",
     "output_type": "stream",
     "text": [
      "[5, 10, 15, 20, 25, 30, 36, 32, 78]\n"
     ]
    },
    {
     "data": {
      "text/plain": [
       "[1000, 8000, 27000, 46656, 32768, 474552]"
      ]
     },
     "execution_count": 57,
     "metadata": {},
     "output_type": "execute_result"
    }
   ],
   "source": [
    "## compreensão lista\n",
    "\n",
    "print(valores)\n",
    "\n",
    "## usando compreensão de lista elevar todo mundo ao cubo e retornar uma lista\n",
    "\n",
    "[valor**3 for valor in valores if valor%2==0]"
   ]
  },
  {
   "cell_type": "code",
   "execution_count": 58,
   "metadata": {},
   "outputs": [],
   "source": [
    "## criando um dicionário\n",
    "\n",
    "lista_de_compras = {'manteiga':2,\n",
    "                    'alface':1,\n",
    "                    'cebola':5}"
   ]
  },
  {
   "cell_type": "code",
   "execution_count": 59,
   "metadata": {},
   "outputs": [
    {
     "data": {
      "text/plain": [
       "dict_values([2, 1, 5])"
      ]
     },
     "execution_count": 59,
     "metadata": {},
     "output_type": "execute_result"
    }
   ],
   "source": [
    "## acessando somente os valores da dupla chave-valor.\n",
    "\n",
    "lista_de_compras.values()"
   ]
  },
  {
   "cell_type": "code",
   "execution_count": 60,
   "metadata": {},
   "outputs": [
    {
     "data": {
      "text/plain": [
       "dict_keys(['manteiga', 'alface', 'cebola'])"
      ]
     },
     "execution_count": 60,
     "metadata": {},
     "output_type": "execute_result"
    }
   ],
   "source": [
    "## acessando somente as chaves da dupla chave-valor.\n",
    "\n",
    "lista_de_compras.keys()"
   ]
  },
  {
   "cell_type": "code",
   "execution_count": 63,
   "metadata": {},
   "outputs": [
    {
     "data": {
      "text/plain": [
       "{'manteiga': 3, 'alface': 1, 'cebola': 5}"
      ]
     },
     "execution_count": 63,
     "metadata": {},
     "output_type": "execute_result"
    }
   ],
   "source": [
    "## alterando o valor de uma chave já existente\n",
    "\n",
    "lista_de_compras['manteiga'] = 3\n",
    "lista_de_compras"
   ]
  },
  {
   "cell_type": "code",
   "execution_count": 65,
   "metadata": {},
   "outputs": [
    {
     "data": {
      "text/plain": [
       "{'manteiga': 3, 'alface': 1, 'cebola': 5, 'bacon': 3}"
      ]
     },
     "execution_count": 65,
     "metadata": {},
     "output_type": "execute_result"
    }
   ],
   "source": [
    "## criando um conjunto novo de chave-valor.\n",
    "\n",
    "lista_de_compras['bacon'] = 3\n",
    "lista_de_compras"
   ]
  },
  {
   "cell_type": "code",
   "execution_count": 85,
   "metadata": {},
   "outputs": [],
   "source": [
    "## criando uma funlção chamada potência\n",
    "\n",
    "def potencia(value:int,power:int) -> int:\n",
    "    \n",
    "    \"\"\" Essa função receber um valor value e eleva a potência power \"\"\"\n",
    "    \n",
    "    return value**power"
   ]
  },
  {
   "cell_type": "code",
   "execution_count": 93,
   "metadata": {},
   "outputs": [
    {
     "data": {
      "text/plain": [
       "15.625"
      ]
     },
     "execution_count": 93,
     "metadata": {},
     "output_type": "execute_result"
    }
   ],
   "source": [
    "## utilizando a função chamada potência\n",
    "\n",
    "potencia(2.5,3)"
   ]
  },
  {
   "cell_type": "code",
   "execution_count": 95,
   "metadata": {},
   "outputs": [],
   "source": [
    "## importando bibliotecas com um alias\n",
    "import pandas as pd\n",
    "import numpy as np\n",
    "\n",
    "## importando somente uma função\n",
    "from pandas import read_csv"
   ]
  },
  {
   "cell_type": "code",
   "execution_count": 66,
   "metadata": {},
   "outputs": [],
   "source": [
    "## criando uma classe em python\n",
    "\n",
    "class MyClass():\n",
    "    \n",
    "    ## definindo o método construtor\n",
    "    def __init__(self,value):\n",
    "        self.value = value\n",
    "\n",
    "    ## definindo uma função\n",
    "    def print_value(self):\n",
    "        print(self.value)"
   ]
  },
  {
   "cell_type": "code",
   "execution_count": 67,
   "metadata": {},
   "outputs": [
    {
     "name": "stdout",
     "output_type": "stream",
     "text": [
      "15\n"
     ]
    }
   ],
   "source": [
    "## utilizando a classe criada acima\n",
    "\n",
    "MyClass(15).print_value()"
   ]
  },
  {
   "cell_type": "code",
   "execution_count": 69,
   "metadata": {},
   "outputs": [],
   "source": [
    "## criando um decorador\n",
    "\n",
    "def make_pretty(func):\n",
    "    def inner():\n",
    "        print(\"I got decorated\")\n",
    "        func()\n",
    "    return inner"
   ]
  },
  {
   "cell_type": "code",
   "execution_count": 70,
   "metadata": {},
   "outputs": [],
   "source": [
    "## utilizando um decorador\n",
    "\n",
    "@make_pretty\n",
    "def ordinary():\n",
    "    print('I am ordinary')"
   ]
  },
  {
   "cell_type": "code",
   "execution_count": 71,
   "metadata": {},
   "outputs": [
    {
     "name": "stdout",
     "output_type": "stream",
     "text": [
      "I got decorated\n",
      "I am ordinary\n"
     ]
    }
   ],
   "source": [
    "ordinary()"
   ]
  },
  {
   "cell_type": "markdown",
   "metadata": {},
   "source": [
    "Mais sobre decoradores \n",
    "\n",
    "https://wiki.python.org.br/Decoradores_Python_(Python_Decorators)"
   ]
  },
  {
   "cell_type": "code",
   "execution_count": 109,
   "metadata": {},
   "outputs": [
    {
     "name": "stdout",
     "output_type": "stream",
     "text": [
      "102 ns ± 3.73 ns per loop (mean ± std. dev. of 7 runs, 10000000 loops each)\n"
     ]
    }
   ],
   "source": [
    "## utilizando uma função mágica\n",
    "## a função abaixo roda a célular várias vezes e calcula o tempo de execução\n",
    "\n",
    "%%timeit\n",
    "import pandas as pd"
   ]
  },
  {
   "cell_type": "code",
   "execution_count": 72,
   "metadata": {},
   "outputs": [],
   "source": [
    "## gerando um string\n",
    "\n",
    "cdm = 'hoje de manhã eu tomei café da manhã e foi muito gostoso'"
   ]
  },
  {
   "cell_type": "code",
   "execution_count": 74,
   "metadata": {},
   "outputs": [
    {
     "data": {
      "text/plain": [
       "'hoje'"
      ]
     },
     "execution_count": 74,
     "metadata": {},
     "output_type": "execute_result"
    }
   ],
   "source": [
    "## efetuando um slicing da primeira até a quinta posição\n",
    "\n",
    "cdm[0:4]\n",
    "\n",
    "## lembrando que espaços em branco também são contados"
   ]
  },
  {
   "cell_type": "code",
   "execution_count": 122,
   "metadata": {},
   "outputs": [
    {
     "data": {
      "text/plain": [
       "['hoj', ' d', ' manhã ', 'u tom', 'i café da manhã ', ' foi muito gostoso']"
      ]
     },
     "execution_count": 122,
     "metadata": {},
     "output_type": "execute_result"
    }
   ],
   "source": [
    "## executando um split na string utilizando a letra 'e' como separador\n",
    "\n",
    "cdm.split(sep='e',maxsplit=-1)"
   ]
  },
  {
   "cell_type": "code",
   "execution_count": 75,
   "metadata": {},
   "outputs": [
    {
     "data": {
      "text/plain": [
       "['hoj', ' de manhã eu tomei café da manhã e foi muito gostoso']"
      ]
     },
     "execution_count": 75,
     "metadata": {},
     "output_type": "execute_result"
    }
   ],
   "source": [
    "## executando um split na string utilizando a letra 'e' como separador e limitando a quantidade de quebras para 1\n",
    "\n",
    "cdm.split('e',1)"
   ]
  },
  {
   "cell_type": "code",
   "execution_count": 76,
   "metadata": {},
   "outputs": [
    {
     "data": {
      "text/plain": [
       "['hoje de manhã eu tomei café da manhã ', ' foi muito gostoso']"
      ]
     },
     "execution_count": 76,
     "metadata": {},
     "output_type": "execute_result"
    }
   ],
   "source": [
    "## executando um split com as mesmas configurações do exemplo acima, porém usando a função 'rsplit' iniciamos a leitura da string da direita para a esquerda.\n",
    "\n",
    "cdm.rsplit('e',1)"
   ]
  },
  {
   "cell_type": "code",
   "execution_count": 141,
   "metadata": {},
   "outputs": [
    {
     "data": {
      "text/plain": [
       "125000.58"
      ]
     },
     "execution_count": 141,
     "metadata": {},
     "output_type": "execute_result"
    }
   ],
   "source": [
    "## Utilizando a função replace para alterar a vírgula e ponto\n",
    "\n",
    "x = '125000,58'.replace(',','.')\n",
    "float(x)"
   ]
  },
  {
   "cell_type": "code",
   "execution_count": 144,
   "metadata": {},
   "outputs": [
    {
     "name": "stdin",
     "output_type": "stream",
     "text": [
      ">> Escreva sua altura 1.71\n"
     ]
    }
   ],
   "source": [
    "## Utilizando a função input para coletar dados do usuário\n",
    "\n",
    "x = float(input('>> Escreva sua altura'))"
   ]
  },
  {
   "cell_type": "code",
   "execution_count": 146,
   "metadata": {},
   "outputs": [
    {
     "data": {
      "text/plain": [
       "float"
      ]
     },
     "execution_count": 146,
     "metadata": {},
     "output_type": "execute_result"
    }
   ],
   "source": [
    "type(x)"
   ]
  },
  {
   "cell_type": "code",
   "execution_count": 13,
   "metadata": {},
   "outputs": [],
   "source": [
    "dc = {'chave1':{'chave_aninhada':1,\n",
    "               'chave_aninhada02':2}}"
   ]
  },
  {
   "cell_type": "code",
   "execution_count": 14,
   "metadata": {},
   "outputs": [
    {
     "data": {
      "text/plain": [
       "dict_keys(['chave1'])"
      ]
     },
     "execution_count": 14,
     "metadata": {},
     "output_type": "execute_result"
    }
   ],
   "source": [
    "dc.keys()"
   ]
  },
  {
   "cell_type": "code",
   "execution_count": 15,
   "metadata": {},
   "outputs": [
    {
     "data": {
      "text/plain": [
       "dict_values([{'chave_aninhada': 1, 'chave_aninhada02': 2}])"
      ]
     },
     "execution_count": 15,
     "metadata": {},
     "output_type": "execute_result"
    }
   ],
   "source": [
    "dc.values()"
   ]
  },
  {
   "cell_type": "code",
   "execution_count": 17,
   "metadata": {},
   "outputs": [
    {
     "data": {
      "text/plain": [
       "dict_keys(['chave_aninhada', 'chave_aninhada02'])"
      ]
     },
     "execution_count": 17,
     "metadata": {},
     "output_type": "execute_result"
    }
   ],
   "source": [
    "dc['chave1'].keys()"
   ]
  },
  {
   "cell_type": "code",
   "execution_count": 22,
   "metadata": {},
   "outputs": [],
   "source": [
    "dc['chave1']['chave_aninhada02'] += 5"
   ]
  },
  {
   "cell_type": "code",
   "execution_count": 23,
   "metadata": {},
   "outputs": [
    {
     "data": {
      "text/plain": [
       "{'chave1': {'chave_aninhada': 1, 'chave_aninhada02': 7}}"
      ]
     },
     "execution_count": 23,
     "metadata": {},
     "output_type": "execute_result"
    }
   ],
   "source": [
    "dc"
   ]
  },
  {
   "cell_type": "code",
   "execution_count": null,
   "metadata": {},
   "outputs": [],
   "source": []
  }
 ],
 "metadata": {
  "kernelspec": {
   "display_name": "Python 3.7.6 64-bit ('base': conda)",
   "language": "python",
   "name": "python37664bitbaseconda774df39cacc84caf9286edd8f47a70cc"
  },
  "language_info": {
   "codemirror_mode": {
    "name": "ipython",
    "version": 3
   },
   "file_extension": ".py",
   "mimetype": "text/x-python",
   "name": "python",
   "nbconvert_exporter": "python",
   "pygments_lexer": "ipython3",
   "version": "3.7.6"
  }
 },
 "nbformat": 4,
 "nbformat_minor": 4
}
