{
  "nbformat": 4,
  "nbformat_minor": 0,
  "metadata": {
    "kernelspec": {
      "display_name": "Python 3.7.6 64-bit ('base': conda)",
      "language": "python",
      "name": "python37664bitbaseconda774df39cacc84caf9286edd8f47a70cc"
    },
    "language_info": {
      "codemirror_mode": {
        "name": "ipython",
        "version": 3
      },
      "file_extension": ".py",
      "mimetype": "text/x-python",
      "name": "python",
      "nbconvert_exporter": "python",
      "pygments_lexer": "ipython3",
      "version": "3.7.6"
    },
    "colab": {
      "name": "Cópia de lista002_pandas_matplotlib.ipynb",
      "provenance": [],
      "include_colab_link": true
    }
  },
  "cells": [
    {
      "cell_type": "markdown",
      "metadata": {
        "id": "view-in-github",
        "colab_type": "text"
      },
      "source": [
        "<a href=\"https://colab.research.google.com/github/raquelcreis/CastoresIndomaveis/blob/master/lista002_pandas_matplotlib_Raquel%20Reis.ipynb\" target=\"_parent\"><img src=\"https://colab.research.google.com/assets/colab-badge.svg\" alt=\"Open In Colab\"/></a>"
      ]
    },
    {
      "cell_type": "markdown",
      "metadata": {
        "id": "cOsev0q6mTnO",
        "colab_type": "text"
      },
      "source": [
        "# Lista 002 - Pandas, Matplotlib, GeoPandas e Folium.\n",
        "\n",
        "\n",
        "1. Monte um dataframe contendo todas as informações dos arquivos csv em 'data/transito'."
      ]
    },
    {
      "cell_type": "code",
      "metadata": {
        "id": "5NcKKmUwn2ey",
        "colab_type": "code",
        "colab": {
          "base_uri": "https://localhost:8080/",
          "height": 88
        },
        "outputId": "6d291211-0f29-4a0d-fd4e-2eacb0cdfd4b"
      },
      "source": [
        "import pandas as pd\n",
        "\n",
        "# arquivos csv separados em meses (de jan a jul)\n",
        "\n",
        "meses = [\"janeiro\",\"fevereiro\",\"marco\",\"abril\",\"maio\",\"junho\",\"julho\"]\n",
        "path = \"https://raw.githubusercontent.com/raquelcreis/CastoresIndomaveis/master/data/transito/\"\n",
        "csv_str = \".csv\"\n",
        "lista_dfs = []\n",
        "\n",
        "for mes in meses:\n",
        "  df = pd.read_csv(path+mes+csv_str,sep=';')\n",
        "  lista_dfs.append(df) \n",
        "\n",
        "dfs_transito = pd.concat(lista_dfs)\n",
        "dfs_transito.shape\n",
        "\n"
      ],
      "execution_count": null,
      "outputs": [
        {
          "output_type": "stream",
          "text": [
            "/usr/local/lib/python3.6/dist-packages/IPython/core/interactiveshell.py:2718: DtypeWarning: Columns (7) have mixed types.Specify dtype option on import or set low_memory=False.\n",
            "  interactivity=interactivity, compiler=compiler, result=result)\n"
          ],
          "name": "stderr"
        },
        {
          "output_type": "execute_result",
          "data": {
            "text/plain": [
              "(500495, 13)"
            ]
          },
          "metadata": {
            "tags": []
          },
          "execution_count": 37
        }
      ]
    },
    {
      "cell_type": "markdown",
      "metadata": {
        "id": "G2TnAoROzotw",
        "colab_type": "text"
      },
      "source": [
        "2. Quantos tipos diferentes de gravidade de infração exitem no dataset? Quais são?"
      ]
    },
    {
      "cell_type": "code",
      "metadata": {
        "id": "ZaKHAaaTzrOO",
        "colab_type": "code",
        "colab": {
          "base_uri": "https://localhost:8080/",
          "height": 34
        },
        "outputId": "5a6ff73d-80d7-437a-f74c-79325ac3cdbe"
      },
      "source": [
        "dfs_transito.tipo_infracao.nunique()"
      ],
      "execution_count": null,
      "outputs": [
        {
          "output_type": "execute_result",
          "data": {
            "text/plain": [
              "210"
            ]
          },
          "metadata": {
            "tags": []
          },
          "execution_count": 48
        }
      ]
    },
    {
      "cell_type": "code",
      "metadata": {
        "id": "Ujq440jQ0XiM",
        "colab_type": "code",
        "colab": {
          "base_uri": "https://localhost:8080/",
          "height": 629
        },
        "outputId": "257aa37f-88c1-4532-d32e-ec4dd8bbcc81"
      },
      "source": [
        "dfs_transito.tipo_infracao.unique()"
      ],
      "execution_count": null,
      "outputs": [
        {
          "output_type": "execute_result",
          "data": {
            "text/plain": [
              "array(['7234-0', '7455-0', '7471-0', '6769-0', '7463-0', '6050-3',\n",
              "       '5525-0', '6076-0', '6068-1', '7579-0', '5452-5', '6599-2',\n",
              "       '5045-0', '5029-2', '6637-2', '5452-7', '5169-1', '5835-0',\n",
              "       '5843-4', '5800-0', '5878-0', '6408-0', '6530-0', '6173-1',\n",
              "       '6670-0', '5010-0', '6653-1', '6980-0', '7633-1', '6700-0',\n",
              "       '6610-2', '5819-7', '5185-1', '5118-0', '5169-2', '5193-0',\n",
              "       '5185-2', '5207-0', '5843-3', '7315-0', '5231-1', '5819-5',\n",
              "       '5096-0', '7633-2', '6440-0', '7340-0', '5681-0', '5967-0',\n",
              "       '5711-0', '7587-0', '5690-0', '5720-0', '6041-2', '6602-0',\n",
              "       '6726-1', '5428-2', '7366-2', '5037-1', '5444-0', '6637-1',\n",
              "       '5274-1', '5738-0', '5908-0', '5819-6', '5770-4', '5860-0',\n",
              "       '5452-1', '5479-0', '5851-2', '5991-0', '6912-0', '6432-2',\n",
              "       '6050-1', '6580-0', '6556-1', '6645-0', '5940-1', '7358-0',\n",
              "       '5142-0', '5541-1', '7064-0', '5371-0', '5789-0', '5568-0',\n",
              "       '5819-4', '5061-0', '5177-0', '7080-0', '7277-0', '5975-0',\n",
              "       '6033-0', '7285-0', '5347-0', '6050-2', '6491-0', '7366-1',\n",
              "       '6122-0', '6386-0', '6653-2', '5746-3', '7625-1', '5819-1',\n",
              "       '5509-0', '7099-1', '6130-0', '6181-0', '7323-2', '5770-3',\n",
              "       '5797-0', '5851-1', '5215-2', '5053-1', '6823-1', '5614-2',\n",
              "       '5037-2', '6173-2', '5126-2', '5215-1', '7625-2', '5703-0',\n",
              "       '6955-0', '5827-0', '6025-0', '5819-2', '5770-2', '6610-1',\n",
              "       '5029-1', '6564-0', '6785-3', '6785-1', '6270-0', '6041-1',\n",
              "       '5924-1', '6017-1', '5428-4', '5630-0', '6947-3', '5452-2',\n",
              "       '5550-0', '6459-1', '5746-1', '5452-6', '6750-0', '6718-0',\n",
              "       '6017-4', '5274-2', '5606-0', '5240-0', '6823-2', '6599-1',\n",
              "       '5983-0', '5819-3', '6661-0', '6432-1', '5460-0', '5843-2',\n",
              "       '7102-3', '5134-1', '5657-0', '5410-0', '5134-2', '5223-1',\n",
              "       '5304-0', '5452-3', '6009-5', '5622-2', '7250-0', '6114-0',\n",
              "       '7048-1', '6548-0', '7242-2', '6971-0', '5428-1', '7218-0',\n",
              "       '5770-5', '6483-0', '5231-2', '7056-1', '6084-3', '5541-3',\n",
              "       '5380-0', '5665-0', '7030-3', '7030-1', '6785-2', '5452-4',\n",
              "       '6068-2', '5622-5', '5258-3', '7293-0', '7269-0', '7323-3',\n",
              "       '6017-2', '6084-1', '5843-1', '6459-2', '6807-0', '6793-0',\n",
              "       '5541-2', '6149-0', '5673-1', '5487-0', '6947-1', '6009-3',\n",
              "       '6963-0', '6467-0', '6556-4', '7560-0', '7056-2', '5282-0'],\n",
              "      dtype=object)"
            ]
          },
          "metadata": {
            "tags": []
          },
          "execution_count": 47
        }
      ]
    },
    {
      "cell_type": "markdown",
      "metadata": {
        "id": "8lad7PZZ0xrT",
        "colab_type": "text"
      },
      "source": [
        "3. Qual a hora do dia que mais se cometem infrações graves? Demonstre utilizando um gráfico de linhas."
      ]
    },
    {
      "cell_type": "code",
      "metadata": {
        "id": "tIn6RXf3009e",
        "colab_type": "code",
        "colab": {
          "base_uri": "https://localhost:8080/",
          "height": 649
        },
        "outputId": "b53d2133-704c-4459-a5f4-a5ec257fa16a"
      },
      "source": [
        "dfs_transito.head()"
      ],
      "execution_count": null,
      "outputs": [
        {
          "output_type": "execute_result",
          "data": {
            "text/html": [
              "<div>\n",
              "<style scoped>\n",
              "    .dataframe tbody tr th:only-of-type {\n",
              "        vertical-align: middle;\n",
              "    }\n",
              "\n",
              "    .dataframe tbody tr th {\n",
              "        vertical-align: top;\n",
              "    }\n",
              "\n",
              "    .dataframe thead th {\n",
              "        text-align: right;\n",
              "    }\n",
              "</style>\n",
              "<table border=\"1\" class=\"dataframe\">\n",
              "  <thead>\n",
              "    <tr style=\"text-align: right;\">\n",
              "      <th></th>\n",
              "      <th>tipo_infracao</th>\n",
              "      <th>descricao</th>\n",
              "      <th>tipo_infrator</th>\n",
              "      <th>tipo_veiculo</th>\n",
              "      <th>cometimento</th>\n",
              "      <th>hora_cometimento</th>\n",
              "      <th>auinf_local_rodovia</th>\n",
              "      <th>auinf_local_km</th>\n",
              "      <th>auinf_local_referencia</th>\n",
              "      <th>auinf_local_complemento</th>\n",
              "      <th>auinf_local_latitude</th>\n",
              "      <th>auinf_local_longitude</th>\n",
              "      <th>grav_tipo</th>\n",
              "    </tr>\n",
              "  </thead>\n",
              "  <tbody>\n",
              "    <tr>\n",
              "      <th>0</th>\n",
              "      <td>7234-0</td>\n",
              "      <td>Em movimento, deixar de manter acesa a luz bai...</td>\n",
              "      <td>Condutor</td>\n",
              "      <td>Automóvel</td>\n",
              "      <td>01/01/2020</td>\n",
              "      <td>00:00</td>\n",
              "      <td>DF004</td>\n",
              "      <td>14</td>\n",
              "      <td>Sentido Decrescente</td>\n",
              "      <td>NaN</td>\n",
              "      <td>-1.582.128.023</td>\n",
              "      <td>-4.788.254.337</td>\n",
              "      <td>Média</td>\n",
              "    </tr>\n",
              "    <tr>\n",
              "      <th>1</th>\n",
              "      <td>7455-0</td>\n",
              "      <td>Transitar em velocidade superior à máxima perm...</td>\n",
              "      <td>Condutor</td>\n",
              "      <td>UTILITARIO</td>\n",
              "      <td>01/01/2020</td>\n",
              "      <td>00:00</td>\n",
              "      <td>DF-025 (EPDB) KM 1,3 (ALT. FLORICULTURAS) SENT...</td>\n",
              "      <td>NaN</td>\n",
              "      <td>NaN</td>\n",
              "      <td>NaN</td>\n",
              "      <td>NaN</td>\n",
              "      <td>NaN</td>\n",
              "      <td>Média</td>\n",
              "    </tr>\n",
              "    <tr>\n",
              "      <th>2</th>\n",
              "      <td>7455-0</td>\n",
              "      <td>Transitar em velocidade superior à máxima perm...</td>\n",
              "      <td>Condutor</td>\n",
              "      <td>AUTOMOVEL</td>\n",
              "      <td>01/01/2020</td>\n",
              "      <td>00:01</td>\n",
              "      <td>DF-001(EPCT)Km 57,6 Sent. Rec. das Emas/Viadut...</td>\n",
              "      <td>NaN</td>\n",
              "      <td>NaN</td>\n",
              "      <td>NaN</td>\n",
              "      <td>NaN</td>\n",
              "      <td>NaN</td>\n",
              "      <td>Média</td>\n",
              "    </tr>\n",
              "    <tr>\n",
              "      <th>3</th>\n",
              "      <td>7455-0</td>\n",
              "      <td>Transitar em velocidade superior à máxima perm...</td>\n",
              "      <td>Condutor</td>\n",
              "      <td>AUTOMOVEL</td>\n",
              "      <td>01/01/2020</td>\n",
              "      <td>00:01</td>\n",
              "      <td>DF-001(EPCT)Km 65,5 Sent. Samambaia/Viaduto do...</td>\n",
              "      <td>NaN</td>\n",
              "      <td>NaN</td>\n",
              "      <td>NaN</td>\n",
              "      <td>NaN</td>\n",
              "      <td>NaN</td>\n",
              "      <td>Média</td>\n",
              "    </tr>\n",
              "    <tr>\n",
              "      <th>4</th>\n",
              "      <td>7455-0</td>\n",
              "      <td>Transitar em velocidade superior à máxima perm...</td>\n",
              "      <td>Condutor</td>\n",
              "      <td>AUTOMOVEL</td>\n",
              "      <td>01/01/2020</td>\n",
              "      <td>00:03</td>\n",
              "      <td>DF-075 (EPNB) KM 2,4 SENT. N. BAND / EPIA (DF-...</td>\n",
              "      <td>NaN</td>\n",
              "      <td>NaN</td>\n",
              "      <td>NaN</td>\n",
              "      <td>NaN</td>\n",
              "      <td>NaN</td>\n",
              "      <td>Média</td>\n",
              "    </tr>\n",
              "  </tbody>\n",
              "</table>\n",
              "</div>"
            ],
            "text/plain": [
              "  tipo_infracao  ... grav_tipo\n",
              "0        7234-0  ...     Média\n",
              "1        7455-0  ...     Média\n",
              "2        7455-0  ...     Média\n",
              "3        7455-0  ...     Média\n",
              "4        7455-0  ...     Média\n",
              "\n",
              "[5 rows x 13 columns]"
            ]
          },
          "metadata": {
            "tags": []
          },
          "execution_count": 51
        }
      ]
    },
    {
      "cell_type": "code",
      "metadata": {
        "id": "GbrNJ9z41j36",
        "colab_type": "code",
        "colab": {
          "base_uri": "https://localhost:8080/",
          "height": 51
        },
        "outputId": "d20656aa-48c0-4cf6-e827-8366a30e9f35"
      },
      "source": [
        "dfs_transito['hora_cometimento'] = pd.to_datetime(dfs_transito['hora_cometimento'])\n",
        "mask = dfs_transito.grav_tipo == 'Grave'\n",
        "dfs_transito[mask].hora_cometimento.st()\n"
      ],
      "execution_count": null,
      "outputs": [
        {
          "output_type": "execute_result",
          "data": {
            "text/plain": [
              "0   2020-09-20 08:15:00\n",
              "dtype: datetime64[ns]"
            ]
          },
          "metadata": {
            "tags": []
          },
          "execution_count": 58
        }
      ]
    },
    {
      "cell_type": "markdown",
      "metadata": {
        "id": "hXzSDiSKk1gZ",
        "colab_type": "text"
      },
      "source": [
        "\n",
        "\n",
        "\n",
        "4. Qual dia da semana que mais se cometem infrações leves? Demonstre utilizando um gráfico de linhas e coloando um texto no ponto máximo.\n",
        "5. Filtre o dataset pelo tipo de condutor 'pessoa jurídica', qual o tipo de infração mais comum? Em que horário ele mais acontece? Monte um subplot para demonstrar as duas informações utilizando gráficos.\n",
        "8. Monte um subplot com 7 heatmaps (1 para cada mês) demonstrando a concentração da quantidade infrações por dia do mês e hora do dia (desconsidere os minutos).\n",
        "6. Alguma bicicleta já tomou multa? Se sim, qual foi a gravidade?\n",
        "7. Utilizando regular expressions (biblioteca re) extraia a rodovia (DF-128, DF 459 etc) onde a infração foi cometida.\n",
        "8. Leia as informações de cada rodovia utilizando o link abaixo e guarde em um dataframe.\n",
        "\n",
        "'http://dados.df.gov.br/dataset/3cb44f4a-576c-45b8-8f13-ae94a6623277/resource/2bd0f48e-d3a1-47c6-bd12-83aed24e9461/download/2020-05-19-scr.csv'\n",
        "\n",
        "9. Cruze as informações dos dois datasets e descubra, em qual distrito rodoviário (coluna 'D.R') ocorreram mais infrações. Demonstre através de um gráfico.\n",
        "10. Investigando a extensão das rodovias responda (TRUE ou FALSE).\n",
        "\n",
        "> 10.1 Rodovias com extensão menor que 1 km tem uma predominância de infrações leves.\n",
        "\n",
        "> 10.2 Rodovias com extensão maior que 5 km tem uma predominância de infrações graves.\n",
        "\n",
        "> 10.3 A distribuição das extensões das rodovias vicinais segue uma normal. (Demonstre com um gráfico e um teste estatístico)\n",
        "\n",
        "> 10.4 A distribuição das extensões das rodovias federais segue uma normal. (Demonstre com um gráfico e um teste estatístico)\n",
        "\n",
        "> 10.5 Existe uma diferença estatística entre as médias das extensões da rodovias vicinais e federais. (Demonstre com um teste estatístico)\n",
        "\n",
        "11. Leia as informações de Obra de Arte Especial (OAE) utilizando o link abaixo e guarde em um dataframe.\n",
        "\n",
        "'http://dados.df.gov.br/dataset/468f0b08-f5ae-4d61-954c-3062a9d26dad/resource/fac7a26a-baa3-4250-9ae5-b9c7273ae8df/download/2020-05-19-oae.csv'\n",
        "\n",
        "12. Existe alguma correlação entre a quantidade de OAE e a quantidade de infrações leves nas rodovias?\n",
        "13. Existe alguma correlação entre a quantidade de OAE e a quantidade de infrações gravíssimas nas rodovias?\n",
        "14. Existe alguma correlação entre a quantidade de OAE e a quantidade de infrações gravíssimas nas rodovias?\n",
        "15. Investigue a situação da OAE e avalie. Rodovias com uma predominância de OAE em situação BOA possuem uma menor quantidade de infrações do que aquelas com situação RUIM.\n",
        "\n",
        "16. Siga as instruções.\n",
        "\n",
        "> 16.1 Crie um dataframe chamado dist_oae com as informações COD.OAE, LONGITUDE, LATITUDE de cada OAE.\n",
        "\n",
        "> 16.2 Trate as colunas de latitude e longitude, transformando-as de string para float. (ex: '-47.865.095.411.000' de ser transformado em -47.865095411000)\n",
        "\n",
        "> 16.3 Transforme dist_oae em um GeoDataFrame e no parâmetro geometry passe a função do geopandas points_fromn_xy com as informações de longitude e latitude em fortmato de serie.\n",
        "\n",
        "17. Usando os pontos em geometry do GeoDataFrame dist_oae monte um mapa utilizando folium que contenha todas as obras de artes especiais (dica: para extrair a latitude ou longitude de um bosto basta utilizar os métodos .x ou .y). Adicione no tooltip de cada Marker o tipo da OAE.\n",
        "\n",
        "18. Descruba a distância entre a OAE de código 1 e todas as outras OAE (utilize o método .distance de cada point em geometry). Crie um subplot com 2 gráficos, o primeiro deverá conter um histograma de todas as distâncias e o segundo deverá ser um boxplot de todas as distâncias."
      ]
    }
  ]
}