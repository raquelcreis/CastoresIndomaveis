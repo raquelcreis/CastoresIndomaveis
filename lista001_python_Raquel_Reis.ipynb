{
  "nbformat": 4,
  "nbformat_minor": 0,
  "metadata": {
    "kernelspec": {
      "display_name": "Python [conda env:root] *",
      "language": "python",
      "name": "conda-root-py"
    },
    "language_info": {
      "codemirror_mode": {
        "name": "ipython",
        "version": 3
      },
      "file_extension": ".py",
      "mimetype": "text/x-python",
      "name": "python",
      "nbconvert_exporter": "python",
      "pygments_lexer": "ipython3",
      "version": "3.7.6"
    },
    "colab": {
      "name": "lista001_python - Raquel Reis.ipynb",
      "provenance": [],
      "include_colab_link": true
    }
  },
  "cells": [
    {
      "cell_type": "markdown",
      "metadata": {
        "id": "view-in-github",
        "colab_type": "text"
      },
      "source": [
        "<a href=\"https://colab.research.google.com/github/raquelcreis/CastoresIndomaveis/blob/master/lista001_python_Raquel_Reis.ipynb\" target=\"_parent\"><img src=\"https://colab.research.google.com/assets/colab-badge.svg\" alt=\"Open In Colab\"/></a>"
      ]
    },
    {
      "cell_type": "markdown",
      "metadata": {
        "id": "dbmAghk928dP",
        "colab_type": "text"
      },
      "source": [
        "## Lista 01 - Python - Raquel Reis"
      ]
    },
    {
      "cell_type": "markdown",
      "metadata": {
        "id": "xc7q2YPz28dR",
        "colab_type": "text"
      },
      "source": [
        "Nessa lista você deverá desenvolver o código para resolver as questões abaixo. Divida bem suas questões e utilize células markdown para indicar qual questão está respondendo. Documento bem seu código utilizando docstrings, comentários e célular markdown."
      ]
    },
    {
      "cell_type": "markdown",
      "metadata": {
        "id": "1CxIS_9E3tQb",
        "colab_type": "text"
      },
      "source": [
        "1 - Execute todas as operações aritiméticas básicas (adição, subtração, divisão e multiplicação) com as variáveis 'a' e 'b' abaixo.\n",
        "\n",
        "a = 15\n",
        "b = 12"
      ]
    },
    {
      "cell_type": "code",
      "metadata": {
        "id": "9m5aahIz3wxY",
        "colab_type": "code",
        "colab": {
          "base_uri": "https://localhost:8080/",
          "height": 85
        },
        "outputId": "ccc4ebdd-4854-4332-e58e-7ca69840d53e"
      },
      "source": [
        "a = 15\n",
        "b = 12\n",
        "print(\"a + b = \",a+b,\"\\na - b = \",a-b,\"\\na * b = \",a*b,\"\\na / b = \",a/b,)"
      ],
      "execution_count": null,
      "outputs": [
        {
          "output_type": "stream",
          "text": [
            "a + b =  27 \n",
            "a - b =  3 \n",
            "a * b =  180 \n",
            "a / b =  1.25\n"
          ],
          "name": "stdout"
        }
      ]
    },
    {
      "cell_type": "markdown",
      "metadata": {
        "id": "jy7jbU1e8U_O",
        "colab_type": "text"
      },
      "source": [
        "2 - Tente calcular o seu IMC utilizando somente operações matemáticas. Dica: o IMC é calculado da seguinte forma: IMC = peso / (altura em metros * altura em metros)"
      ]
    },
    {
      "cell_type": "code",
      "metadata": {
        "id": "ZEdouPgh8Yv4",
        "colab_type": "code",
        "colab": {
          "base_uri": "https://localhost:8080/",
          "height": 68
        },
        "outputId": "87a8ca96-9dbd-4d7f-8a85-7494c99de6bb"
      },
      "source": [
        "peso = input(\"Informe seu peso (kg):\")\n",
        "peso = float(peso)\n",
        "altura = input(\"Informe sua altura (m):\")\n",
        "altura = float(altura)\n",
        "IMC = peso / (altura **2)\n",
        "print(\"Seu IMC é:\",IMC)"
      ],
      "execution_count": null,
      "outputs": [
        {
          "output_type": "stream",
          "text": [
            "Informe seu peso (kg):67\n",
            "Informe sua altura (m):1.61\n",
            "Seu IMC é: 25.847768218818715\n"
          ],
          "name": "stdout"
        }
      ]
    },
    {
      "cell_type": "markdown",
      "metadata": {
        "id": "D_0wpftT93SC",
        "colab_type": "text"
      },
      "source": [
        "3 - Sua professora de português pediu para você escrever a frase 'português é maravilhoso' 50 vezes. Como resolver esse problema com python? Demonstre sua solução."
      ]
    },
    {
      "cell_type": "code",
      "metadata": {
        "id": "hJg2fYpA92sx",
        "colab_type": "code",
        "colab": {
          "base_uri": "https://localhost:8080/",
          "height": 867
        },
        "outputId": "455f2b5e-20a6-4805-d4a1-9eb653ed1a29"
      },
      "source": [
        "for i in range(50):\n",
        "  print(\"português é maravilhoso\")"
      ],
      "execution_count": null,
      "outputs": [
        {
          "output_type": "stream",
          "text": [
            "português é maravilhoso\n",
            "português é maravilhoso\n",
            "português é maravilhoso\n",
            "português é maravilhoso\n",
            "português é maravilhoso\n",
            "português é maravilhoso\n",
            "português é maravilhoso\n",
            "português é maravilhoso\n",
            "português é maravilhoso\n",
            "português é maravilhoso\n",
            "português é maravilhoso\n",
            "português é maravilhoso\n",
            "português é maravilhoso\n",
            "português é maravilhoso\n",
            "português é maravilhoso\n",
            "português é maravilhoso\n",
            "português é maravilhoso\n",
            "português é maravilhoso\n",
            "português é maravilhoso\n",
            "português é maravilhoso\n",
            "português é maravilhoso\n",
            "português é maravilhoso\n",
            "português é maravilhoso\n",
            "português é maravilhoso\n",
            "português é maravilhoso\n",
            "português é maravilhoso\n",
            "português é maravilhoso\n",
            "português é maravilhoso\n",
            "português é maravilhoso\n",
            "português é maravilhoso\n",
            "português é maravilhoso\n",
            "português é maravilhoso\n",
            "português é maravilhoso\n",
            "português é maravilhoso\n",
            "português é maravilhoso\n",
            "português é maravilhoso\n",
            "português é maravilhoso\n",
            "português é maravilhoso\n",
            "português é maravilhoso\n",
            "português é maravilhoso\n",
            "português é maravilhoso\n",
            "português é maravilhoso\n",
            "português é maravilhoso\n",
            "português é maravilhoso\n",
            "português é maravilhoso\n",
            "português é maravilhoso\n",
            "português é maravilhoso\n",
            "português é maravilhoso\n",
            "português é maravilhoso\n",
            "português é maravilhoso\n"
          ],
          "name": "stdout"
        }
      ]
    },
    {
      "cell_type": "markdown",
      "metadata": {
        "id": "dOLL5qtR-HBa",
        "colab_type": "text"
      },
      "source": [
        "4 - Um modelo de regressão linear possui a seguinte fórmula: y=0.253*x + 125. Qual será o valor de Y quando X for 125?"
      ]
    },
    {
      "cell_type": "code",
      "metadata": {
        "id": "y8gPP5Jp-K4l",
        "colab_type": "code",
        "colab": {
          "base_uri": "https://localhost:8080/",
          "height": 34
        },
        "outputId": "387669d7-4d54-4f98-bfea-01c2b035e7fb"
      },
      "source": [
        "x = 125\n",
        "y=0.253*x + 125\n",
        "y"
      ],
      "execution_count": null,
      "outputs": [
        {
          "output_type": "execute_result",
          "data": {
            "text/plain": [
              "156.625"
            ]
          },
          "metadata": {
            "tags": []
          },
          "execution_count": 4
        }
      ]
    },
    {
      "cell_type": "markdown",
      "metadata": {
        "id": "oOPJQfLM-bEI",
        "colab_type": "text"
      },
      "source": [
        "5 - Qual é raiz cubica de 144? Utilize somente operações python apresentadas neste notebook."
      ]
    },
    {
      "cell_type": "code",
      "metadata": {
        "id": "szs1suPV-en2",
        "colab_type": "code",
        "colab": {
          "base_uri": "https://localhost:8080/",
          "height": 34
        },
        "outputId": "a3a716bf-7f94-47b4-f5ac-b0f56a1a8140"
      },
      "source": [
        "r_Cub144 = 144**(1/3)\n",
        "r_Cub144"
      ],
      "execution_count": null,
      "outputs": [
        {
          "output_type": "execute_result",
          "data": {
            "text/plain": [
              "5.241482788417793"
            ]
          },
          "metadata": {
            "tags": []
          },
          "execution_count": 5
        }
      ]
    },
    {
      "cell_type": "markdown",
      "metadata": {
        "id": "Bp5C-kEt-vWx",
        "colab_type": "text"
      },
      "source": [
        "6 - Nossa matéria terá dois trabalhos! Os pesos são, respectivamente, 4 e 6. Imagine que você tenha tirado 8.2 no primeiro projeto e 3.3 no segundo projeto. Levando em consideração sua nota final e os pesos, você tirou uma média maior que 5?"
      ]
    },
    {
      "cell_type": "code",
      "metadata": {
        "id": "G0aLCZgp-zDe",
        "colab_type": "code",
        "colab": {
          "base_uri": "https://localhost:8080/",
          "height": 34
        },
        "outputId": "3ecbb79e-188e-41e9-94c2-5492e678959b"
      },
      "source": [
        "n1 = 8.2\n",
        "n2 = 3.3\n",
        "nota_Final = 0.4*n1 + 0.6*n2\n",
        "if nota_Final > 5:\n",
        "  print(\"Acima da média 5\")\n",
        "else:\n",
        "  print(\"Abaixo da média 5\")"
      ],
      "execution_count": null,
      "outputs": [
        {
          "output_type": "stream",
          "text": [
            "Acima da média 5\n"
          ],
          "name": "stdout"
        }
      ]
    },
    {
      "cell_type": "markdown",
      "metadata": {
        "id": "eIh5Igzi_VJA",
        "colab_type": "text"
      },
      "source": [
        "\n",
        "7 - Crie uma lista 'a_list' com os seguintes valores: 1, hello, [1,2,3] e True."
      ]
    },
    {
      "cell_type": "code",
      "metadata": {
        "id": "pB-iAyQ7_XaA",
        "colab_type": "code",
        "colab": {
          "base_uri": "https://localhost:8080/",
          "height": 34
        },
        "outputId": "126c054b-c474-48bc-c2f2-12345e08eb41"
      },
      "source": [
        "a_list = [1, \"hello\", [1,2,3],True]\n",
        "a_list"
      ],
      "execution_count": null,
      "outputs": [
        {
          "output_type": "execute_result",
          "data": {
            "text/plain": [
              "[1, 'hello', [1, 2, 3], True]"
            ]
          },
          "metadata": {
            "tags": []
          },
          "execution_count": 7
        }
      ]
    },
    {
      "cell_type": "markdown",
      "metadata": {
        "id": "Vd8Pc0vZ_zha",
        "colab_type": "text"
      },
      "source": [
        "8 - Ache o valor em 'a_list' que esteja no índice -1."
      ]
    },
    {
      "cell_type": "code",
      "metadata": {
        "id": "Ma75MdY1_5xV",
        "colab_type": "code",
        "colab": {
          "base_uri": "https://localhost:8080/",
          "height": 34
        },
        "outputId": "f49fe924-c5f7-47c2-c30b-f69e82d1a196"
      },
      "source": [
        "a_list[-1]"
      ],
      "execution_count": null,
      "outputs": [
        {
          "output_type": "execute_result",
          "data": {
            "text/plain": [
              "True"
            ]
          },
          "metadata": {
            "tags": []
          },
          "execution_count": 8
        }
      ]
    },
    {
      "cell_type": "markdown",
      "metadata": {
        "id": "HK9fGqdJ_9O4",
        "colab_type": "text"
      },
      "source": [
        "9 - Encontre os valores em 'a_list' que estejam nos indices 1,2 e 3."
      ]
    },
    {
      "cell_type": "code",
      "metadata": {
        "id": "crhEPB18ABNX",
        "colab_type": "code",
        "colab": {
          "base_uri": "https://localhost:8080/",
          "height": 68
        },
        "outputId": "de1745be-31c8-46ba-d5bc-582b1ae70b1a"
      },
      "source": [
        "for i in range(3):\n",
        "  print(a_list[i+1])"
      ],
      "execution_count": null,
      "outputs": [
        {
          "output_type": "stream",
          "text": [
            "hello\n",
            "[1, 2, 3]\n",
            "True\n"
          ],
          "name": "stdout"
        }
      ]
    },
    {
      "cell_type": "markdown",
      "metadata": {
        "id": "S6eUopevAjs5",
        "colab_type": "text"
      },
      "source": [
        "10 - Junte as seguinte listas a=[1,2,3,4,5] e b=[11,12,13,14,15]"
      ]
    },
    {
      "cell_type": "code",
      "metadata": {
        "id": "of3Zf3SjAp2i",
        "colab_type": "code",
        "colab": {
          "base_uri": "https://localhost:8080/",
          "height": 34
        },
        "outputId": "9ee24608-4ce8-44a0-bb06-9a579df19426"
      },
      "source": [
        "a = [1,2,3,4,5]\n",
        "b = [11,12,13,14,15]\n",
        "a+b"
      ],
      "execution_count": null,
      "outputs": [
        {
          "output_type": "execute_result",
          "data": {
            "text/plain": [
              "[1, 2, 3, 4, 5, 11, 12, 13, 14, 15]"
            ]
          },
          "metadata": {
            "tags": []
          },
          "execution_count": 10
        }
      ]
    },
    {
      "cell_type": "markdown",
      "metadata": {
        "id": "0R6OYv2GAxZn",
        "colab_type": "text"
      },
      "source": [
        "11 - Crie uma lista de listas 'list_list' que tenha os valores de 'a_list', 'a' e 'b'"
      ]
    },
    {
      "cell_type": "code",
      "metadata": {
        "id": "HwRnbPeQAzfY",
        "colab_type": "code",
        "colab": {
          "base_uri": "https://localhost:8080/",
          "height": 34
        },
        "outputId": "c0aa186f-670c-47d0-a78b-ee5a3e2fcbef"
      },
      "source": [
        "list_list = a_list + a + b\n",
        "list_list"
      ],
      "execution_count": null,
      "outputs": [
        {
          "output_type": "execute_result",
          "data": {
            "text/plain": [
              "[1, 'hello', [1, 2, 3], True, 1, 2, 3, 4, 5, 11, 12, 13, 14, 15]"
            ]
          },
          "metadata": {
            "tags": []
          },
          "execution_count": 11
        }
      ]
    },
    {
      "cell_type": "markdown",
      "metadata": {
        "id": "L80EYRQPA84S",
        "colab_type": "text"
      },
      "source": [
        "12 - Qual o tamanho de 'list_list'?"
      ]
    },
    {
      "cell_type": "code",
      "metadata": {
        "id": "HnckiVLEA_-W",
        "colab_type": "code",
        "colab": {
          "base_uri": "https://localhost:8080/",
          "height": 34
        },
        "outputId": "6fd60898-e409-407f-b39a-40d35f49f8b7"
      },
      "source": [
        "len(list_list)"
      ],
      "execution_count": null,
      "outputs": [
        {
          "output_type": "execute_result",
          "data": {
            "text/plain": [
              "14"
            ]
          },
          "metadata": {
            "tags": []
          },
          "execution_count": 12
        }
      ]
    },
    {
      "cell_type": "markdown",
      "metadata": {
        "id": "J1FvXQTwBEfe",
        "colab_type": "text"
      },
      "source": [
        "13 - Adicione o valor 125 ao final de 'list_list'."
      ]
    },
    {
      "cell_type": "code",
      "metadata": {
        "id": "ytSWfl5hBDt3",
        "colab_type": "code",
        "colab": {
          "base_uri": "https://localhost:8080/",
          "height": 34
        },
        "outputId": "b52250be-7a71-4c31-e682-68e3a58fe9e9"
      },
      "source": [
        "list_list.append(125)\n",
        "list_list"
      ],
      "execution_count": null,
      "outputs": [
        {
          "output_type": "execute_result",
          "data": {
            "text/plain": [
              "[1, 'hello', [1, 2, 3], True, 1, 2, 3, 4, 5, 11, 12, 13, 14, 15, 125]"
            ]
          },
          "metadata": {
            "tags": []
          },
          "execution_count": 13
        }
      ]
    },
    {
      "cell_type": "markdown",
      "metadata": {
        "id": "RXojFqNRBMqU",
        "colab_type": "text"
      },
      "source": [
        "14 - Remova a lista [1,2,3] de 'list_list' e guarde esse valor numa variável 'list_a'."
      ]
    },
    {
      "cell_type": "code",
      "metadata": {
        "id": "IeEGhAjiBQLZ",
        "colab_type": "code",
        "colab": {
          "base_uri": "https://localhost:8080/",
          "height": 34
        },
        "outputId": "bca0038e-f544-42c1-d815-bb1786671dec"
      },
      "source": [
        "list_a = [1,2,3]\n",
        "list_list.remove([1,2,3])\n",
        "list_list"
      ],
      "execution_count": null,
      "outputs": [
        {
          "output_type": "execute_result",
          "data": {
            "text/plain": [
              "[1, 'hello', True, 1, 2, 3, 4, 5, 11, 12, 13, 14, 15, 125]"
            ]
          },
          "metadata": {
            "tags": []
          },
          "execution_count": 14
        }
      ]
    },
    {
      "cell_type": "markdown",
      "metadata": {
        "id": "HC4-KsI0EUiO",
        "colab_type": "text"
      },
      "source": [
        "15 - Qual é o primeiro valor do segundo valor de [[1,3,5,7],[2,4,6,8,10]]?"
      ]
    },
    {
      "cell_type": "code",
      "metadata": {
        "id": "hB4n_l7xEYck",
        "colab_type": "code",
        "colab": {
          "base_uri": "https://localhost:8080/",
          "height": 34
        },
        "outputId": "05a05ec5-0add-4cd1-a134-462966754802"
      },
      "source": [
        "lista = [[1,3,5,7],[2,4,6,8,10]]\n",
        "lista[1][0]"
      ],
      "execution_count": null,
      "outputs": [
        {
          "output_type": "execute_result",
          "data": {
            "text/plain": [
              "2"
            ]
          },
          "metadata": {
            "tags": []
          },
          "execution_count": 15
        }
      ]
    },
    {
      "cell_type": "markdown",
      "metadata": {
        "id": "Tt7-8yEfEtZh",
        "colab_type": "text"
      },
      "source": [
        "16 - Crie a tupla 'gnr' com os seguintes valores: rock, metal, sertanejo, pop, lo-fi e chillwave, nessa ordem."
      ]
    },
    {
      "cell_type": "code",
      "metadata": {
        "id": "3iYHp-IeEv9X",
        "colab_type": "code",
        "colab": {}
      },
      "source": [
        "gnr = (\"rock\",\"metal\",\"sertanejo\",\"pop\",\"lo-fi\",\"chillwave\")"
      ],
      "execution_count": null,
      "outputs": []
    },
    {
      "cell_type": "markdown",
      "metadata": {
        "id": "KOzDHc4yE81S",
        "colab_type": "text"
      },
      "source": [
        "17 - Qual o terceiro valor da tupla 'gnr'?"
      ]
    },
    {
      "cell_type": "code",
      "metadata": {
        "id": "lrihL37SE-8v",
        "colab_type": "code",
        "colab": {
          "base_uri": "https://localhost:8080/",
          "height": 35
        },
        "outputId": "060c36a6-05ee-40bf-ea6c-1ab4c9b7deb2"
      },
      "source": [
        "gnr[2]"
      ],
      "execution_count": null,
      "outputs": [
        {
          "output_type": "execute_result",
          "data": {
            "application/vnd.google.colaboratory.intrinsic+json": {
              "type": "string"
            },
            "text/plain": [
              "'sertanejo'"
            ]
          },
          "metadata": {
            "tags": []
          },
          "execution_count": 17
        }
      ]
    },
    {
      "cell_type": "markdown",
      "metadata": {
        "id": "oBbGXlDlFBlP",
        "colab_type": "text"
      },
      "source": [
        "18 - Qual o índice de lofi?"
      ]
    },
    {
      "cell_type": "code",
      "metadata": {
        "id": "dgak14LJFERX",
        "colab_type": "code",
        "colab": {
          "base_uri": "https://localhost:8080/",
          "height": 34
        },
        "outputId": "5bb70c3a-37ea-45d7-f503-4307a615e25f"
      },
      "source": [
        "gnr.index(\"lo-fi\")"
      ],
      "execution_count": null,
      "outputs": [
        {
          "output_type": "execute_result",
          "data": {
            "text/plain": [
              "4"
            ]
          },
          "metadata": {
            "tags": []
          },
          "execution_count": 18
        }
      ]
    },
    {
      "cell_type": "markdown",
      "metadata": {
        "id": "7ZAd0YuoFMdj",
        "colab_type": "text"
      },
      "source": [
        "19 - Crie uma tupla de tuplas com as seguintes tuplas (15,30), (20,40) e (25,50). Como acessar o valor 40?"
      ]
    },
    {
      "cell_type": "code",
      "metadata": {
        "id": "x7yz1FnwFOsb",
        "colab_type": "code",
        "colab": {
          "base_uri": "https://localhost:8080/",
          "height": 34
        },
        "outputId": "ad9fb457-4ef9-4357-f1f1-e0c54c029a29"
      },
      "source": [
        "tup_tup = ((15,30),(20,40),(25,50))\n",
        "tup_tup[1][1]"
      ],
      "execution_count": null,
      "outputs": [
        {
          "output_type": "execute_result",
          "data": {
            "text/plain": [
              "40"
            ]
          },
          "metadata": {
            "tags": []
          },
          "execution_count": 19
        }
      ]
    },
    {
      "cell_type": "markdown",
      "metadata": {
        "id": "DSUe2FzDFlMP",
        "colab_type": "text"
      },
      "source": [
        "20 - Acesse a tupla 'gnr' a cada dois valores, qual gêneros musicais aparecem?"
      ]
    },
    {
      "cell_type": "code",
      "metadata": {
        "id": "9J1DUU4lFo0R",
        "colab_type": "code",
        "colab": {
          "base_uri": "https://localhost:8080/",
          "height": 34
        },
        "outputId": "2f585a3e-6789-4a95-abf8-8a231debee5a"
      },
      "source": [
        "gnr[::2]"
      ],
      "execution_count": null,
      "outputs": [
        {
          "output_type": "execute_result",
          "data": {
            "text/plain": [
              "('rock', 'sertanejo', 'lo-fi')"
            ]
          },
          "metadata": {
            "tags": []
          },
          "execution_count": 20
        }
      ]
    },
    {
      "cell_type": "markdown",
      "metadata": {
        "id": "__JMRmd8HboO",
        "colab_type": "text"
      },
      "source": [
        "21 - Crie o dicionário 'mcu' com os seguintes dados, 'Homem de Ferro':2008, 'Homem de Ferro 2':2010, 'Homem de ferro 3':2013, 'Avengers: Endgame':2019.\n",
        "\n",
        "    a - No dicionário 'mcu' quais são os valores?\n",
        "\n",
        "    b - No dicińario 'mcu' quais são as chaves?\n",
        "\n",
        "    c - Adicione ao dicionário 'mcu' os seguintes filmes: 'Avengers Infinity War':2018, 'Avengers Age of Ultron':2015.\n",
        "\n",
        "    d - Delete o filme 'Homem de Ferro 3' do dicionário 'mcu'\n",
        "\n",
        "    e - Limpe o dicionário 'mcu'"
      ]
    },
    {
      "cell_type": "code",
      "metadata": {
        "id": "XSOFi4avHiBX",
        "colab_type": "code",
        "colab": {}
      },
      "source": [
        "mcu = { 'Homem de Ferro':2008,\n",
        "        'Homem de Ferro 2':2010, \n",
        "        'Homem de Ferro 3':2013,\n",
        "        'Avengers:Endgame':2019,  \n",
        "        }"
      ],
      "execution_count": null,
      "outputs": []
    },
    {
      "cell_type": "code",
      "metadata": {
        "id": "XgKiq3BGINZM",
        "colab_type": "code",
        "colab": {
          "base_uri": "https://localhost:8080/",
          "height": 34
        },
        "outputId": "5f58c3c5-7127-4e4a-fda6-8a559ef6ed6c"
      },
      "source": [
        "# letra a\n",
        "mcu.values()"
      ],
      "execution_count": null,
      "outputs": [
        {
          "output_type": "execute_result",
          "data": {
            "text/plain": [
              "dict_values([2008, 2010, 2013, 2019])"
            ]
          },
          "metadata": {
            "tags": []
          },
          "execution_count": 22
        }
      ]
    },
    {
      "cell_type": "code",
      "metadata": {
        "id": "Aj9tb0kgIR14",
        "colab_type": "code",
        "colab": {
          "base_uri": "https://localhost:8080/",
          "height": 34
        },
        "outputId": "76cab592-85a0-4c5a-9c16-64b79d65943b"
      },
      "source": [
        "# letra b\n",
        "mcu.keys()"
      ],
      "execution_count": null,
      "outputs": [
        {
          "output_type": "execute_result",
          "data": {
            "text/plain": [
              "dict_keys(['Homem de Ferro', 'Homem de Ferro 2', 'Homem de Ferro 3', 'Avengers:Endgame'])"
            ]
          },
          "metadata": {
            "tags": []
          },
          "execution_count": 23
        }
      ]
    },
    {
      "cell_type": "code",
      "metadata": {
        "id": "sAJvg3zeIVtC",
        "colab_type": "code",
        "colab": {
          "base_uri": "https://localhost:8080/",
          "height": 119
        },
        "outputId": "67fce012-01a8-4bec-fb3a-8fe6f586b8de"
      },
      "source": [
        "# letra c\n",
        "mcu['Avengers Infinity War'] = 2018\n",
        "mcu['Avengers Age of Ultron'] = 2015\n",
        "mcu"
      ],
      "execution_count": null,
      "outputs": [
        {
          "output_type": "execute_result",
          "data": {
            "text/plain": [
              "{'Avengers Age of Ultron': 2015,\n",
              " 'Avengers Infinity War': 2018,\n",
              " 'Avengers:Endgame': 2019,\n",
              " 'Homem de Ferro': 2008,\n",
              " 'Homem de Ferro 2': 2010,\n",
              " 'Homem de Ferro 3': 2013}"
            ]
          },
          "metadata": {
            "tags": []
          },
          "execution_count": 24
        }
      ]
    },
    {
      "cell_type": "code",
      "metadata": {
        "id": "roWLleIdJi4g",
        "colab_type": "code",
        "colab": {
          "base_uri": "https://localhost:8080/",
          "height": 102
        },
        "outputId": "e4da1095-f3d2-4455-f77d-63b19d31ca97"
      },
      "source": [
        "# letra d\n",
        "del mcu['Homem de Ferro 3']\n",
        "mcu"
      ],
      "execution_count": null,
      "outputs": [
        {
          "output_type": "execute_result",
          "data": {
            "text/plain": [
              "{'Avengers Age of Ultron': 2015,\n",
              " 'Avengers Infinity War': 2018,\n",
              " 'Avengers:Endgame': 2019,\n",
              " 'Homem de Ferro': 2008,\n",
              " 'Homem de Ferro 2': 2010}"
            ]
          },
          "metadata": {
            "tags": []
          },
          "execution_count": 25
        }
      ]
    },
    {
      "cell_type": "code",
      "metadata": {
        "id": "4oo2Cuj_Jsyq",
        "colab_type": "code",
        "colab": {}
      },
      "source": [
        "# letra e\n",
        "mcu.clear()"
      ],
      "execution_count": null,
      "outputs": []
    },
    {
      "cell_type": "markdown",
      "metadata": {
        "id": "5kNQzfV_LcD0",
        "colab_type": "text"
      },
      "source": [
        "22 - Popule o dicionário vazio 'mcu' com as informações abaixo:\n",
        "\n",
        "'homem de ferro':{'filmes':3,'ator principal':'Robert Downey Jr.'},'Cpt.América':{'filmes':3,'ator principal':'Chris Evans'}"
      ]
    },
    {
      "cell_type": "code",
      "metadata": {
        "id": "5nwnXT_MLei7",
        "colab_type": "code",
        "colab": {}
      },
      "source": [
        "mcu = {'homem de ferro':{'filmes':3,'ator principal':'Robert Downey Jr.'},\n",
        "       'Cpt.América':{'filmes':3,'ator principal':'Chris Evans'}\n",
        "      }"
      ],
      "execution_count": null,
      "outputs": []
    },
    {
      "cell_type": "markdown",
      "metadata": {
        "id": "aYWEzBo1R0CR",
        "colab_type": "text"
      },
      "source": [
        "23 - Acesse somente a quantidade de filmes de cada uma das chaves do dicionário MCU."
      ]
    },
    {
      "cell_type": "code",
      "metadata": {
        "id": "xS4qQsatR2vi",
        "colab_type": "code",
        "colab": {
          "base_uri": "https://localhost:8080/",
          "height": 34
        },
        "outputId": "398da07e-d20c-4244-9761-b996578a1c8e"
      },
      "source": [
        "mcu['homem de ferro']['filmes']\n"
      ],
      "execution_count": null,
      "outputs": [
        {
          "output_type": "execute_result",
          "data": {
            "text/plain": [
              "3"
            ]
          },
          "metadata": {
            "tags": []
          },
          "execution_count": 28
        }
      ]
    },
    {
      "cell_type": "code",
      "metadata": {
        "id": "l6WFaA9D1HKf",
        "colab_type": "code",
        "colab": {
          "base_uri": "https://localhost:8080/",
          "height": 34
        },
        "outputId": "29090a3a-baa3-490c-e267-16435f6c7912"
      },
      "source": [
        "mcu['Cpt.América']['filmes']"
      ],
      "execution_count": null,
      "outputs": [
        {
          "output_type": "execute_result",
          "data": {
            "text/plain": [
              "3"
            ]
          },
          "metadata": {
            "tags": []
          },
          "execution_count": 29
        }
      ]
    },
    {
      "cell_type": "markdown",
      "metadata": {
        "id": "dD8EqOXYVeQ9",
        "colab_type": "text"
      },
      "source": [
        "24 - Quais são as chaves do dicionário de dicionários 'mcu'?"
      ]
    },
    {
      "cell_type": "code",
      "metadata": {
        "id": "yNg9-FWpxPtT",
        "colab_type": "code",
        "colab": {
          "base_uri": "https://localhost:8080/",
          "height": 34
        },
        "outputId": "dc8407c6-d937-4673-bdeb-3bcfe3bc16fc"
      },
      "source": [
        "mcu.keys()"
      ],
      "execution_count": null,
      "outputs": [
        {
          "output_type": "execute_result",
          "data": {
            "text/plain": [
              "dict_keys(['homem de ferro', 'Cpt.América'])"
            ]
          },
          "metadata": {
            "tags": []
          },
          "execution_count": 30
        }
      ]
    },
    {
      "cell_type": "markdown",
      "metadata": {
        "id": "2Qpb8b-pxwHS",
        "colab_type": "text"
      },
      "source": [
        "25 - Qual o tamanho do dicionário de dicionários 'mcu'?"
      ]
    },
    {
      "cell_type": "code",
      "metadata": {
        "id": "b2BR0jobyN-G",
        "colab_type": "code",
        "colab": {
          "base_uri": "https://localhost:8080/",
          "height": 34
        },
        "outputId": "2f744831-54ff-4ae0-cb66-e50673bd363e"
      },
      "source": [
        "len(mcu)"
      ],
      "execution_count": null,
      "outputs": [
        {
          "output_type": "execute_result",
          "data": {
            "text/plain": [
              "2"
            ]
          },
          "metadata": {
            "tags": []
          },
          "execution_count": 31
        }
      ]
    },
    {
      "cell_type": "markdown",
      "metadata": {
        "id": "j3EpA-wkyZMp",
        "colab_type": "text"
      },
      "source": [
        "26 - Escreva uma função python que receba uma lista e separe os múltiplos de 5. Ao final ela retorna a soma de todos os valores da lista de entrada que são múltiplos de 5."
      ]
    },
    {
      "cell_type": "code",
      "metadata": {
        "id": "9Uz3OiYaycAf",
        "colab_type": "code",
        "colab": {}
      },
      "source": [
        "def mult5(numeros):\n",
        "  return sum([num for num in numeros if num%5==0])"
      ],
      "execution_count": null,
      "outputs": []
    },
    {
      "cell_type": "code",
      "metadata": {
        "id": "ljq134sM1SK4",
        "colab_type": "code",
        "colab": {
          "base_uri": "https://localhost:8080/",
          "height": 34
        },
        "outputId": "bbae9a93-2e90-491a-bca6-1c01eb5a4271"
      },
      "source": [
        "#teste para função q26\n",
        "teste_funcao = [1,2,3,4,5,6,7,8,9,10]\n",
        "mult5(teste_funcao)"
      ],
      "execution_count": null,
      "outputs": [
        {
          "output_type": "execute_result",
          "data": {
            "text/plain": [
              "15"
            ]
          },
          "metadata": {
            "tags": []
          },
          "execution_count": 33
        }
      ]
    },
    {
      "cell_type": "markdown",
      "metadata": {
        "id": "j1j_Jlkv5Xxp",
        "colab_type": "text"
      },
      "source": [
        "27 - Escreva uma função para verificar se uma palavra é um palíndromo e retorne 1 em casos positivos e zero em casos negativos."
      ]
    },
    {
      "cell_type": "code",
      "metadata": {
        "id": "z2dqlRxH5pFT",
        "colab_type": "code",
        "colab": {}
      },
      "source": [
        "def palindromo(palavra):\n",
        "  # deixar tudo minusculo\n",
        "  palavra = palavra.lower()\n",
        "\n",
        "  # varrendo a palavra da direita para esquerda\n",
        "  inverso = palavra[::-1]\n",
        "\n",
        "  if palavra == inverso:\n",
        "    return 1\n",
        "  else:\n",
        "    return 0"
      ],
      "execution_count": null,
      "outputs": []
    },
    {
      "cell_type": "code",
      "metadata": {
        "id": "L7Qjef-fHRVh",
        "colab_type": "code",
        "colab": {
          "base_uri": "https://localhost:8080/",
          "height": 34
        },
        "outputId": "bf6ad75f-1b77-402a-9c9b-261bb07ed714"
      },
      "source": [
        "#teste função q27\n",
        "\n",
        "teste1 = \"Arara\"\n",
        "palindromo(teste1)"
      ],
      "execution_count": null,
      "outputs": [
        {
          "output_type": "execute_result",
          "data": {
            "text/plain": [
              "1"
            ]
          },
          "metadata": {
            "tags": []
          },
          "execution_count": 42
        }
      ]
    },
    {
      "cell_type": "markdown",
      "metadata": {
        "id": "Rxt9SvPDIGRC",
        "colab_type": "text"
      },
      "source": [
        "28 - Escreva uma função que receba uma lista crie um dicionário com a contagem dos valores dessa lista."
      ]
    },
    {
      "cell_type": "code",
      "metadata": {
        "id": "2RL_JrgjIO7D",
        "colab_type": "code",
        "colab": {}
      },
      "source": [
        "def cria_dict(lista):\n",
        "  dicionario = {li:lista.index(li) for li in lista}\n",
        "  return dicionario"
      ],
      "execution_count": null,
      "outputs": []
    },
    {
      "cell_type": "code",
      "metadata": {
        "id": "irxZo69ONKI3",
        "colab_type": "code",
        "colab": {
          "base_uri": "https://localhost:8080/",
          "height": 34
        },
        "outputId": "b7980286-33c0-4bff-a324-85c1b9641ef8"
      },
      "source": [
        "# teste da função q28\n",
        "lista_teste = [ 10,20,30,40,50]\n",
        "cria_dict(lista_teste)"
      ],
      "execution_count": null,
      "outputs": [
        {
          "output_type": "execute_result",
          "data": {
            "text/plain": [
              "{10: 0, 20: 1, 30: 2, 40: 3, 50: 4}"
            ]
          },
          "metadata": {
            "tags": []
          },
          "execution_count": 82
        }
      ]
    },
    {
      "cell_type": "markdown",
      "metadata": {
        "id": "baAF_KmLV9n-",
        "colab_type": "text"
      },
      "source": [
        "29 - Escreva uma função que receba uma lista de listas, itere sobre cada lista, some seus valores, gere uma segunda lista e descubra o desvio padrão dela.\n",
        "\n",
        "entrada : [[12,12,5,6,3,6,8,5,5,5],[3,3,3,3,4,4,15,89,20,20],[15,15,15,20,30,35,35,35,15,15],[10,10,10,10,15,15,15,15],[5,5,2,2],[8,8,89,89,898,1000]]\n"
      ]
    },
    {
      "cell_type": "code",
      "metadata": {
        "id": "rA33B356WMmQ",
        "colab_type": "code",
        "colab": {}
      },
      "source": [
        "import numpy as np\n",
        "\n",
        "def iter_lista(lista):\n",
        "  somas = []\n",
        "  for i in range(len(lista)):\n",
        "    soma = sum(lista[i])\n",
        "    somas.append(soma) \n",
        "  return np.std(somas)"
      ],
      "execution_count": null,
      "outputs": []
    },
    {
      "cell_type": "code",
      "metadata": {
        "id": "j4rxZV5OWtUX",
        "colab_type": "code",
        "colab": {
          "base_uri": "https://localhost:8080/",
          "height": 34
        },
        "outputId": "efe2373c-fd97-4401-83fc-aea8a14b3586"
      },
      "source": [
        "entrada = [[12,12,5,6,3,6,8,5,5,5],[3,3,3,3,4,4,15,89,20,20],[15,15,15,20,30,35,35,35,15,15],[10,10,10,10,15,15,15,15],[5,5,2,2],[8,8,89,89,898,1000]]\n",
        "iter_lista(entrada)"
      ],
      "execution_count": null,
      "outputs": [
        {
          "output_type": "execute_result",
          "data": {
            "text/plain": [
              "739.9846282187218"
            ]
          },
          "metadata": {
            "tags": []
          },
          "execution_count": 96
        }
      ]
    },
    {
      "cell_type": "markdown",
      "metadata": {
        "id": "WWAoNbpXInb8",
        "colab_type": "text"
      },
      "source": [
        "30 - Escreva uma função que gere uma sequencia de Fibonnaci. O único parâmetro é a quantidade de números que devem gerados. (Fibonnaci é uma sequencia onde o próximo número é a soma dos dois imediatamente anteriores a ele)."
      ]
    },
    {
      "cell_type": "code",
      "metadata": {
        "id": "b8CANsMyInKP",
        "colab_type": "code",
        "colab": {}
      },
      "source": [
        "def fibonacci(numeros):\n",
        "  \n",
        "  fibo = [0,1]\n",
        "  i = 2\n",
        "  num = int(numeros)\n",
        "\n",
        "  if (numeros < 0):\n",
        "     return False\n",
        "  elif numeros <=2:\n",
        "    return fibo[0:numeros]\n",
        "  else:\n",
        "    for i in list(range(2,num,1)):\n",
        "      temp = fibo[i-1] + fibo[i-2]\n",
        "      fibo.append(temp)\n",
        "    return fibo\n"
      ],
      "execution_count": null,
      "outputs": []
    },
    {
      "cell_type": "markdown",
      "metadata": {
        "id": "ePTolsvYWvWR",
        "colab_type": "text"
      },
      "source": [
        "31 - Monte uma função que vai calcular e comparar os custos de uma viagem para 3 cidades diferentes e que, ao final, irá recomendar qual é o destino mais barato. Essa função deve receber somente uma parâmetro 'noites'. A partir desse argumento a função deve calcular o custo total de viagem para cada uma das cidades. Utilize os dados abaixo.\n",
        "\n",
        "|   Cidade  | Hotel/noite | Alimentação/noite | Locomoção/noite |\n",
        "|:---------:|:-----------:|:-----------------:|:---------------:|\n",
        "| Abu Dhabi |     1300    |        200        |       150       |\n",
        "|  Genebra  |     1200    |        150        |        80       |\n",
        "|    Oslo   |     1000    |        250        |       100       |\n"
      ]
    },
    {
      "cell_type": "code",
      "metadata": {
        "id": "7s2i7PNzWzYT",
        "colab_type": "code",
        "colab": {}
      },
      "source": [
        "def calc_p_viagem(noites):\n",
        "\n",
        "  city1 = [1300,200,150]\n",
        "  city2 = [1200,150,80]\n",
        "  city3 = [1000,250,100]\n",
        "\n",
        "  p_city1 = sum([(x*noites) for x in city1])\n",
        "  p_city2 = sum([(x*noites) for x in city2])\n",
        "  p_city3 = sum([(x*noites) for x in city3])\n",
        "\n",
        "  viagens = { 'Abu Dhabi': p_city1,\n",
        "              'Genebra': p_city2,\n",
        "              'Oslo' : p_city3,   \n",
        "            }\n",
        "  cheapest = min(viagens, key=viagens.get)\n",
        "\n",
        "  return viagens,\"Destino mais barato:\",cheapest"
      ],
      "execution_count": null,
      "outputs": []
    },
    {
      "cell_type": "markdown",
      "metadata": {
        "id": "4yiENaYRhiUd",
        "colab_type": "text"
      },
      "source": [
        "32 - Defina uma função que calcule o z-score de todos os valores de uma lista e encontre quem são os outliers (z-score abaixo de -3 e acima de 3). Use a lista abaixo:\n",
        "\n",
        "lista8 = [201, 102, -5558, 232, 213, -9249, -247, 1183, 211, 7598, 130, 61, 192, 207, -46, 170, 116, 106, 225, 75, 138, 107, 108, -33, -9, 170, 147, 175, 137, -5, -9, 16600, 171, 183, 147, 171, 143, 104, 7, 227, 127, 173, 178, 194, 110, 20, 99, 11, 41, 242, 250, 62, 230, -32, 239, 241, 30, -35, 132, 214, 58, 90, -12, -24, 177, 116, 53, -26, 144, 29, 41, 217, 114, 109, -15, 32, 110, 162, 221, -16, 210, 87, 76, 3100, 73, 174, 194, 93, -9, 241, 234, 79, -4800, -22, -41, 224, 249, 114, -29, 79]\n"
      ]
    },
    {
      "cell_type": "code",
      "metadata": {
        "id": "8QNTRRXWukg9",
        "colab_type": "code",
        "colab": {}
      },
      "source": [
        "import numpy as np"
      ],
      "execution_count": null,
      "outputs": []
    },
    {
      "cell_type": "code",
      "metadata": {
        "id": "Wh5Y3Q7ShmjT",
        "colab_type": "code",
        "colab": {}
      },
      "source": [
        "def z_score_outlier(lista):\n",
        "  media = np.mean(lista)\n",
        "  desvio = np.std(lista)\n",
        "  outlier = []\n",
        "  for i in lista:\n",
        "    z = (i-media)/desvio\n",
        "    if z < -3 or z > 3:\n",
        "      outlier.append(i)\n",
        "  return (outlier)\n"
      ],
      "execution_count": null,
      "outputs": []
    },
    {
      "cell_type": "code",
      "metadata": {
        "id": "Q1dc0zKmwtsh",
        "colab_type": "code",
        "colab": {
          "base_uri": "https://localhost:8080/",
          "height": 34
        },
        "outputId": "c3339d00-78f9-43cc-c498-90f2fe629690"
      },
      "source": [
        "#teste da funcao q32\n",
        "lista8 = [201, 102, -5558, 232, 213, -9249, -247, 1183, 211, 7598, 130, 61, 192, 207, -46, 170, 116, 106, 225, 75, 138, 107, 108, -33, -9, 170, 147, 175, 137, -5, -9, 16600, 171, 183, 147, 171, 143, 104, 7, 227, 127, 173, 178, 194, 110, 20, 99, 11, 41, 242, 250, 62, 230, -32, 239, 241, 30, -35, 132, 214, 58, 90, -12, -24, 177, 116, 53, -26, 144, 29, 41, 217, 114, 109, -15, 32, 110, 162, 221, -16, 210, 87, 76, 3100, 73, 174, 194, 93, -9, 241, 234, 79, -4800, -22, -41, 224, 249, 114, -29, 79]\n",
        "z_score_outlier(lista8)"
      ],
      "execution_count": null,
      "outputs": [
        {
          "output_type": "execute_result",
          "data": {
            "text/plain": [
              "[-9249, 7598, 16600]"
            ]
          },
          "metadata": {
            "tags": []
          },
          "execution_count": 147
        }
      ]
    },
    {
      "cell_type": "markdown",
      "metadata": {
        "id": "xyzULcsxGwQh",
        "colab_type": "text"
      },
      "source": [
        "\n",
        "33 - Defina uma função que recebe uma lista aplica a fórmula abaixo a cada um dos valores e retorna uma lista com o resultado.\n",
        "\n",
        "![minmax](https://github.com/raquelcreis/CastoresIndomaveis/blob/master/imgs/minmax.jpg?raw=1)\n"
      ]
    },
    {
      "cell_type": "code",
      "metadata": {
        "id": "hfsFwNXeG0fT",
        "colab_type": "code",
        "colab": {}
      },
      "source": [
        "def form33(lista):\n",
        "  return [(x - min(lista))/(max(lista) - min(lista)) for x in lista]"
      ],
      "execution_count": 1,
      "outputs": []
    },
    {
      "cell_type": "code",
      "metadata": {
        "id": "ri65P5lZHg7c",
        "colab_type": "code",
        "colab": {
          "base_uri": "https://localhost:8080/",
          "height": 34
        },
        "outputId": "699f284a-9464-42a9-abf7-5db87e99b201"
      },
      "source": [
        "#teste da funcao q33\n",
        "teste = [1,2,3,4,5]\n",
        "form33(teste)"
      ],
      "execution_count": 2,
      "outputs": [
        {
          "output_type": "execute_result",
          "data": {
            "text/plain": [
              "[0.0, 0.25, 0.5, 0.75, 1.0]"
            ]
          },
          "metadata": {
            "tags": []
          },
          "execution_count": 2
        }
      ]
    },
    {
      "cell_type": "markdown",
      "metadata": {
        "id": "RZ46-GleIEje",
        "colab_type": "text"
      },
      "source": [
        "\n",
        "34 - Escreva um código que dê print em todos os quadrados dos valores de 0 a 10."
      ]
    },
    {
      "cell_type": "code",
      "metadata": {
        "id": "MdvOpup4II4t",
        "colab_type": "code",
        "colab": {
          "base_uri": "https://localhost:8080/",
          "height": 204
        },
        "outputId": "933d9508-2036-4c71-f305-1e40afd567ad"
      },
      "source": [
        " for x in list(range(11)):\n",
        "   print(x**2)"
      ],
      "execution_count": 15,
      "outputs": [
        {
          "output_type": "stream",
          "text": [
            "0\n",
            "1\n",
            "4\n",
            "9\n",
            "16\n",
            "25\n",
            "36\n",
            "49\n",
            "64\n",
            "81\n",
            "100\n"
          ],
          "name": "stdout"
        }
      ]
    },
    {
      "cell_type": "markdown",
      "metadata": {
        "id": "0nRVWT3WIifQ",
        "colab_type": "text"
      },
      "source": [
        "35 - Escreva um código que encontre a soma de todos os valores pares de 0 a 10."
      ]
    },
    {
      "cell_type": "code",
      "metadata": {
        "id": "4dbHEtf7IlSl",
        "colab_type": "code",
        "colab": {
          "base_uri": "https://localhost:8080/",
          "height": 34
        },
        "outputId": "d726670a-e2c2-4fd0-cd04-ef9222e91c97"
      },
      "source": [
        "soma = 0\n",
        "for x in list(range(11)):\n",
        "  if x%2 == 0:\n",
        "    soma = soma + x\n",
        "\n",
        "soma"
      ],
      "execution_count": 26,
      "outputs": [
        {
          "output_type": "execute_result",
          "data": {
            "text/plain": [
              "30"
            ]
          },
          "metadata": {
            "tags": []
          },
          "execution_count": 26
        }
      ]
    },
    {
      "cell_type": "markdown",
      "metadata": {
        "id": "ZEbhy1CVPz-F",
        "colab_type": "text"
      },
      "source": [
        "37 - Construa uma função que receba 3 valores (a,b,c) e retorne uma lista com todos os valores entre 'a' e 'b' que são múltiplos de 'c'. Utilize os valores abaixo (10,500,23)."
      ]
    },
    {
      "cell_type": "code",
      "metadata": {
        "id": "lkCQWGeMP21J",
        "colab_type": "code",
        "colab": {}
      },
      "source": [
        "def multiplos(a,b,c):\n",
        "  lista = list(range(a,b))\n",
        "  return [x for x in lista if x%c == 0]\n"
      ],
      "execution_count": 29,
      "outputs": []
    },
    {
      "cell_type": "code",
      "metadata": {
        "id": "J6s-0uFjUYQs",
        "colab_type": "code",
        "colab": {
          "base_uri": "https://localhost:8080/",
          "height": 374
        },
        "outputId": "d3e97ca4-b59e-4d43-8b90-bcac0e9f66a9"
      },
      "source": [
        "#teste da funcao q37\n",
        "\n",
        "multiplos(10,500,23)"
      ],
      "execution_count": 30,
      "outputs": [
        {
          "output_type": "execute_result",
          "data": {
            "text/plain": [
              "[23,\n",
              " 46,\n",
              " 69,\n",
              " 92,\n",
              " 115,\n",
              " 138,\n",
              " 161,\n",
              " 184,\n",
              " 207,\n",
              " 230,\n",
              " 253,\n",
              " 276,\n",
              " 299,\n",
              " 322,\n",
              " 345,\n",
              " 368,\n",
              " 391,\n",
              " 414,\n",
              " 437,\n",
              " 460,\n",
              " 483]"
            ]
          },
          "metadata": {
            "tags": []
          },
          "execution_count": 30
        }
      ]
    },
    {
      "cell_type": "markdown",
      "metadata": {
        "id": "j7F7qALUUsTk",
        "colab_type": "text"
      },
      "source": [
        "38 -Escreva um código para ter o seguinte output:\n",
        "    \n",
        "    1 ---- 99\n",
        "    2 ---- 98\n",
        "    3 ---- 97\n",
        "    4 ---- 96\n",
        "    .\n",
        "    .\n",
        "    .\n",
        "    99 ---- 1"
      ]
    },
    {
      "cell_type": "code",
      "metadata": {
        "id": "dokCdeDXZiQ9",
        "colab_type": "code",
        "colab": {
          "base_uri": "https://localhost:8080/",
          "height": 1000
        },
        "outputId": "7a18d503-261f-4829-df50-3c5b023ce577"
      },
      "source": [
        "cresc = range(1,100,1)\n",
        "decre = range(99,0,-1)\n",
        "for x,y in zip(cresc,decre):\n",
        "  print(x,\"----\",y)\n",
        "\n"
      ],
      "execution_count": 57,
      "outputs": [
        {
          "output_type": "stream",
          "text": [
            "1 ---- 99\n",
            "2 ---- 98\n",
            "3 ---- 97\n",
            "4 ---- 96\n",
            "5 ---- 95\n",
            "6 ---- 94\n",
            "7 ---- 93\n",
            "8 ---- 92\n",
            "9 ---- 91\n",
            "10 ---- 90\n",
            "11 ---- 89\n",
            "12 ---- 88\n",
            "13 ---- 87\n",
            "14 ---- 86\n",
            "15 ---- 85\n",
            "16 ---- 84\n",
            "17 ---- 83\n",
            "18 ---- 82\n",
            "19 ---- 81\n",
            "20 ---- 80\n",
            "21 ---- 79\n",
            "22 ---- 78\n",
            "23 ---- 77\n",
            "24 ---- 76\n",
            "25 ---- 75\n",
            "26 ---- 74\n",
            "27 ---- 73\n",
            "28 ---- 72\n",
            "29 ---- 71\n",
            "30 ---- 70\n",
            "31 ---- 69\n",
            "32 ---- 68\n",
            "33 ---- 67\n",
            "34 ---- 66\n",
            "35 ---- 65\n",
            "36 ---- 64\n",
            "37 ---- 63\n",
            "38 ---- 62\n",
            "39 ---- 61\n",
            "40 ---- 60\n",
            "41 ---- 59\n",
            "42 ---- 58\n",
            "43 ---- 57\n",
            "44 ---- 56\n",
            "45 ---- 55\n",
            "46 ---- 54\n",
            "47 ---- 53\n",
            "48 ---- 52\n",
            "49 ---- 51\n",
            "50 ---- 50\n",
            "51 ---- 49\n",
            "52 ---- 48\n",
            "53 ---- 47\n",
            "54 ---- 46\n",
            "55 ---- 45\n",
            "56 ---- 44\n",
            "57 ---- 43\n",
            "58 ---- 42\n",
            "59 ---- 41\n",
            "60 ---- 40\n",
            "61 ---- 39\n",
            "62 ---- 38\n",
            "63 ---- 37\n",
            "64 ---- 36\n",
            "65 ---- 35\n",
            "66 ---- 34\n",
            "67 ---- 33\n",
            "68 ---- 32\n",
            "69 ---- 31\n",
            "70 ---- 30\n",
            "71 ---- 29\n",
            "72 ---- 28\n",
            "73 ---- 27\n",
            "74 ---- 26\n",
            "75 ---- 25\n",
            "76 ---- 24\n",
            "77 ---- 23\n",
            "78 ---- 22\n",
            "79 ---- 21\n",
            "80 ---- 20\n",
            "81 ---- 19\n",
            "82 ---- 18\n",
            "83 ---- 17\n",
            "84 ---- 16\n",
            "85 ---- 15\n",
            "86 ---- 14\n",
            "87 ---- 13\n",
            "88 ---- 12\n",
            "89 ---- 11\n",
            "90 ---- 10\n",
            "91 ---- 9\n",
            "92 ---- 8\n",
            "93 ---- 7\n",
            "94 ---- 6\n",
            "95 ---- 5\n",
            "96 ---- 4\n",
            "97 ---- 3\n",
            "98 ---- 2\n",
            "99 ---- 1\n"
          ],
          "name": "stdout"
        }
      ]
    },
    {
      "cell_type": "markdown",
      "metadata": {
        "id": "Jx3xCP6ubPZV",
        "colab_type": "text"
      },
      "source": [
        "39 - Construa uma função que receba um input e printe um padrão conforme exemplo.\n",
        "\n",
        "input = 5\n",
        "\n",
        "output:\n",
        "\n",
        "+<br>\n",
        "++<br>\n",
        "+++<br>\n",
        "++++<br>\n",
        "+++++"
      ]
    },
    {
      "cell_type": "code",
      "metadata": {
        "id": "PbUgX0YubTmk",
        "colab_type": "code",
        "colab": {}
      },
      "source": [
        "def plus(numero):\n",
        "  mais = \"+\"\n",
        "  for x in range(numero+1):\n",
        "    print(mais*x)"
      ],
      "execution_count": 64,
      "outputs": []
    },
    {
      "cell_type": "code",
      "metadata": {
        "id": "J8EFStdjfaHi",
        "colab_type": "code",
        "colab": {
          "base_uri": "https://localhost:8080/",
          "height": 119
        },
        "outputId": "560139d2-c900-49fc-a0bf-9b6859592a56"
      },
      "source": [
        "plus(5)"
      ],
      "execution_count": 65,
      "outputs": [
        {
          "output_type": "stream",
          "text": [
            "\n",
            "+\n",
            "++\n",
            "+++\n",
            "++++\n",
            "+++++\n"
          ],
          "name": "stdout"
        }
      ]
    },
    {
      "cell_type": "markdown",
      "metadata": {
        "id": "1oDx6teQflYt",
        "colab_type": "text"
      },
      "source": [
        "40 - Itere sobre a lista abaixo e crie uma nova lista com todos os nomes em letras maisculuas e com underline ao invés de espaços. Dica: utilize compreensão de listas.\n",
        "\n",
        "lista_nomes = ['Geralt de Rívia','Yennefer de Vengerberd','Triss Marigold','Emhyr var Emreis','Jaskier o bardo']"
      ]
    },
    {
      "cell_type": "code",
      "metadata": {
        "id": "ma6la2aTfoKb",
        "colab_type": "code",
        "colab": {
          "base_uri": "https://localhost:8080/",
          "height": 102
        },
        "outputId": "695b4813-b3ac-46ac-8979-064724202e20"
      },
      "source": [
        "lista_nomes = ['Geralt de Rívia','Yennefer de Vengerberd','Triss Marigold','Emhyr var Emreis','Jaskier o bardo']\n",
        "\n",
        "[x.upper().replace(\" \",\"_\") for x in lista_nomes] \n"
      ],
      "execution_count": 70,
      "outputs": [
        {
          "output_type": "execute_result",
          "data": {
            "text/plain": [
              "['GERALT_DE_RÍVIA',\n",
              " 'YENNEFER_DE_VENGERBERD',\n",
              " 'TRISS_MARIGOLD',\n",
              " 'EMHYR_VAR_EMREIS',\n",
              " 'JASKIER_O_BARDO']"
            ]
          },
          "metadata": {
            "tags": []
          },
          "execution_count": 70
        }
      ]
    },
    {
      "cell_type": "markdown",
      "metadata": {
        "id": "cLF24GgyhSqO",
        "colab_type": "text"
      },
      "source": [
        "41 - Voce é um jogador de tênis. Para decidir se você vai treinar hoje você deve avaliar duas coisas: o tempo e a temperatura. Crie um programa para saber se você deve ou não treinar hoje de acordo com as seguintes especificações: \n",
        "\n",
        "- Tempo: chuvoso -> não jogar\n",
        "- Tempo: ensolarado ou nublado -> jogar\n",
        "- Temperatura maior ou igual a 15 graus e tempo ensolarado ou nublado -> jogar\n",
        "- Temperatura menor que 15 graus e tempo ensolarado ou nublado -> não jogar\n",
        "\n",
        "Se o dia estiver ensolarado e a temperatura for de 16 graus. Você irá ou não jogar?"
      ]
    },
    {
      "cell_type": "code",
      "metadata": {
        "id": "qYquB4N-hVxK",
        "colab_type": "code",
        "colab": {
          "base_uri": "https://localhost:8080/",
          "height": 68
        },
        "outputId": "9b87fe5a-0ae0-4d3c-c7ea-a858ed6bd70f"
      },
      "source": [
        "  temperatura = input(\"Qual a temperatura hoje?\")\n",
        "  temperatura = float(temperatura)\n",
        "  tempo = input(\"Qual o tempo hoje: ensolarado, nublado ou chuvoso?\")\n",
        "  tempo = str(tempo)\n",
        "  \n",
        "  if (temperatura >= 15.0 and (tempo == \"ensolarado\" or tempo == \"nublado\")):\n",
        "    print(\"Jogar\") \n",
        "  elif (temperatura < 15.0 or tempo == \"chuvoso\"):\n",
        "    print(\"Não jogar\")\n",
        "  elif (tempo!=\"chuvoso\" or tempo!=\"ensolarado\" or tempo!=\"nublado\"):\n",
        "    print(\"O tempo deve ser preenchido apenas com 'ensolarado','nublado' ou 'chuvoso'.\")"
      ],
      "execution_count": 97,
      "outputs": [
        {
          "output_type": "stream",
          "text": [
            "Qual a temperatura hoje?14\n",
            "Qual o tempo hoje: ensolarado, nublado ou chuvoso?chuvoso\n",
            "Não jogar\n"
          ],
          "name": "stdout"
        }
      ]
    },
    {
      "cell_type": "markdown",
      "metadata": {
        "id": "J0nysHMsuDHA",
        "colab_type": "text"
      },
      "source": [
        "42 - Construa usando um programa que represente a seguinte árvore abaixo:\n",
        "\n",
        "![arvore](https://github.com/raquelcreis/CastoresIndomaveis/blob/master/imgs/arvore.png?raw=1)\n",
        "\n",
        "Quando x = 'bacon', y = [1,2,3,4,5,6,7,8,9,10,'a','b','c','d','e','f','g','h'] e z = 15. Qual valor o programa deverá printar?\n",
        "\n",
        "Quando x = 'bacon', y = [1,2,3,4], e z = 20. Qual valor o programa deverá printar?\n",
        "\n",
        "Quando x='couxeiro', y = [[1,2,3,4,5],[1,2,3,4,5],[1,2,3,4,5]] e z = 21. Qual valor o programa deverá printar?\n"
      ]
    },
    {
      "cell_type": "code",
      "metadata": {
        "id": "xZrGppEyviYS",
        "colab_type": "code",
        "colab": {}
      },
      "source": [
        ""
      ],
      "execution_count": null,
      "outputs": []
    },
    {
      "cell_type": "markdown",
      "metadata": {
        "id": "diwgKytevwIm",
        "colab_type": "text"
      },
      "source": [
        "43 - Use a função zip para juntar as duas listas abaixo em uma tupla.\n",
        "\n",
        "nomes = ['nasser','joao','mateus']\n",
        "salarios = [1000,1500,5000]"
      ]
    },
    {
      "cell_type": "code",
      "metadata": {
        "id": "_NTD_9Gav0I5",
        "colab_type": "code",
        "colab": {
          "base_uri": "https://localhost:8080/",
          "height": 34
        },
        "outputId": "71283e0d-29fa-4b0d-9968-294d5d7a4f16"
      },
      "source": [
        "nomes = ['nasser','joao','mateus']\n",
        "salarios = [1000,1500,5000]\n",
        "funcionarios = zip(nomes,salarios)\n",
        "funcionarios = tuple(funcionarios)\n",
        "funcionarios"
      ],
      "execution_count": 101,
      "outputs": [
        {
          "output_type": "execute_result",
          "data": {
            "text/plain": [
              "(('nasser', 1000), ('joao', 1500), ('mateus', 5000))"
            ]
          },
          "metadata": {
            "tags": []
          },
          "execution_count": 101
        }
      ]
    },
    {
      "cell_type": "markdown",
      "metadata": {
        "id": "uWd8fqmewqoC",
        "colab_type": "text"
      },
      "source": [
        "44 - Considera as duas listas abaixo, a primeira demonstra o valor real de venda de uma casa e a segunda demonstra o valor recomendado por um modelo de regressão. Gere uma terceira lista com o resíduo de cada ponto. O resíduo é o resultado da subtração entre o valor real e o valor predito para determinado ponto.\n",
        "\n",
        "real = [150358,368525,532152,144789]\n",
        "predito = [162122,365255,533200,185789]"
      ]
    },
    {
      "cell_type": "code",
      "metadata": {
        "id": "_6jtvkq7wuJB",
        "colab_type": "code",
        "colab": {
          "base_uri": "https://localhost:8080/",
          "height": 34
        },
        "outputId": "90e137cc-861a-45cb-ad6e-2afb1536d025"
      },
      "source": [
        "real = [150358,368525,532152,144789]\n",
        "predito = [162122,365255,533200,185789]\n",
        "residuos = [ x - y for x,y in zip(real,predito) ]\n",
        "residuos"
      ],
      "execution_count": 110,
      "outputs": [
        {
          "output_type": "execute_result",
          "data": {
            "text/plain": [
              "[-11764, 3270, -1048, -41000]"
            ]
          },
          "metadata": {
            "tags": []
          },
          "execution_count": 110
        }
      ]
    },
    {
      "cell_type": "markdown",
      "metadata": {
        "id": "ZOFqj61By3nR",
        "colab_type": "text"
      },
      "source": [
        "45 - Utilize a função 'filter' do python para filtrar somente os valores positivos do resultado da questão 44."
      ]
    },
    {
      "cell_type": "code",
      "metadata": {
        "id": "dXizEtFfy6Wj",
        "colab_type": "code",
        "colab": {
          "base_uri": "https://localhost:8080/",
          "height": 34
        },
        "outputId": "0a7d27ae-748d-4a26-9abf-7261c77a684a"
      },
      "source": [
        "def positivos(x):\n",
        "  return x > 0\n",
        "\n",
        "filtrado = filter(positivos,residuos)\n",
        "[x for x in filtrado]\n"
      ],
      "execution_count": 118,
      "outputs": [
        {
          "output_type": "execute_result",
          "data": {
            "text/plain": [
              "[3270]"
            ]
          },
          "metadata": {
            "tags": []
          },
          "execution_count": 118
        }
      ]
    },
    {
      "cell_type": "markdown",
      "metadata": {
        "id": "WSdeE3n128dR",
        "colab_type": "text"
      },
      "source": [
        "\n",
        "\n",
        "\n",
        "\n",
        "\n",
        "\n",
        "46 - Ainda usando o resultado da questão 44 calcule, sem utilizar bibliotecas, o RMSE do valor predito. Referência: https://tinyurl.com/yd9ljcmj"
      ]
    },
    {
      "cell_type": "code",
      "metadata": {
        "id": "pNBTMZKv3iiK",
        "colab_type": "code",
        "colab": {
          "base_uri": "https://localhost:8080/",
          "height": 34
        },
        "outputId": "de73f6af-4ea0-4fcc-8f40-9c92c5df4826"
      },
      "source": [
        "n = len(residuos)\n",
        "rmse = sum([ (x**2)/n for x in residuos])**(0.5)\n",
        "rmse"
      ],
      "execution_count": 131,
      "outputs": [
        {
          "output_type": "execute_result",
          "data": {
            "text/plain": [
              "21396.161454803056"
            ]
          },
          "metadata": {
            "tags": []
          },
          "execution_count": 131
        }
      ]
    }
  ]
}