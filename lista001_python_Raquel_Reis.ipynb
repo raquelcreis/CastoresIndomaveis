{
  "nbformat": 4,
  "nbformat_minor": 0,
  "metadata": {
    "kernelspec": {
      "display_name": "Python [conda env:root] *",
      "language": "python",
      "name": "conda-root-py"
    },
    "language_info": {
      "codemirror_mode": {
        "name": "ipython",
        "version": 3
      },
      "file_extension": ".py",
      "mimetype": "text/x-python",
      "name": "python",
      "nbconvert_exporter": "python",
      "pygments_lexer": "ipython3",
      "version": "3.7.6"
    },
    "colab": {
      "name": "lista001_python - Raquel Reis.ipynb",
      "provenance": [],
      "include_colab_link": true
    }
  },
  "cells": [
    {
      "cell_type": "markdown",
      "metadata": {
        "id": "view-in-github",
        "colab_type": "text"
      },
      "source": [
        "<a href=\"https://colab.research.google.com/github/raquelcreis/CastoresIndomaveis/blob/master/lista001_python_Raquel_Reis.ipynb\" target=\"_parent\"><img src=\"https://colab.research.google.com/assets/colab-badge.svg\" alt=\"Open In Colab\"/></a>"
      ]
    },
    {
      "cell_type": "markdown",
      "metadata": {
        "id": "dbmAghk928dP",
        "colab_type": "text"
      },
      "source": [
        "## Lista 01 - Python - Raquel Reis"
      ]
    },
    {
      "cell_type": "markdown",
      "metadata": {
        "id": "xc7q2YPz28dR",
        "colab_type": "text"
      },
      "source": [
        "Nessa lista você deverá desenvolver o código para resolver as questões abaixo. Divida bem suas questões e utilize células markdown para indicar qual questão está respondendo. Documento bem seu código utilizando docstrings, comentários e célular markdown."
      ]
    },
    {
      "cell_type": "markdown",
      "metadata": {
        "id": "1CxIS_9E3tQb",
        "colab_type": "text"
      },
      "source": [
        "1 - Execute todas as operações aritiméticas básicas (adição, subtração, divisão e multiplicação) com as variáveis 'a' e 'b' abaixo.\n",
        "\n",
        "a = 15\n",
        "b = 12"
      ]
    },
    {
      "cell_type": "code",
      "metadata": {
        "id": "9m5aahIz3wxY",
        "colab_type": "code",
        "colab": {
          "base_uri": "https://localhost:8080/",
          "height": 102
        },
        "outputId": "9ceb939f-9420-4d9e-8076-4ebbc05120cb"
      },
      "source": [
        "a = 15\n",
        "b = 12\n",
        "print(\"a + b = \",a+b,\"\\na - b = \",a-b,\"\\na * b = \",a*b,\"\\na / b = \",a/b,)"
      ],
      "execution_count": 3,
      "outputs": [
        {
          "output_type": "stream",
          "text": [
            "a = 15 e b = 12\n",
            "a + b =  27 \n",
            "a - b =  3 \n",
            "a * b =  180 \n",
            "a / b =  1.25\n"
          ],
          "name": "stdout"
        }
      ]
    },
    {
      "cell_type": "markdown",
      "metadata": {
        "id": "jy7jbU1e8U_O",
        "colab_type": "text"
      },
      "source": [
        "2 - Tente calcular o seu IMC utilizando somente operações matemáticas. Dica: o IMC é calculado da seguinte forma: IMC = peso / (altura em metros * altura em metros)"
      ]
    },
    {
      "cell_type": "code",
      "metadata": {
        "id": "ZEdouPgh8Yv4",
        "colab_type": "code",
        "colab": {
          "base_uri": "https://localhost:8080/",
          "height": 68
        },
        "outputId": "d1a0e14a-7d9a-441d-f01b-faca4d3cfeef"
      },
      "source": [
        "peso = input(\"Informe seu peso (kg):\")\n",
        "peso = float(peso)\n",
        "altura = input(\"Informe sua altura (m):\")\n",
        "altura = float(altura)\n",
        "IMC = peso / (altura **2)\n",
        "print(\"Seu IMC é:\",IMC)"
      ],
      "execution_count": 7,
      "outputs": [
        {
          "output_type": "stream",
          "text": [
            "Informe seu peso (kg):67\n",
            "Informe sua altura (m):1.61\n",
            "Seu IMC é: 25.847768218818715\n"
          ],
          "name": "stdout"
        }
      ]
    },
    {
      "cell_type": "markdown",
      "metadata": {
        "id": "D_0wpftT93SC",
        "colab_type": "text"
      },
      "source": [
        "3 - Sua professora de português pediu para você escrever a frase 'português é maravilhoso' 50 vezes. Como resolver esse problema com python? Demonstre sua solução."
      ]
    },
    {
      "cell_type": "code",
      "metadata": {
        "id": "hJg2fYpA92sx",
        "colab_type": "code",
        "colab": {
          "base_uri": "https://localhost:8080/",
          "height": 867
        },
        "outputId": "c105465b-4a5d-48c0-d2bc-b4750c6255f3"
      },
      "source": [
        "for i in range(50):\n",
        "  print(\"português é maravilhoso\")"
      ],
      "execution_count": 8,
      "outputs": [
        {
          "output_type": "stream",
          "text": [
            "português é maravilhoso\n",
            "português é maravilhoso\n",
            "português é maravilhoso\n",
            "português é maravilhoso\n",
            "português é maravilhoso\n",
            "português é maravilhoso\n",
            "português é maravilhoso\n",
            "português é maravilhoso\n",
            "português é maravilhoso\n",
            "português é maravilhoso\n",
            "português é maravilhoso\n",
            "português é maravilhoso\n",
            "português é maravilhoso\n",
            "português é maravilhoso\n",
            "português é maravilhoso\n",
            "português é maravilhoso\n",
            "português é maravilhoso\n",
            "português é maravilhoso\n",
            "português é maravilhoso\n",
            "português é maravilhoso\n",
            "português é maravilhoso\n",
            "português é maravilhoso\n",
            "português é maravilhoso\n",
            "português é maravilhoso\n",
            "português é maravilhoso\n",
            "português é maravilhoso\n",
            "português é maravilhoso\n",
            "português é maravilhoso\n",
            "português é maravilhoso\n",
            "português é maravilhoso\n",
            "português é maravilhoso\n",
            "português é maravilhoso\n",
            "português é maravilhoso\n",
            "português é maravilhoso\n",
            "português é maravilhoso\n",
            "português é maravilhoso\n",
            "português é maravilhoso\n",
            "português é maravilhoso\n",
            "português é maravilhoso\n",
            "português é maravilhoso\n",
            "português é maravilhoso\n",
            "português é maravilhoso\n",
            "português é maravilhoso\n",
            "português é maravilhoso\n",
            "português é maravilhoso\n",
            "português é maravilhoso\n",
            "português é maravilhoso\n",
            "português é maravilhoso\n",
            "português é maravilhoso\n",
            "português é maravilhoso\n"
          ],
          "name": "stdout"
        }
      ]
    },
    {
      "cell_type": "markdown",
      "metadata": {
        "id": "dOLL5qtR-HBa",
        "colab_type": "text"
      },
      "source": [
        "4 - Um modelo de regressão linear possui a seguinte fórmula: y=0.253*x + 125. Qual será o valor de Y quando X for 125?"
      ]
    },
    {
      "cell_type": "code",
      "metadata": {
        "id": "y8gPP5Jp-K4l",
        "colab_type": "code",
        "colab": {
          "base_uri": "https://localhost:8080/",
          "height": 34
        },
        "outputId": "02a4a3ea-4931-407c-a23f-972700ca5abe"
      },
      "source": [
        "x = 125\n",
        "y=0.253*x + 125\n",
        "y"
      ],
      "execution_count": 11,
      "outputs": [
        {
          "output_type": "execute_result",
          "data": {
            "text/plain": [
              "156.625"
            ]
          },
          "metadata": {
            "tags": []
          },
          "execution_count": 11
        }
      ]
    },
    {
      "cell_type": "markdown",
      "metadata": {
        "id": "oOPJQfLM-bEI",
        "colab_type": "text"
      },
      "source": [
        "5 - Qual é raiz cubica de 144? Utilize somente operações python apresentadas neste notebook."
      ]
    },
    {
      "cell_type": "code",
      "metadata": {
        "id": "szs1suPV-en2",
        "colab_type": "code",
        "colab": {
          "base_uri": "https://localhost:8080/",
          "height": 34
        },
        "outputId": "5157d3e0-bf03-43da-a70f-cb9413b100b1"
      },
      "source": [
        "r_Cub144 = 144**(1/3)\n",
        "r_Cub144"
      ],
      "execution_count": 12,
      "outputs": [
        {
          "output_type": "execute_result",
          "data": {
            "text/plain": [
              "5.241482788417793"
            ]
          },
          "metadata": {
            "tags": []
          },
          "execution_count": 12
        }
      ]
    },
    {
      "cell_type": "markdown",
      "metadata": {
        "id": "Bp5C-kEt-vWx",
        "colab_type": "text"
      },
      "source": [
        "6 - Nossa matéria terá dois trabalhos! Os pesos são, respectivamente, 4 e 6. Imagine que você tenha tirado 8.2 no primeiro projeto e 3.3 no segundo projeto. Levando em consideração sua nota final e os pesos, você tirou uma média maior que 5?"
      ]
    },
    {
      "cell_type": "code",
      "metadata": {
        "id": "G0aLCZgp-zDe",
        "colab_type": "code",
        "colab": {
          "base_uri": "https://localhost:8080/",
          "height": 34
        },
        "outputId": "4c44140e-34ea-4da5-c065-bc5c8e86e9e8"
      },
      "source": [
        "n1 = 8.2\n",
        "n2 = 3.3\n",
        "nota_Final = 0.4*n1 + 0.6*n2\n",
        "if nota_Final > 5:\n",
        "  print(\"Acima da média 5\")\n",
        "else:\n",
        "  print(\"Abaixo da média 5\")"
      ],
      "execution_count": 13,
      "outputs": [
        {
          "output_type": "stream",
          "text": [
            "Acima da média 5\n"
          ],
          "name": "stdout"
        }
      ]
    },
    {
      "cell_type": "markdown",
      "metadata": {
        "id": "eIh5Igzi_VJA",
        "colab_type": "text"
      },
      "source": [
        "\n",
        "7 - Crie uma lista 'a_list' com os seguintes valores: 1, hello, [1,2,3] e True."
      ]
    },
    {
      "cell_type": "code",
      "metadata": {
        "id": "pB-iAyQ7_XaA",
        "colab_type": "code",
        "colab": {
          "base_uri": "https://localhost:8080/",
          "height": 34
        },
        "outputId": "4a0ea9c1-dc02-494e-cffd-aa362c9ee1a0"
      },
      "source": [
        "a_list = [1, \"hello\", [1,2,3],True]\n",
        "a_list"
      ],
      "execution_count": 34,
      "outputs": [
        {
          "output_type": "execute_result",
          "data": {
            "text/plain": [
              "[1, 'hello', [1, 2, 3], True]"
            ]
          },
          "metadata": {
            "tags": []
          },
          "execution_count": 34
        }
      ]
    },
    {
      "cell_type": "markdown",
      "metadata": {
        "id": "Vd8Pc0vZ_zha",
        "colab_type": "text"
      },
      "source": [
        "8 - Ache o valor em 'a_list' que esteja no índice -1."
      ]
    },
    {
      "cell_type": "code",
      "metadata": {
        "id": "Ma75MdY1_5xV",
        "colab_type": "code",
        "colab": {
          "base_uri": "https://localhost:8080/",
          "height": 34
        },
        "outputId": "0c3ba216-ba86-4ab6-f57c-b005f55bb2a1"
      },
      "source": [
        "a_list[-1]"
      ],
      "execution_count": 35,
      "outputs": [
        {
          "output_type": "execute_result",
          "data": {
            "text/plain": [
              "True"
            ]
          },
          "metadata": {
            "tags": []
          },
          "execution_count": 35
        }
      ]
    },
    {
      "cell_type": "markdown",
      "metadata": {
        "id": "HK9fGqdJ_9O4",
        "colab_type": "text"
      },
      "source": [
        "9 - Encontre os valores em 'a_list' que estejam nos indices 1,2 e 3."
      ]
    },
    {
      "cell_type": "code",
      "metadata": {
        "id": "crhEPB18ABNX",
        "colab_type": "code",
        "colab": {
          "base_uri": "https://localhost:8080/",
          "height": 68
        },
        "outputId": "4f8e4344-b59e-4f53-83eb-9a9d76e1c8b2"
      },
      "source": [
        "for i in range(3):\n",
        "  print(a_list[i+1])"
      ],
      "execution_count": 36,
      "outputs": [
        {
          "output_type": "stream",
          "text": [
            "hello\n",
            "[1, 2, 3]\n",
            "True\n"
          ],
          "name": "stdout"
        }
      ]
    },
    {
      "cell_type": "markdown",
      "metadata": {
        "id": "S6eUopevAjs5",
        "colab_type": "text"
      },
      "source": [
        "10 - Junte as seguinte listas a=[1,2,3,4,5] e b=[11,12,13,14,15]"
      ]
    },
    {
      "cell_type": "code",
      "metadata": {
        "id": "of3Zf3SjAp2i",
        "colab_type": "code",
        "colab": {
          "base_uri": "https://localhost:8080/",
          "height": 34
        },
        "outputId": "b9d574f9-d4d7-4e94-d9ad-f03f419d6679"
      },
      "source": [
        "a = [1,2,3,4,5]\n",
        "b = [11,12,13,14,15]\n",
        "a+b"
      ],
      "execution_count": 37,
      "outputs": [
        {
          "output_type": "execute_result",
          "data": {
            "text/plain": [
              "[1, 2, 3, 4, 5, 11, 12, 13, 14, 15]"
            ]
          },
          "metadata": {
            "tags": []
          },
          "execution_count": 37
        }
      ]
    },
    {
      "cell_type": "markdown",
      "metadata": {
        "id": "0R6OYv2GAxZn",
        "colab_type": "text"
      },
      "source": [
        "11 - Crie uma lista de listas 'list_list' que tenha os valores de 'a_list', 'a' e 'b'"
      ]
    },
    {
      "cell_type": "code",
      "metadata": {
        "id": "HwRnbPeQAzfY",
        "colab_type": "code",
        "colab": {
          "base_uri": "https://localhost:8080/",
          "height": 34
        },
        "outputId": "b1b4ce24-10b4-4ae5-a24a-4cdf1e28f34b"
      },
      "source": [
        "list_list = a_list + a + b\n",
        "list_list"
      ],
      "execution_count": 38,
      "outputs": [
        {
          "output_type": "execute_result",
          "data": {
            "text/plain": [
              "[1, 'hello', [1, 2, 3], True, 1, 2, 3, 4, 5, 11, 12, 13, 14, 15]"
            ]
          },
          "metadata": {
            "tags": []
          },
          "execution_count": 38
        }
      ]
    },
    {
      "cell_type": "markdown",
      "metadata": {
        "id": "L80EYRQPA84S",
        "colab_type": "text"
      },
      "source": [
        "12 - Qual o tamanho de 'list_list'?"
      ]
    },
    {
      "cell_type": "code",
      "metadata": {
        "id": "HnckiVLEA_-W",
        "colab_type": "code",
        "colab": {
          "base_uri": "https://localhost:8080/",
          "height": 34
        },
        "outputId": "264061e0-dabb-424e-a37c-feaa8cc5a43b"
      },
      "source": [
        "len(list_list)"
      ],
      "execution_count": 39,
      "outputs": [
        {
          "output_type": "execute_result",
          "data": {
            "text/plain": [
              "14"
            ]
          },
          "metadata": {
            "tags": []
          },
          "execution_count": 39
        }
      ]
    },
    {
      "cell_type": "markdown",
      "metadata": {
        "id": "J1FvXQTwBEfe",
        "colab_type": "text"
      },
      "source": [
        "13 - Adicione o valor 125 ao final de 'list_list'."
      ]
    },
    {
      "cell_type": "code",
      "metadata": {
        "id": "ytSWfl5hBDt3",
        "colab_type": "code",
        "colab": {
          "base_uri": "https://localhost:8080/",
          "height": 34
        },
        "outputId": "6a5c78d8-246c-4a23-c0ee-91612077a43b"
      },
      "source": [
        "list_list.append(125)\n",
        "list_list"
      ],
      "execution_count": 40,
      "outputs": [
        {
          "output_type": "execute_result",
          "data": {
            "text/plain": [
              "[1, 'hello', [1, 2, 3], True, 1, 2, 3, 4, 5, 11, 12, 13, 14, 15, 125]"
            ]
          },
          "metadata": {
            "tags": []
          },
          "execution_count": 40
        }
      ]
    },
    {
      "cell_type": "markdown",
      "metadata": {
        "id": "RXojFqNRBMqU",
        "colab_type": "text"
      },
      "source": [
        "14 - Remova a lista [1,2,3] de 'list_list' e guarde esse valor numa variável 'list_a'."
      ]
    },
    {
      "cell_type": "code",
      "metadata": {
        "id": "IeEGhAjiBQLZ",
        "colab_type": "code",
        "colab": {
          "base_uri": "https://localhost:8080/",
          "height": 34
        },
        "outputId": "61e23242-c511-4c6d-94f3-7b9794b0c946"
      },
      "source": [
        "list_a = [1,2,3]\n",
        "list_list.remove([1,2,3])\n",
        "list_list"
      ],
      "execution_count": 41,
      "outputs": [
        {
          "output_type": "execute_result",
          "data": {
            "text/plain": [
              "[1, 'hello', True, 1, 2, 3, 4, 5, 11, 12, 13, 14, 15, 125]"
            ]
          },
          "metadata": {
            "tags": []
          },
          "execution_count": 41
        }
      ]
    },
    {
      "cell_type": "markdown",
      "metadata": {
        "id": "HC4-KsI0EUiO",
        "colab_type": "text"
      },
      "source": [
        "15 - Qual é o primeiro valor do segundo valor de [[1,3,5,7],[2,4,6,8,10]]?"
      ]
    },
    {
      "cell_type": "code",
      "metadata": {
        "id": "hB4n_l7xEYck",
        "colab_type": "code",
        "colab": {
          "base_uri": "https://localhost:8080/",
          "height": 34
        },
        "outputId": "d7744ee7-f3e1-4365-ab28-cf142eee4c84"
      },
      "source": [
        "lista = [[1,3,5,7],[2,4,6,8,10]]\n",
        "lista[1][0]"
      ],
      "execution_count": 43,
      "outputs": [
        {
          "output_type": "execute_result",
          "data": {
            "text/plain": [
              "2"
            ]
          },
          "metadata": {
            "tags": []
          },
          "execution_count": 43
        }
      ]
    },
    {
      "cell_type": "markdown",
      "metadata": {
        "id": "Tt7-8yEfEtZh",
        "colab_type": "text"
      },
      "source": [
        "16 - Crie a tupla 'gnr' com os seguintes valores: rock, metal, sertanejo, pop, lo-fi e chillwave, nessa ordem."
      ]
    },
    {
      "cell_type": "code",
      "metadata": {
        "id": "3iYHp-IeEv9X",
        "colab_type": "code",
        "colab": {}
      },
      "source": [
        "gnr = (\"rock\",\"metal\",\"sertanejo\",\"pop\",\"lo-fi\",\"chillwave\")"
      ],
      "execution_count": 44,
      "outputs": []
    },
    {
      "cell_type": "markdown",
      "metadata": {
        "id": "KOzDHc4yE81S",
        "colab_type": "text"
      },
      "source": [
        "17 - Qual o terceiro valor da tupla 'gnr'?"
      ]
    },
    {
      "cell_type": "code",
      "metadata": {
        "id": "lrihL37SE-8v",
        "colab_type": "code",
        "colab": {
          "base_uri": "https://localhost:8080/",
          "height": 35
        },
        "outputId": "52ffb079-320f-416f-8cce-616ffaff265d"
      },
      "source": [
        "gnr[2]"
      ],
      "execution_count": 45,
      "outputs": [
        {
          "output_type": "execute_result",
          "data": {
            "application/vnd.google.colaboratory.intrinsic+json": {
              "type": "string"
            },
            "text/plain": [
              "'sertanejo'"
            ]
          },
          "metadata": {
            "tags": []
          },
          "execution_count": 45
        }
      ]
    },
    {
      "cell_type": "markdown",
      "metadata": {
        "id": "oBbGXlDlFBlP",
        "colab_type": "text"
      },
      "source": [
        "18 - Qual o índice de lofi?"
      ]
    },
    {
      "cell_type": "code",
      "metadata": {
        "id": "dgak14LJFERX",
        "colab_type": "code",
        "colab": {
          "base_uri": "https://localhost:8080/",
          "height": 34
        },
        "outputId": "db3588f3-f5e5-4165-aa12-ce131e23b510"
      },
      "source": [
        "gnr.index(\"lo-fi\")"
      ],
      "execution_count": 47,
      "outputs": [
        {
          "output_type": "execute_result",
          "data": {
            "text/plain": [
              "4"
            ]
          },
          "metadata": {
            "tags": []
          },
          "execution_count": 47
        }
      ]
    },
    {
      "cell_type": "markdown",
      "metadata": {
        "id": "7ZAd0YuoFMdj",
        "colab_type": "text"
      },
      "source": [
        "19 - Crie uma tupla de tuplas com as seguintes tuplas (15,30), (20,40) e (25,50). Como acessar o valor 40?"
      ]
    },
    {
      "cell_type": "code",
      "metadata": {
        "id": "x7yz1FnwFOsb",
        "colab_type": "code",
        "colab": {
          "base_uri": "https://localhost:8080/",
          "height": 34
        },
        "outputId": "ec2a6823-6156-4039-a120-c0bdf9204336"
      },
      "source": [
        "tup_tup = ((15,30),(20,40),(25,50))\n",
        "tup_tup[1][1]"
      ],
      "execution_count": 48,
      "outputs": [
        {
          "output_type": "execute_result",
          "data": {
            "text/plain": [
              "40"
            ]
          },
          "metadata": {
            "tags": []
          },
          "execution_count": 48
        }
      ]
    },
    {
      "cell_type": "markdown",
      "metadata": {
        "id": "DSUe2FzDFlMP",
        "colab_type": "text"
      },
      "source": [
        "20 - Acesse a tupla 'gnr' a cada dois valores, qual gêneros musicais aparecem?"
      ]
    },
    {
      "cell_type": "code",
      "metadata": {
        "id": "9J1DUU4lFo0R",
        "colab_type": "code",
        "colab": {
          "base_uri": "https://localhost:8080/",
          "height": 34
        },
        "outputId": "d3137501-bd81-47c9-fa91-0764c1b1112e"
      },
      "source": [
        "gnr[::2]"
      ],
      "execution_count": 57,
      "outputs": [
        {
          "output_type": "execute_result",
          "data": {
            "text/plain": [
              "('rock', 'sertanejo', 'lo-fi')"
            ]
          },
          "metadata": {
            "tags": []
          },
          "execution_count": 57
        }
      ]
    },
    {
      "cell_type": "markdown",
      "metadata": {
        "id": "__JMRmd8HboO",
        "colab_type": "text"
      },
      "source": [
        "21 - Crie o dicionário 'mcu' com os seguintes dados, 'Homem de Ferro':2008, 'Homem de Ferro 2':2010, 'Homem de ferro 3':2013, 'Avengers: Endgame':2019.\n",
        "\n",
        "    a - No dicionário 'mcu' quais são os valores?\n",
        "\n",
        "    b - No dicińario 'mcu' quais são as chaves?\n",
        "\n",
        "    c - Adicione ao dicionário 'mcu' os seguintes filmes: 'Avengers Infinity War':2018, 'Avengers Age of Ultron':2015.\n",
        "\n",
        "    d - Delete o filme 'Homem de Ferro 3' do dicionário 'mcu'\n",
        "\n",
        "    e - Limpe o dicionário 'mcu'"
      ]
    },
    {
      "cell_type": "code",
      "metadata": {
        "id": "XSOFi4avHiBX",
        "colab_type": "code",
        "colab": {}
      },
      "source": [
        "mcu = { 'Homem de Ferro':2008,\n",
        "        'Homem de Ferro 2':2010, \n",
        "        'Homem de Ferro 3':2013,\n",
        "        'Avengers:Endgame':2019,  \n",
        "        }"
      ],
      "execution_count": 58,
      "outputs": []
    },
    {
      "cell_type": "code",
      "metadata": {
        "id": "XgKiq3BGINZM",
        "colab_type": "code",
        "colab": {
          "base_uri": "https://localhost:8080/",
          "height": 34
        },
        "outputId": "a1c35c68-45b7-4c15-ca9f-07fbab7d4f1f"
      },
      "source": [
        "# letra a\n",
        "mcu.values()"
      ],
      "execution_count": 59,
      "outputs": [
        {
          "output_type": "execute_result",
          "data": {
            "text/plain": [
              "dict_values([2008, 2010, 2013, 2019])"
            ]
          },
          "metadata": {
            "tags": []
          },
          "execution_count": 59
        }
      ]
    },
    {
      "cell_type": "code",
      "metadata": {
        "id": "Aj9tb0kgIR14",
        "colab_type": "code",
        "colab": {
          "base_uri": "https://localhost:8080/",
          "height": 34
        },
        "outputId": "8e2dfde3-7f7e-4381-9d2e-9e0faa1760e1"
      },
      "source": [
        "# letra b\n",
        "mcu.keys()"
      ],
      "execution_count": 60,
      "outputs": [
        {
          "output_type": "execute_result",
          "data": {
            "text/plain": [
              "dict_keys(['Homem de Ferro', 'Homem de Ferro 2', 'Homem de Ferro 3', 'Avengers:Endgame'])"
            ]
          },
          "metadata": {
            "tags": []
          },
          "execution_count": 60
        }
      ]
    },
    {
      "cell_type": "code",
      "metadata": {
        "id": "sAJvg3zeIVtC",
        "colab_type": "code",
        "colab": {
          "base_uri": "https://localhost:8080/",
          "height": 119
        },
        "outputId": "7897ac57-a9f2-47af-fc1b-15672613ff84"
      },
      "source": [
        "# letra c\n",
        "mcu['Avengers Infinity War'] = 2018\n",
        "mcu['Avengers Age of Ultron'] = 2015\n",
        "mcu"
      ],
      "execution_count": 61,
      "outputs": [
        {
          "output_type": "execute_result",
          "data": {
            "text/plain": [
              "{'Avengers Age of Ultron': 2015,\n",
              " 'Avengers Infinity War': 2018,\n",
              " 'Avengers:Endgame': 2019,\n",
              " 'Homem de Ferro': 2008,\n",
              " 'Homem de Ferro 2': 2010,\n",
              " 'Homem de Ferro 3': 2013}"
            ]
          },
          "metadata": {
            "tags": []
          },
          "execution_count": 61
        }
      ]
    },
    {
      "cell_type": "code",
      "metadata": {
        "id": "roWLleIdJi4g",
        "colab_type": "code",
        "colab": {
          "base_uri": "https://localhost:8080/",
          "height": 102
        },
        "outputId": "4611a853-3266-4b4a-a5d5-f6097a7c8da2"
      },
      "source": [
        "# letra d\n",
        "del mcu['Homem de Ferro 3']\n",
        "mcu"
      ],
      "execution_count": 62,
      "outputs": [
        {
          "output_type": "execute_result",
          "data": {
            "text/plain": [
              "{'Avengers Age of Ultron': 2015,\n",
              " 'Avengers Infinity War': 2018,\n",
              " 'Avengers:Endgame': 2019,\n",
              " 'Homem de Ferro': 2008,\n",
              " 'Homem de Ferro 2': 2010}"
            ]
          },
          "metadata": {
            "tags": []
          },
          "execution_count": 62
        }
      ]
    },
    {
      "cell_type": "code",
      "metadata": {
        "id": "4oo2Cuj_Jsyq",
        "colab_type": "code",
        "colab": {}
      },
      "source": [
        "# letra e\n",
        "mcu.clear()"
      ],
      "execution_count": 65,
      "outputs": []
    },
    {
      "cell_type": "markdown",
      "metadata": {
        "id": "5kNQzfV_LcD0",
        "colab_type": "text"
      },
      "source": [
        "22 - Popule o dicionário vazio 'mcu' com as informações abaixo:\n",
        "\n",
        "'homem de ferro':{'filmes':3,'ator principal':'Robert Downey Jr.'},'Cpt.América':{'filmes':3,'ator principal':'Chris Evans'}"
      ]
    },
    {
      "cell_type": "code",
      "metadata": {
        "id": "5nwnXT_MLei7",
        "colab_type": "code",
        "colab": {}
      },
      "source": [
        "mcu = {'homem de ferro':{'filmes':3,'ator principal':'Robert Downey Jr.'},\n",
        "       'Cpt.América':{'filmes':3,'ator principal':'Chris Evans'}\n",
        "      }"
      ],
      "execution_count": 66,
      "outputs": []
    },
    {
      "cell_type": "markdown",
      "metadata": {
        "id": "aYWEzBo1R0CR",
        "colab_type": "text"
      },
      "source": [
        "23 - Acesse somente a quantidade de filmes de cada uma das chaves do dicionário MCU."
      ]
    },
    {
      "cell_type": "code",
      "metadata": {
        "id": "xS4qQsatR2vi",
        "colab_type": "code",
        "colab": {
          "base_uri": "https://localhost:8080/",
          "height": 34
        },
        "outputId": "042d2ae1-42cd-4d69-d4d9-d6f7be4bd5d0"
      },
      "source": [
        "mcu['homem de ferro']['filmes']\n"
      ],
      "execution_count": 92,
      "outputs": [
        {
          "output_type": "execute_result",
          "data": {
            "text/plain": [
              "3"
            ]
          },
          "metadata": {
            "tags": []
          },
          "execution_count": 92
        }
      ]
    },
    {
      "cell_type": "code",
      "metadata": {
        "id": "l6WFaA9D1HKf",
        "colab_type": "code",
        "colab": {
          "base_uri": "https://localhost:8080/",
          "height": 34
        },
        "outputId": "06039bcf-7cb9-4ef6-b1e0-43911bc409ab"
      },
      "source": [
        "mcu['Cpt.América']['filmes']"
      ],
      "execution_count": 93,
      "outputs": [
        {
          "output_type": "execute_result",
          "data": {
            "text/plain": [
              "3"
            ]
          },
          "metadata": {
            "tags": []
          },
          "execution_count": 93
        }
      ]
    },
    {
      "cell_type": "markdown",
      "metadata": {
        "id": "dD8EqOXYVeQ9",
        "colab_type": "text"
      },
      "source": [
        "24 - Quais são as chaves do dicionário de dicionários 'mcu'?"
      ]
    },
    {
      "cell_type": "code",
      "metadata": {
        "id": "yNg9-FWpxPtT",
        "colab_type": "code",
        "colab": {
          "base_uri": "https://localhost:8080/",
          "height": 34
        },
        "outputId": "684237d4-98c1-4434-98fc-50614da2ebeb"
      },
      "source": [
        "mcu.keys()"
      ],
      "execution_count": 87,
      "outputs": [
        {
          "output_type": "execute_result",
          "data": {
            "text/plain": [
              "dict_keys(['homem de ferro', 'Cpt.América'])"
            ]
          },
          "metadata": {
            "tags": []
          },
          "execution_count": 87
        }
      ]
    },
    {
      "cell_type": "markdown",
      "metadata": {
        "id": "2Qpb8b-pxwHS",
        "colab_type": "text"
      },
      "source": [
        "25 - Qual o tamanho do dicionário de dicionários 'mcu'?"
      ]
    },
    {
      "cell_type": "code",
      "metadata": {
        "id": "b2BR0jobyN-G",
        "colab_type": "code",
        "colab": {
          "base_uri": "https://localhost:8080/",
          "height": 34
        },
        "outputId": "ec3db787-9559-4116-b123-6a69711368a9"
      },
      "source": [
        "len(mcu)"
      ],
      "execution_count": 88,
      "outputs": [
        {
          "output_type": "execute_result",
          "data": {
            "text/plain": [
              "2"
            ]
          },
          "metadata": {
            "tags": []
          },
          "execution_count": 88
        }
      ]
    },
    {
      "cell_type": "markdown",
      "metadata": {
        "id": "j3EpA-wkyZMp",
        "colab_type": "text"
      },
      "source": [
        "26 - Escreva uma função python que receba uma lista e separe os múltiplos de 5. Ao final ela retorna a soma de todos os valores da lista de entrada que são múltiplos de 5."
      ]
    },
    {
      "cell_type": "code",
      "metadata": {
        "id": "9Uz3OiYaycAf",
        "colab_type": "code",
        "colab": {}
      },
      "source": [
        "def mult5(numeros):\n",
        "  return len(num for num in numeros if num%5==0)"
      ],
      "execution_count": 89,
      "outputs": []
    },
    {
      "cell_type": "code",
      "metadata": {
        "id": "ljq134sM1SK4",
        "colab_type": "code",
        "colab": {
          "base_uri": "https://localhost:8080/",
          "height": 130
        },
        "outputId": "01b0a272-ea52-4c10-ec90-c5c3c237c928"
      },
      "source": [
        "teste_funcao = [1:10]\n",
        "teste_funcao"
      ],
      "execution_count": 94,
      "outputs": [
        {
          "output_type": "error",
          "ename": "SyntaxError",
          "evalue": "ignored",
          "traceback": [
            "\u001b[0;36m  File \u001b[0;32m\"<ipython-input-94-c748c6cb21c6>\"\u001b[0;36m, line \u001b[0;32m1\u001b[0m\n\u001b[0;31m    teste_funcao = [1:10]\u001b[0m\n\u001b[0m                     ^\u001b[0m\n\u001b[0;31mSyntaxError\u001b[0m\u001b[0;31m:\u001b[0m invalid syntax\n"
          ]
        }
      ]
    },
    {
      "cell_type": "markdown",
      "metadata": {
        "id": "WSdeE3n128dR",
        "colab_type": "text"
      },
      "source": [
        "\n",
        "\n",
        "\n",
        "27 - Escreva uma função para verificar se uma palavra é um palíndromo e retorne 1 em casos positivos e zero em casos negativos.\n",
        "\n",
        "28 - Escreva uma função que receba uma lista crie um dicionário com a contagem dos valores dessa lista.\n",
        "\n",
        "29 - Escreva uma função que receba uma lista de listas, itere sobre cada lista, some seus valores, gere uma segunda lista e descubra o desvio padrão dela.\n",
        "\n",
        "entrada : [[12,12,5,6,3,6,8,5,5,5],[3,3,3,3,4,4,15,89,20,20],[15,15,15,20,30,35,35,35,15,15],[10,10,10,10,15,15,15,15],[5,5,2,2],[8,8,89,89,898,1000]]\n",
        "\n",
        "30 - Escreva uma função que gere uma sequencia de Fibonnaci. O único parâmetro é a quantidade de números que devem gerados. (Fibonnaci é uma sequencia onde o próximo número é a soma dos dois imediatamente anteriores a ele).\n",
        "\n",
        "31 - Monte uma função que vai calcular e comparar os custos de uma viagem para 3 cidades diferentes e que, ao final, irá recomendar qual é o destino mais barato. Essa função deve receber somente uma parâmetro 'noites'. A partir desse argumento a função deve calcular o custo total de viagem para cada uma das cidades. Utilize os dados abaixo.\n",
        "\n",
        "|   Cidade  | Hotel/noite | Alimentação/noite | Locomoção/noite |\n",
        "|:---------:|:-----------:|:-----------------:|:---------------:|\n",
        "| Abu Dhabi |     1300    |        200        |       150       |\n",
        "|  Genebra  |     1200    |        150        |        80       |\n",
        "|    Oslo   |     1000    |        250        |       100       |\n",
        "\n",
        "32 - Defina uma função que calcule o z-score de todos os valores de uma lista e encontre quem são os outliers (z-score abaixo de -3 e acima de 3). Use a lista abaixo:\n",
        "\n",
        "lista8 = [201, 102, -5558, 232, 213, -9249, -247, 1183, 211, 7598, 130, 61, 192, 207, -46, 170, 116, 106, 225, 75, 138, 107, 108, -33, -9, 170, 147, 175, 137, -5, -9, 16600, 171, 183, 147, 171, 143, 104, 7, 227, 127, 173, 178, 194, 110, 20, 99, 11, 41, 242, 250, 62, 230, -32, 239, 241, 30, -35, 132, 214, 58, 90, -12, -24, 177, 116, 53, -26, 144, 29, 41, 217, 114, 109, -15, 32, 110, 162, 221, -16, 210, 87, 76, 3100, 73, 174, 194, 93, -9, 241, 234, 79, -4800, -22, -41, 224, 249, 114, -29, 79]\n",
        "\n",
        "33 - Defina uma função que recebe uma lista aplica a fórmula abaixo a cada um dos valores e retorna uma lista com o resultado.\n",
        "\n",
        "![minmax](https://github.com/raquelcreis/CastoresIndomaveis/blob/master/imgs/minmax.jpg?raw=1)\n",
        "\n",
        "\n",
        "34 - Escreva um código que dê print em todos os quadrados dos valores de 0 a 10.\n",
        "\n",
        "35 - Escreva um código que encontre a soma de todos os valores pares de 0 a 10.\n",
        "\n",
        "37 - Construa uma função que receba 3 valores (a,b,c) e retorne uma lista com todos os valores entre 'a' e 'b' que são múltiplos de 'c'. Utilize os valores abaixo (10,500,23).\n",
        "\n",
        "38 -Escreva um código para ter o seguinte output:\n",
        "    \n",
        "    1 ---- 99\n",
        "    2 ---- 98\n",
        "    3 ---- 97\n",
        "    4 ---- 96\n",
        "    .\n",
        "    .\n",
        "    .\n",
        "    99 ---- 1\n",
        "    \n",
        "39 - Construa uma função que receba um input e printe um padrão conforme exemplo.\n",
        "\n",
        "input = 5\n",
        "\n",
        "output:\n",
        "\n",
        "+<br>\n",
        "++<br>\n",
        "+++<br>\n",
        "++++<br>\n",
        "+++++\n",
        "\n",
        "\n",
        "40 - Itere sobre a lista abaixo e crie uma nova lista com todos os nomes em letras maisculuas e com underline ao invés de espaços. Dica: utilize compreensão de listas.\n",
        "\n",
        "lista_nomes = ['Geralt de Rívia','Yennefer de Vengerberd','Triss Marigold','Emhyr var Emreis','Jaskier o bardo']\n",
        "\n",
        "41 - Voce é um jogador de tênis. Para decidir se você vai treinar hoje você deve avaliar duas coisas: o tempo e a temperatura. Crie um programa para saber se você deve ou não treinar hoje de acordo com as seguintes especificações: \n",
        "\n",
        "- Tempo: chuvoso -> não jogar\n",
        "- Tempo: ensolarado ou nublado -> jogar\n",
        "- Temperatura maior ou igual a 15 graus e tempo ensolarado ou nublado -> jogar\n",
        "- Temperatura menor que 15 graus e tempo ensolarado ou nublado -> não jogar\n",
        "\n",
        "Se o dia estiver ensolarado e a temperatura for de 16 graus. Você irá ou não jogar?\n",
        "\n",
        "42 - Construa usando um programa que represente a seguinte árvore abaixo:\n",
        "\n",
        "![arvore](https://github.com/raquelcreis/CastoresIndomaveis/blob/master/imgs/arvore.png?raw=1)\n",
        "\n",
        "Quando x = 'bacon', y = [1,2,3,4,5,6,7,8,9,10,'a','b','c','d','e','f','g','h'] e z = 15. Qual valor o programa deverá printar?\n",
        "\n",
        "Quando x = 'bacon', y = [1,2,3,4], e z = 20. Qual valor o programa deverá printar?\n",
        "\n",
        "Quando x='couxeiro', y = [[1,2,3,4,5],[1,2,3,4,5],[1,2,3,4,5]] e z = 21. Qual valor o programa deverá printar?\n",
        "\n",
        "43 - Use a função zip para juntar as duas listas abaixo em uma tupla.\n",
        "\n",
        "nomes = ['nasser','joao','mateus']\n",
        "salarios = [1000,1500,5000]\n",
        "\n",
        "44 - Considera as duas listas abaixo, a primeira demonstra o valor real de venda de uma casa e a segunda demonstra o valor recomendado por um modelo de regressão. Gere uma terceira lista com o resíduo de cada ponto. O resíduo é o resultado da subtração entre o valor real e o valor predito para determinado ponto.\n",
        "\n",
        "real = [150358,368525,532152,144789]\n",
        "predito = [162122,365255,533200,185789]\n",
        "\n",
        "45 - Utilize a função 'filter' do python para filtrar somente os valores positivos do resultado da questão 44.\n",
        "\n",
        "46 - Ainda usando o resultado da questão 44 calcule, sem utilizar bibliotecas, o RMSE do valor predito. Referência: https://tinyurl.com/yd9ljcmj"
      ]
    }
  ]
}